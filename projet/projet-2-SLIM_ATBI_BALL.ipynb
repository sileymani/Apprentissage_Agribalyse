{
 "cells": [
  {
   "attachments": {},
   "cell_type": "markdown",
   "metadata": {},
   "source": [
    "IA & Data science (LU3IN0226) -- 2022-2023\n",
    "--------\n",
    "*&copy; Equipe pédagogique: Christophe Marsala, Olivier Schwander, Jean-Noël Vittaut.*"
   ]
  },
  {
   "attachments": {},
   "cell_type": "markdown",
   "metadata": {},
   "source": [
    "<font size=\"+1\" color=\"RED\"><b>[Q]</b></font> <font size=\"+1\"><b>Indiquer dans la boîte ci-dessous vos noms et prénoms :</b></font>"
   ]
  },
  {
   "attachments": {},
   "cell_type": "markdown",
   "metadata": {},
   "source": [
    "N'Diaye BALL, Tarek ATBI, Jad SLIM"
   ]
  },
  {
   "attachments": {},
   "cell_type": "markdown",
   "metadata": {},
   "source": [
    "Ce projet peut être fait en binôme (et c'est fortement conseillé) ou tout seul.\n",
    "\n",
    "Le nom de chaque membre du binôme doit être indiqué, et un seul rendu sur un des deux comptes Moodle doit être fait.\n",
    "\n",
    "Les groupes de plus de 2 personnes ne sont pas autorisés."
   ]
  },
  {
   "attachments": {},
   "cell_type": "markdown",
   "metadata": {},
   "source": [
    "<font color=\"RED\" size=\"+1\"><b>[Q]</b></font> **Renommer ce fichier ipython**\n",
    "\n",
    "Tout en haut de cette page, cliquer sur <tt>projet-2</tt> et rajouter à la suite de <tt>projet-2</tt> les noms des membres du binômes séparés par un tiret.\n",
    "\n",
    "<font color=\"RED\" size=\"+1\">IMPORTANT: soumission de votre fichier final</font>\n",
    "\n",
    "**Nom à donner au notebook** : *projet-2-Nom1_Nom2.ipynb* \n",
    "- *Nom1* et *Nom2* : noms des membres du binôme\n",
    "\n",
    "**Le compte-rendu doit être rendu sur la page Moodle.**"
   ]
  },
  {
   "attachments": {},
   "cell_type": "markdown",
   "metadata": {},
   "source": [
    "# Projet 2 - avril-mai 2023\n",
    "\n",
    "\n",
    "<font size=\"+1\" color=\"RED\"><b>Date de rendu : lundi 22 mai 2023, avant 18h</b></font>\n",
    "    \n",
    "<b>Attention! le site Moodle ferme à 18h pile !</b> prévoyez de vous y connecter au moins 15mn avant la fermeture...\n",
    "\n",
    "Vous devez compléter ce notebook en rajoutant vos expérimentations avec vos algorithmes d'apprentissage sur les données fournies dans le répertoire `data`.\n",
    "\n",
    "## Travail à faire\n",
    "\n",
    "Appliquer les algorithmes d'apprentissage vus tout au long du semestre sur les données afin de mettre en évidence des résultats intéressants.\n",
    "Deux problèmes, au moins, doivent être traités:\n",
    "- un problème d'apprentissage supervisé\n",
    "- un problème d'apprentissage non supervisé\n",
    "\n",
    "\n",
    "## Travail à rendre\n",
    "Ce qui doit être remis avant la date limite : un fichier archive (`.tar`, `.tgz`, ou `.zip` uniquement) contenant:\n",
    "- ce notebook complété. Il doit pouvoir être exécuté sans autre apport (pensez à vous en assurer avant de le rendre). \n",
    "- votre librairie iads sous la forme d'une archive avec votre répertoire `iads/` contenant tous les fichiers nécessaires \n",
    "- un fichier PDF dont le nom est de la forme: *projet-1-Nom1_Nom2.pdf* qui correspond à un poster décrivant l'ensemble des expérimentations menées et les résultats obtenus.\n",
    "\n",
    "\n",
    "<b>IMPORTANT</b>: \n",
    "- Les fichiers de données ne doivent pas être inclus dans votre archive ! \n",
    "- Pensez à vérifier que votre archive contient bien tous les fichiers demandés et QUE les fichiers demandés.\n",
    "\n",
    "## Soutenance des projets\n",
    "La soutenance aura lieu le <font size=\"+1\" color=\"RED\">**mercredi 24 mai 2023**</font>, à partir de 14h. Un ordre de passage ainsi que la salle de TME où aura lieu les soutenances seront affichées sur le Moodle la veille.\n",
    "\n",
    "La <b>soutenance est obligatoire</b> : tout projet pour lequel une soutenance n'a pas eu lieu sera noté $0$.\n",
    "\n",
    "Modalités de la soutenance:\n",
    "- durée de la soutenance : 10 mn pour un binôme, 7 mn pour un monôme ;\n",
    "- elle a lieu devant un ordinateur avec le notebook et le poster comme support ;\n",
    "    - elle commence par une rapide présentation des expérimentations réalisées et résultats obtenus (max. 4 à 5mns)\n",
    "    - puis elle se poursuit par des questions posées individuellement aux membres du binômes sur les expériences ou le code python réalisé.\n",
    "- la note de soutenance est individuelle pour chaque membre d'un binôme.\n",
    "\n",
    "\n"
   ]
  },
  {
   "attachments": {},
   "cell_type": "markdown",
   "metadata": {},
   "source": [
    "**Très important** : les fichiers de données doivent être placés de façon à respecter la structure de fichiers suivante :\n",
    "\n",
    "          --iads/\n",
    "              -- Classifiers.py\n",
    "              -- etc.\n",
    "          -- projet/\n",
    "              -- ce_notebook.ipynb\n",
    "              -- data/\n",
    "                  -- AGRIBALYSE3-ingredients.csv\n",
    "                  -- AGRIBALYSE3-etapes.csv\n",
    "                  -- AGRIBALYSE3-synthese.csv\n",
    "\n",
    "\n",
    "Dans le notebook que vous rendrez, le chargement des fichiers de données considèrera donc cette arborescence.\n"
   ]
  },
  {
   "attachments": {},
   "cell_type": "markdown",
   "metadata": {},
   "source": [
    "# Les données Agribalyse (version 3.1)\n",
    "\n",
    "Les données sont issues des données publiques du site de l'ADEME: https://agribalyse.ademe.fr/\n",
    "Il est conseillé de parcourir la documentation de ces données sur le site ci-dessus pour se familiariser avec les différentes informations qu'elles fournissent.\n",
    "\n",
    "Pour ce projet, vous travaillerez sur les données sur les produits alimentaires dont la version originale est visible ici : https://doc.agribalyse.fr/documentation/acces-donnees\n",
    "\n",
    "Si vous n'arrivez pas à télécharger ou à ouvrir ce fichier, des versions de ce fichier au format libreoffice et au format Excel 97 sont fournies dans l'archive `data_tableur`. Il est conseillé de regarder un de ces fichiers car vous y trouverez des informations complémentaires sur les noms des colonnes des 3 fichiers CSV de `data` décrits ci-dessous.\n",
    "\n",
    "Pour vous aider à manipuler les données nous vous fournissons dans l'archive `data` : les 3 tables du fichiers sont fournies sous la forme de 3 fichiers CSV directement lisibles par la commande `read_csv` de Pandas (le séparateur de colonnes est le `';'`). Ce sont ces 3 fichiers à utiliser dans votre notebook. Un exemple de chargement est donné plus loin dans ce notebook. Les fichiers sont:\n",
    "- AGRIBALYSE3-ingredients.csv\n",
    "- AGRIBALYSE3-etapes.csv\n",
    "- AGRIBALYSE3-synthese.csv\n",
    "\n",
    "**Remarque**: les données Agribalyse de 2021 ont fait l'objet du projet de l'an dernier, cette année c'est une nouvelle version étendue de ces données qui sont utilisées pour ce projet, nous attendons donc des analyses qui tirent partie des nouveautés de cette nouvelle version."
   ]
  },
  {
   "attachments": {},
   "cell_type": "markdown",
   "metadata": {},
   "source": [
    "## Exemples"
   ]
  },
  {
   "cell_type": "code",
   "execution_count": 76,
   "metadata": {},
   "outputs": [
    {
     "name": "stdout",
     "output_type": "stream",
     "text": [
      "The autoreload extension is already loaded. To reload it, use:\n",
      "  %reload_ext autoreload\n"
     ]
    }
   ],
   "source": [
    "# Importation des librairies standards:\n",
    "import numpy as np\n",
    "import pandas as pd\n",
    "import matplotlib.pyplot as plt\n",
    "import graphviz as gv\n",
    "import time\n",
    "import copy\n",
    "from sklearn.metrics import confusion_matrix, roc_curve, roc_auc_score\n",
    "import seaborn as sns\n",
    "%matplotlib inline  \n",
    "\n",
    "# Importation de votre librairie iads:\n",
    "# La ligne suivante permet de préciser le chemin d'accès à la librairie iads\n",
    "import sys\n",
    "sys.path.append('../')   # iads doit être dans le répertoire frère du répertoire courant !\n",
    "\n",
    "# Importation de la librairie iads\n",
    "import iads as iads\n",
    "\n",
    "# importation de Classifiers\n",
    "from iads import Classifiers as cl\n",
    "\n",
    "# importation de utils\n",
    "from iads import utils as ut\n",
    "\n",
    "# importation de evaluation\n",
    "from iads import evaluation as ev\n",
    "\n",
    "# importation de Clustering\n",
    "from iads import Clustering as clust\n",
    "\n",
    "# commande TRES utile pour recharger automatiquement le code que vous modifiez dans les modules\n",
    "%load_ext autoreload\n",
    "%autoreload 2"
   ]
  },
  {
   "cell_type": "code",
   "execution_count": 77,
   "metadata": {},
   "outputs": [
    {
     "name": "stdout",
     "output_type": "stream",
     "text": [
      "Nombre de lignes:  2517\n",
      "Nombre de colonnes:  29\n"
     ]
    }
   ],
   "source": [
    "data_synthese = pd.read_csv(\"data/AGRIBALYSE3-synthese.csv\", sep=';') \n",
    "data_synthese.columns\n",
    "print(\"Nombre de lignes: \",len(data_synthese))\n",
    "print(\"Nombre de colonnes: \",len(data_synthese.columns))"
   ]
  },
  {
   "cell_type": "code",
   "execution_count": 78,
   "metadata": {},
   "outputs": [
    {
     "name": "stdout",
     "output_type": "stream",
     "text": [
      "col  0 :  Code AGB\n",
      "col  1 :  Code CIQUAL\n",
      "col  2 :  Groupe d'aliment\n",
      "col  3 :  Sous-groupe d'aliment\n",
      "col  4 :  Nom du Produit en Français\n",
      "col  5 :  LCI Name\n",
      "col  6 :  code saison\n",
      "col  7 :  code avion\n",
      "col  8 :  Livraison\n",
      "col  9 :  Matériau d'emballage\n",
      "col  10 :  Préparation\n",
      "col  11 :  DQR \tmoyenne =  2.7681644815256257\n",
      "col  12 :  Score unique EF 3.1 \tmoyenne =  0.6889596344854987\n",
      "col  13 :  Changement climatique \tmoyenne =  5.420519666269368\n",
      "col  14 :  Appauvrissement de la couche d'ozone \tmoyenne =  5.383361620977354e-07\n",
      "col  15 :  Rayonnements ionisants \tmoyenne =  1.016821692491061\n",
      "col  16 :  Formation photochimique d'ozone \tmoyenne =  0.021625918156535556\n",
      "col  17 :  Particules fines \tmoyenne =  5.735583075089393e-07\n",
      "col  18 :  Effets toxicologiques sur la santé humaine : substances non-cancérogènes \tmoyenne =  1.0743762415574097e-07\n",
      "col  19 :  Effets toxicologiques sur la santé humaine : substances cancérogènes \tmoyenne =  3.8854543504171635e-09\n",
      "col  20 :  Acidification terrestre et eaux douces \tmoyenne =  0.07895298053237983\n",
      "col  21 :  Eutrophisation eaux douces \tmoyenne =  0.0008419094557012317\n",
      "col  22 :  Eutrophisation marine \tmoyenne =  0.028193528009535167\n",
      "col  23 :  Eutrophisation terrestre \tmoyenne =  0.31052913388955106\n",
      "col  24 :  Écotoxicité pour écosystèmes aquatiques d'eau douce \tmoyenne =  54.213323798172425\n",
      "col  25 :  Utilisation du sol \tmoyenne =  328.598126340882\n",
      "col  26 :  Épuisement des ressources eau \tmoyenne =  5.726230393325387\n",
      "col  27 :  Épuisement des ressources énergétiques \tmoyenne =  49.79915772745332\n",
      "col  28 :  Épuisement des ressources minéraux \tmoyenne =  2.2019833929280892e-05\n"
     ]
    }
   ],
   "source": [
    "for i in range(0,len(data_synthese.columns)):\n",
    "    if i>10:\n",
    "        print(\"col \",i,\": \",data_synthese.columns[i], \"\\tmoyenne = \",data_synthese[data_synthese.columns[i]].mean())\n",
    "    else:\n",
    "        print(\"col \",i,\": \",data_synthese.columns[i])"
   ]
  },
  {
   "cell_type": "code",
   "execution_count": 79,
   "metadata": {},
   "outputs": [
    {
     "data": {
      "text/html": [
       "<div>\n",
       "<style scoped>\n",
       "    .dataframe tbody tr th:only-of-type {\n",
       "        vertical-align: middle;\n",
       "    }\n",
       "\n",
       "    .dataframe tbody tr th {\n",
       "        vertical-align: top;\n",
       "    }\n",
       "\n",
       "    .dataframe thead th {\n",
       "        text-align: right;\n",
       "    }\n",
       "</style>\n",
       "<table border=\"1\" class=\"dataframe\">\n",
       "  <thead>\n",
       "    <tr style=\"text-align: right;\">\n",
       "      <th></th>\n",
       "      <th>Code AGB</th>\n",
       "      <th>Code CIQUAL</th>\n",
       "      <th>Groupe d'aliment</th>\n",
       "      <th>Sous-groupe d'aliment</th>\n",
       "      <th>Nom du Produit en Français</th>\n",
       "      <th>LCI Name</th>\n",
       "      <th>code saison</th>\n",
       "      <th>code avion</th>\n",
       "      <th>Livraison</th>\n",
       "      <th>Matériau d'emballage</th>\n",
       "      <th>...</th>\n",
       "      <th>Effets toxicologiques sur la santé humaine : substances cancérogènes</th>\n",
       "      <th>Acidification terrestre et eaux douces</th>\n",
       "      <th>Eutrophisation eaux douces</th>\n",
       "      <th>Eutrophisation marine</th>\n",
       "      <th>Eutrophisation terrestre</th>\n",
       "      <th>Écotoxicité pour écosystèmes aquatiques d'eau douce</th>\n",
       "      <th>Utilisation du sol</th>\n",
       "      <th>Épuisement des ressources eau</th>\n",
       "      <th>Épuisement des ressources énergétiques</th>\n",
       "      <th>Épuisement des ressources minéraux</th>\n",
       "    </tr>\n",
       "  </thead>\n",
       "  <tbody>\n",
       "    <tr>\n",
       "      <th>0</th>\n",
       "      <td>11084</td>\n",
       "      <td>11084</td>\n",
       "      <td>aides culinaires et ingrédients divers</td>\n",
       "      <td>algues</td>\n",
       "      <td>Agar (algue), cru</td>\n",
       "      <td>Seaweed, agar, raw</td>\n",
       "      <td>2</td>\n",
       "      <td>0</td>\n",
       "      <td>Ambiant (long)</td>\n",
       "      <td>LDPE</td>\n",
       "      <td>...</td>\n",
       "      <td>6.480000e-09</td>\n",
       "      <td>0.09970</td>\n",
       "      <td>0.001870</td>\n",
       "      <td>0.01330</td>\n",
       "      <td>0.12700</td>\n",
       "      <td>44.60</td>\n",
       "      <td>26.5</td>\n",
       "      <td>3.10</td>\n",
       "      <td>315.00</td>\n",
       "      <td>0.000088</td>\n",
       "    </tr>\n",
       "    <tr>\n",
       "      <th>1</th>\n",
       "      <td>11023</td>\n",
       "      <td>11023</td>\n",
       "      <td>aides culinaires et ingrédients divers</td>\n",
       "      <td>herbes</td>\n",
       "      <td>Ail séché, poudre</td>\n",
       "      <td>Garlic, powder, dried</td>\n",
       "      <td>2</td>\n",
       "      <td>0</td>\n",
       "      <td>Ambiant (long)</td>\n",
       "      <td>Verre</td>\n",
       "      <td>...</td>\n",
       "      <td>4.660000e-10</td>\n",
       "      <td>0.00622</td>\n",
       "      <td>0.000124</td>\n",
       "      <td>0.00232</td>\n",
       "      <td>0.01270</td>\n",
       "      <td>5.83</td>\n",
       "      <td>20.2</td>\n",
       "      <td>2.52</td>\n",
       "      <td>12.70</td>\n",
       "      <td>0.000007</td>\n",
       "    </tr>\n",
       "    <tr>\n",
       "      <th>2</th>\n",
       "      <td>11000</td>\n",
       "      <td>11000</td>\n",
       "      <td>aides culinaires et ingrédients divers</td>\n",
       "      <td>herbes</td>\n",
       "      <td>Ail, cru</td>\n",
       "      <td>Garlic, fresh</td>\n",
       "      <td>2</td>\n",
       "      <td>0</td>\n",
       "      <td>Ambiant (long)</td>\n",
       "      <td>Pas d'emballage</td>\n",
       "      <td>...</td>\n",
       "      <td>2.980000e-10</td>\n",
       "      <td>0.00200</td>\n",
       "      <td>0.000068</td>\n",
       "      <td>0.00212</td>\n",
       "      <td>0.00628</td>\n",
       "      <td>4.09</td>\n",
       "      <td>18.5</td>\n",
       "      <td>3.02</td>\n",
       "      <td>6.23</td>\n",
       "      <td>0.000004</td>\n",
       "    </tr>\n",
       "    <tr>\n",
       "      <th>3</th>\n",
       "      <td>11093</td>\n",
       "      <td>11093</td>\n",
       "      <td>aides culinaires et ingrédients divers</td>\n",
       "      <td>herbes</td>\n",
       "      <td>Aneth, frais</td>\n",
       "      <td>Dill, fresh</td>\n",
       "      <td>2</td>\n",
       "      <td>0</td>\n",
       "      <td>Ambiant (long)</td>\n",
       "      <td>LDPE</td>\n",
       "      <td>...</td>\n",
       "      <td>6.190000e-10</td>\n",
       "      <td>0.00811</td>\n",
       "      <td>0.000203</td>\n",
       "      <td>0.00405</td>\n",
       "      <td>0.03120</td>\n",
       "      <td>5.68</td>\n",
       "      <td>36.4</td>\n",
       "      <td>5.29</td>\n",
       "      <td>12.60</td>\n",
       "      <td>0.000005</td>\n",
       "    </tr>\n",
       "    <tr>\n",
       "      <th>4</th>\n",
       "      <td>20995</td>\n",
       "      <td>20995</td>\n",
       "      <td>aides culinaires et ingrédients divers</td>\n",
       "      <td>algues</td>\n",
       "      <td>Ao-nori (Enteromorpha sp.), séchée ou déshydratée</td>\n",
       "      <td>Sea lettuce (Enteromorpha sp.), dried or dehyd...</td>\n",
       "      <td>2</td>\n",
       "      <td>0</td>\n",
       "      <td>Ambiant (long)</td>\n",
       "      <td>LDPE</td>\n",
       "      <td>...</td>\n",
       "      <td>6.480000e-09</td>\n",
       "      <td>0.09970</td>\n",
       "      <td>0.001870</td>\n",
       "      <td>0.01330</td>\n",
       "      <td>0.12700</td>\n",
       "      <td>44.60</td>\n",
       "      <td>26.5</td>\n",
       "      <td>3.10</td>\n",
       "      <td>315.00</td>\n",
       "      <td>0.000088</td>\n",
       "    </tr>\n",
       "  </tbody>\n",
       "</table>\n",
       "<p>5 rows × 29 columns</p>\n",
       "</div>"
      ],
      "text/plain": [
       "  Code AGB  Code CIQUAL                        Groupe d'aliment  \\\n",
       "0    11084        11084  aides culinaires et ingrédients divers   \n",
       "1    11023        11023  aides culinaires et ingrédients divers   \n",
       "2    11000        11000  aides culinaires et ingrédients divers   \n",
       "3    11093        11093  aides culinaires et ingrédients divers   \n",
       "4    20995        20995  aides culinaires et ingrédients divers   \n",
       "\n",
       "  Sous-groupe d'aliment                         Nom du Produit en Français  \\\n",
       "0                algues                                  Agar (algue), cru   \n",
       "1                herbes                                  Ail séché, poudre   \n",
       "2                herbes                                           Ail, cru   \n",
       "3                herbes                                       Aneth, frais   \n",
       "4                algues  Ao-nori (Enteromorpha sp.), séchée ou déshydratée   \n",
       "\n",
       "                                            LCI Name  code saison  code avion  \\\n",
       "0                                 Seaweed, agar, raw            2           0   \n",
       "1                              Garlic, powder, dried            2           0   \n",
       "2                                      Garlic, fresh            2           0   \n",
       "3                                        Dill, fresh            2           0   \n",
       "4  Sea lettuce (Enteromorpha sp.), dried or dehyd...            2           0   \n",
       "\n",
       "        Livraison Matériau d'emballage  ...  \\\n",
       "0  Ambiant (long)                 LDPE  ...   \n",
       "1  Ambiant (long)                Verre  ...   \n",
       "2  Ambiant (long)      Pas d'emballage  ...   \n",
       "3  Ambiant (long)                 LDPE  ...   \n",
       "4  Ambiant (long)                 LDPE  ...   \n",
       "\n",
       "  Effets toxicologiques sur la santé humaine : substances cancérogènes  \\\n",
       "0                                       6.480000e-09                     \n",
       "1                                       4.660000e-10                     \n",
       "2                                       2.980000e-10                     \n",
       "3                                       6.190000e-10                     \n",
       "4                                       6.480000e-09                     \n",
       "\n",
       "   Acidification terrestre et eaux douces  Eutrophisation eaux douces  \\\n",
       "0                                 0.09970                    0.001870   \n",
       "1                                 0.00622                    0.000124   \n",
       "2                                 0.00200                    0.000068   \n",
       "3                                 0.00811                    0.000203   \n",
       "4                                 0.09970                    0.001870   \n",
       "\n",
       "   Eutrophisation marine  Eutrophisation terrestre  \\\n",
       "0                0.01330                   0.12700   \n",
       "1                0.00232                   0.01270   \n",
       "2                0.00212                   0.00628   \n",
       "3                0.00405                   0.03120   \n",
       "4                0.01330                   0.12700   \n",
       "\n",
       "   Écotoxicité pour écosystèmes aquatiques d'eau douce  Utilisation du sol  \\\n",
       "0                                              44.60                  26.5   \n",
       "1                                               5.83                  20.2   \n",
       "2                                               4.09                  18.5   \n",
       "3                                               5.68                  36.4   \n",
       "4                                              44.60                  26.5   \n",
       "\n",
       "   Épuisement des ressources eau  Épuisement des ressources énergétiques  \\\n",
       "0                           3.10                                  315.00   \n",
       "1                           2.52                                   12.70   \n",
       "2                           3.02                                    6.23   \n",
       "3                           5.29                                   12.60   \n",
       "4                           3.10                                  315.00   \n",
       "\n",
       "   Épuisement des ressources minéraux  \n",
       "0                            0.000088  \n",
       "1                            0.000007  \n",
       "2                            0.000004  \n",
       "3                            0.000005  \n",
       "4                            0.000088  \n",
       "\n",
       "[5 rows x 29 columns]"
      ]
     },
     "execution_count": 79,
     "metadata": {},
     "output_type": "execute_result"
    }
   ],
   "source": [
    "data_synthese.head()"
   ]
  },
  {
   "cell_type": "code",
   "execution_count": 80,
   "metadata": {},
   "outputs": [
    {
     "name": "stdout",
     "output_type": "stream",
     "text": [
      "Nombre de lignes:  2517\n",
      "Nombre de colonnes:  132\n"
     ]
    }
   ],
   "source": [
    "data_etapes = pd.read_csv(\"data/AGRIBALYSE3-etapes.csv\", sep=';') \n",
    "data_etapes.columns\n",
    "print(\"Nombre de lignes: \",len(data_etapes))\n",
    "print(\"Nombre de colonnes: \",len(data_etapes.columns))"
   ]
  },
  {
   "cell_type": "code",
   "execution_count": 81,
   "metadata": {
    "scrolled": false
   },
   "outputs": [
    {
     "name": "stdout",
     "output_type": "stream",
     "text": [
      "col  0 :  Code AGB\n",
      "col  1 :  Code CIQUAL\n",
      "col  2 :  Groupe d aliment\n",
      "col  3 :  Sous-groupe d aliment\n",
      "col  4 :  Nom du Produit en Français\n",
      "col  5 :  LCI Name\n",
      "col  6 :  DQR\n",
      "col  7 :  Nom et code\n",
      "col  8 :  Agriculture\n",
      "col  9 :  Transformation\n",
      "col  10 :  Emballage\n",
      "col  11 :  Transport\n",
      "col  12 :  Supermarché et distribution\n",
      "col  13 :  Consommation\n",
      "col  14 :  Total\n",
      "col  15 :  Agriculture.1\n",
      "col  16 :  Transformation.1\n",
      "col  17 :  Emballage.1\n",
      "col  18 :  Transport.1\n",
      "col  19 :  Supermarché et distribution.1\n",
      "col  20 :  Consommation.1\n",
      "col  21 :  Total.1\n",
      "col  22 :  Agriculture.2\n",
      "col  23 :  Transformation.2\n",
      "col  24 :  Emballage.2\n",
      "col  25 :  Transport.2\n",
      "col  26 :  Supermarché et distribution.2\n",
      "col  27 :  Consommation.2\n",
      "col  28 :  Total.2\n",
      "col  29 :  Agriculture.3\n",
      "col  30 :  Transformation.3\n",
      "col  31 :  Emballage.3\n",
      "col  32 :  Transport.3\n",
      "col  33 :  Supermarché et distribution.3\n",
      "col  34 :  Consommation.3\n",
      "col  35 :  Total.3\n",
      "col  36 :  Agriculture.4\n",
      "col  37 :  Transformation.4\n",
      "col  38 :  Emballage.4\n",
      "col  39 :  Transport.4\n",
      "col  40 :  Supermarché et distribution.4\n",
      "col  41 :  Consommation.4\n",
      "col  42 :  Total.4\n",
      "col  43 :  Agriculture.5\n",
      "col  44 :  Transformation.5\n",
      "col  45 :  Emballage.5\n",
      "col  46 :  Transport.5\n",
      "col  47 :  Supermarché et distribution.5\n",
      "col  48 :  Consommation.5\n",
      "col  49 :  Total.5\n",
      "col  50 :  Agriculture.6\n",
      "col  51 :  Transformation.6\n",
      "col  52 :  Emballage.6\n",
      "col  53 :  Transport.6\n",
      "col  54 :  Supermarché et distribution.6\n",
      "col  55 :  Consommation.6\n",
      "col  56 :  Total.6\n",
      "col  57 :  Agriculture.7\n",
      "col  58 :  Transformation.7\n",
      "col  59 :  Emballage.7\n",
      "col  60 :  Transport.7\n",
      "col  61 :  Supermarché et distribution.7\n",
      "col  62 :  Consommation.7\n",
      "col  63 :  Total.7\n",
      "col  64 :  Agriculture.8\n",
      "col  65 :  Transformation.8\n",
      "col  66 :  Emballage.8\n",
      "col  67 :  Transport.8\n",
      "col  68 :  Supermarché et distribution.8\n",
      "col  69 :  Consommation.8\n",
      "col  70 :  Total.8\n",
      "col  71 :  Agriculture.9\n",
      "col  72 :  Transformation.9\n",
      "col  73 :  Emballage.9\n",
      "col  74 :  Transport.9\n",
      "col  75 :  Supermarché et distribution.9\n",
      "col  76 :  Consommation.9\n",
      "col  77 :  Total.9\n",
      "col  78 :  Agriculture.10\n",
      "col  79 :  Transformation.10\n",
      "col  80 :  Emballage.10\n",
      "col  81 :  Transport.10\n",
      "col  82 :  Supermarché et distribution.10\n",
      "col  83 :  Consommation.10\n",
      "col  84 :  Total.10\n",
      "col  85 :  Agriculture.11\n",
      "col  86 :  Transformation.11\n",
      "col  87 :  Emballage.11\n",
      "col  88 :  Transport.11\n",
      "col  89 :  Supermarché et distribution.11\n",
      "col  90 :  Consommation.11\n",
      "col  91 :  Total.11\n",
      "col  92 :  Agriculture.12\n",
      "col  93 :  Transformation.12\n",
      "col  94 :  Emballage.12\n",
      "col  95 :  Transport.12\n",
      "col  96 :  Supermarché et distribution.12\n",
      "col  97 :  Consommation.12\n",
      "col  98 :  Total.12\n",
      "col  99 :  Agriculture.13\n",
      "col  100 :  Transformation.13\n",
      "col  101 :  Emballage.13\n",
      "col  102 :  Transport.13\n",
      "col  103 :  Supermarché et distribution.13\n",
      "col  104 :  Consommation.13\n",
      "col  105 :  Total.13\n",
      "col  106 :  Agriculture.14\n",
      "col  107 :  Transformation.14\n",
      "col  108 :  Emballage.14\n",
      "col  109 :  Transport.14\n",
      "col  110 :  Supermarché et distribution.14\n",
      "col  111 :  Consommation.14\n",
      "col  112 :  Total.14\n",
      "col  113 :  Agriculture.15\n",
      "col  114 :  Transformation.15\n",
      "col  115 :  Emballage.15\n",
      "col  116 :  Transport.15\n",
      "col  117 :  Supermarché et distribution.15\n",
      "col  118 :  Consommation.15\n",
      "col  119 :  Total.15\n",
      "col  120 :  Agriculture.16\n",
      "col  121 :  Transformation.16\n",
      "col  122 :  Emballage.16\n",
      "col  123 :  Transport.16\n",
      "col  124 :  Supermarché et distribution.16\n",
      "col  125 :  Consommation.16\n",
      "col  126 :  Total.16\n",
      "col  127 :  DQR Overall\n",
      "col  128 :  P\n",
      "col  129 :  TiR\n",
      "col  130 :  GR\n",
      "col  131 :  TeR\n"
     ]
    }
   ],
   "source": [
    "for i in range(0,len(data_etapes.columns)):\n",
    "    print(\"col \",i,\": \",data_etapes.columns[i])"
   ]
  },
  {
   "cell_type": "code",
   "execution_count": 82,
   "metadata": {
    "scrolled": false
   },
   "outputs": [
    {
     "name": "stdout",
     "output_type": "stream",
     "text": [
      "Quelques infos :\n",
      "----\n",
      "Agriculture \tmoyenne =  0.5684966870458402\n",
      "Transformation \tmoyenne =  0.056136918226633296\n",
      "Emballage \tmoyenne =  0.02242675546471593\n",
      "Transport \tmoyenne =  0.026165883152808902\n",
      "Supermarché et distribution \tmoyenne =  0.007877125406877234\n",
      "Consommation \tmoyenne =  0.007633790367775129\n",
      "Total \tmoyenne =  0.6887371596646508\n",
      "----\n",
      "Agriculture.1 \tmoyenne =  4.2834051017208985\n",
      "Transformation.1 \tmoyenne =  0.49566790046860953\n",
      "Emballage.1 \tmoyenne =  0.2551146021668653\n",
      "Transport.1 \tmoyenne =  0.31395988182510925\n",
      "Supermarché et distribution.1 \tmoyenne =  0.03147132845606277\n",
      "Consommation.1 \tmoyenne =  0.042848097985971396\n",
      "Total.1 \tmoyenne =  5.422466912623516\n",
      "----\n",
      "Agriculture.2 \tmoyenne =  3.3849700977868895e-07\n",
      "Transformation.2 \tmoyenne =  3.346837165345689e-08\n",
      "Emballage.2 \tmoyenne =  8.733627654263806e-08\n",
      "Transport.2 \tmoyenne =  7.395954808027414e-08\n",
      "Supermarché et distribution.2 \tmoyenne =  2.4693114096368693e-09\n",
      "Consommation.2 \tmoyenne =  2.6369538328196267e-09\n",
      "Total.2 \tmoyenne =  5.38367471297594e-07\n",
      "----\n",
      "Agriculture.3 \tmoyenne =  0.22347594415358202\n",
      "Transformation.3 \tmoyenne =  0.5096895828840635\n",
      "Emballage.3 \tmoyenne =  0.026443116230250297\n",
      "Transport.3 \tmoyenne =  0.020708397043810094\n",
      "Supermarché et distribution.3 \tmoyenne =  0.12428980926908742\n",
      "Consommation.3 \tmoyenne =  0.11212322565223579\n",
      "Total.3 \tmoyenne =  1.016730075233029\n",
      "----\n",
      "Agriculture.4 \tmoyenne =  0.018124962240729993\n",
      "Transformation.4 \tmoyenne =  0.0011453623181971711\n",
      "Emballage.4 \tmoyenne =  0.0007314176762902265\n",
      "Transport.4 \tmoyenne =  0.0014836005704080254\n",
      "Supermarché et distribution.4 \tmoyenne =  6.676431156404052e-05\n",
      "Consommation.4 \tmoyenne =  7.666149406531981e-05\n",
      "Total.4 \tmoyenne =  0.02162876861125478\n",
      "----\n",
      "Agriculture.5 \tmoyenne =  0.000521405112709536\n",
      "Transformation.5 \tmoyenne =  1.912008494381248e-05\n",
      "Emballage.5 \tmoyenne =  1.1335613299139849e-05\n",
      "Transport.5 \tmoyenne =  1.9328471702804928e-05\n",
      "Supermarché et distribution.5 \tmoyenne =  1.3286906450673422e-06\n",
      "Consommation.5 \tmoyenne =  1.2579847468561782e-06\n",
      "Total.5 \tmoyenne =  0.0005737759580472168\n",
      "----\n",
      "Agriculture.6 \tmoyenne =  9.718748033812476e-05\n",
      "Transformation.6 \tmoyenne =  4.748341800434684e-06\n",
      "Emballage.6 \tmoyenne =  1.5496776170369488e-06\n",
      "Transport.6 \tmoyenne =  2.6674671603893524e-06\n",
      "Supermarché et distribution.6 \tmoyenne =  6.102224520907033e-07\n",
      "Consommation.6 \tmoyenne =  6.866494222022248e-07\n",
      "Total.6 \tmoyenne =  0.00010744983879027864\n",
      "----\n",
      "Agriculture.7 \tmoyenne =  0.0003271399459962495\n",
      "Transformation.7 \tmoyenne =  2.7288002301783866e-05\n",
      "Emballage.7 \tmoyenne =  1.6013641315341676e-05\n",
      "Transport.7 \tmoyenne =  1.2757204312951928e-05\n",
      "Supermarché et distribution.7 \tmoyenne =  2.612588474352404e-06\n",
      "Consommation.7 \tmoyenne =  2.654884403709575e-06\n",
      "Total.7 \tmoyenne =  0.00038846626680438893\n",
      "----\n",
      "Agriculture.8 \tmoyenne =  0.07411992747055454\n",
      "Transformation.8 \tmoyenne =  0.001929420653405244\n",
      "Emballage.8 \tmoyenne =  0.0009938508669833136\n",
      "Transport.8 \tmoyenne =  0.0016654054182892331\n",
      "Supermarché et distribution.8 \tmoyenne =  0.0001337620897774732\n",
      "Consommation.8 \tmoyenne =  0.00012646567892165276\n",
      "Total.8 \tmoyenne =  0.07896883217793148\n",
      "----\n",
      "Agriculture.9 \tmoyenne =  0.0006482900240314145\n",
      "Transformation.9 \tmoyenne =  9.650625283613507e-05\n",
      "Emballage.9 \tmoyenne =  4.770915136690505e-05\n",
      "Transport.9 \tmoyenne =  2.1808963516626936e-05\n",
      "Supermarché et distribution.9 \tmoyenne =  7.89633153203377e-06\n",
      "Consommation.9 \tmoyenne =  9.623633183190307e-06\n",
      "Total.9 \tmoyenne =  0.0008318343564663055\n",
      "----\n",
      "Agriculture.10 \tmoyenne =  0.02606458948192888\n",
      "Transformation.10 \tmoyenne =  0.0013067283733852206\n",
      "Emballage.10 \tmoyenne =  0.00021445496123043305\n",
      "Transport.10 \tmoyenne =  0.0004683217044035757\n",
      "Supermarché et distribution.10 \tmoyenne =  2.9835140009026618e-05\n",
      "Consommation.10 \tmoyenne =  4.7425795057620184e-05\n",
      "Total.10 \tmoyenne =  0.028131355456014757\n",
      "----\n",
      "Agriculture.11 \tmoyenne =  0.29734929464111165\n",
      "Transformation.11 \tmoyenne =  0.005652233602072864\n",
      "Emballage.11 \tmoyenne =  0.0019908671240210568\n",
      "Transport.11 \tmoyenne =  0.005119353187081843\n",
      "Supermarché et distribution.11 \tmoyenne =  0.0002525249092678188\n",
      "Consommation.11 \tmoyenne =  0.00024866463985077474\n",
      "Total.11 \tmoyenne =  0.310612938103406\n",
      "----\n",
      "Agriculture.12 \tmoyenne =  48.988839142870084\n",
      "Transformation.12 \tmoyenne =  2.5497224944965\n",
      "Emballage.12 \tmoyenne =  0.7692215217318236\n",
      "Transport.12 \tmoyenne =  1.5533179060325786\n",
      "Supermarché et distribution.12 \tmoyenne =  0.13806092456130314\n",
      "Consommation.12 \tmoyenne =  0.18844663102526818\n",
      "Total.12 \tmoyenne =  54.187608620717555\n",
      "----\n",
      "Agriculture.13 \tmoyenne =  310.9915033641982\n",
      "Transformation.13 \tmoyenne =  13.675075234293013\n",
      "Emballage.13 \tmoyenne =  1.3458717057608263\n",
      "Transport.13 \tmoyenne =  2.2850328640659514\n",
      "Supermarché et distribution.13 \tmoyenne =  0.1424060331910608\n",
      "Consommation.13 \tmoyenne =  0.13453906984119982\n",
      "Total.13 \tmoyenne =  328.57442827135026\n",
      "----\n",
      "Agriculture.14 \tmoyenne =  5.38537441847862\n",
      "Transformation.14 \tmoyenne =  0.14930567352159593\n",
      "Emballage.14 \tmoyenne =  0.1369397340264998\n",
      "Transport.14 \tmoyenne =  0.013780953101468018\n",
      "Supermarché et distribution.14 \tmoyenne =  0.027973004035097334\n",
      "Consommation.14 \tmoyenne =  0.01083712614700143\n",
      "Total.14 \tmoyenne =  5.7242109093102815\n",
      "----\n",
      "Agriculture.15 \tmoyenne =  21.537600423417558\n",
      "Transformation.15 \tmoyenne =  14.029094337067582\n",
      "Emballage.15 \tmoyenne =  4.567783046302344\n",
      "Transport.15 \tmoyenne =  4.288577241244735\n",
      "Supermarché et distribution.15 \tmoyenne =  2.7700836827310287\n",
      "Consommation.15 \tmoyenne =  2.5497975612275727\n",
      "Total.15 \tmoyenne =  49.74293629199082\n",
      "----\n",
      "Agriculture.16 \tmoyenne =  0.015244014435140167\n",
      "Transformation.16 \tmoyenne =  0.002301493984470651\n",
      "Emballage.16 \tmoyenne =  0.0016628438444557013\n",
      "Transport.16 \tmoyenne =  0.0012823188364461662\n",
      "Supermarché et distribution.16 \tmoyenne =  0.0007804375020440605\n",
      "Consommation.16 \tmoyenne =  0.0007088726532150302\n",
      "Total.16 \tmoyenne =  0.021979981255771774\n"
     ]
    }
   ],
   "source": [
    "print(\"Quelques infos :\")\n",
    "for i in range(0,17):\n",
    "    print(\"----\")\n",
    "    for col in ['Agriculture', 'Transformation', 'Emballage', 'Transport', 'Supermarché et distribution', \\\n",
    "                'Consommation', 'Total']:\n",
    "        if i>0:\n",
    "            nom_col = col + \".\" +str(i)\n",
    "        else:\n",
    "            nom_col = col\n",
    "        print(nom_col,\"\\tmoyenne = \",data_etapes[nom_col].mean())"
   ]
  },
  {
   "cell_type": "code",
   "execution_count": 83,
   "metadata": {},
   "outputs": [
    {
     "name": "stdout",
     "output_type": "stream",
     "text": [
      "Nombre de lignes:  6856\n",
      "Nombre de colonnes:  27\n"
     ]
    }
   ],
   "source": [
    "data_ingredients = pd.read_csv(\"data/AGRIBALYSE3-ingredients.csv\",sep=\";\")\n",
    "data_ingredients.columns\n",
    "print(\"Nombre de lignes: \",len(data_ingredients))\n",
    "print(\"Nombre de colonnes: \",len(data_ingredients.columns))"
   ]
  },
  {
   "cell_type": "code",
   "execution_count": 84,
   "metadata": {},
   "outputs": [
    {
     "name": "stdout",
     "output_type": "stream",
     "text": [
      "0 :  Ciqual AGB\n",
      "1 :  Ciqual code\n",
      "2 :  Groupe d'aliment\n",
      "3 :  Sous-groupe d'aliment\n",
      "4 :  Nom Français\n",
      "5 :  LCI Name\n",
      "6 :  Ingredients\n",
      "7 :  Code et Nom\n",
      "8 :  Groupe\n",
      "9 :  Sous-groupe\n",
      "10 :  Formation photochimique d'ozone \tmoyennne =  0.14901077587806652\n",
      "11 :  Particules fines \tmoyennne =  1.1694919040652128\n",
      "12 :  Effets toxicologiques sur la santé humaine : substances non-cancérogènes \tmoyennne =  9.663670448533454e-08\n",
      "13 :  Effets toxicologiques sur la santé humaine : substances cancérogènes \tmoyennne =  0.32177220746506685\n",
      "14 :  Acidification terrestre et eaux douces \tmoyennne =  0.0038680513541169783\n",
      "15 :  Eutrophisation eaux douces \tmoyennne =  1.1525166083035649e-07\n",
      "16 :  Eutrophisation marine \tmoyennne =  2.5530761424091264e-08\n",
      "17 :  Eutrophisation terrestre \tmoyennne =  9.025745752722688e-10\n",
      "18 :  Écotoxicité pour écosystèmes aquatiques d'eau douce \tmoyennne =  0.01583401820414365\n",
      "19 :  Utilisation du sol \tmoyennne =  0.00017051056352429376\n",
      "20 :  Épuisement des ressources eau \tmoyennne =  0.005420029504769152\n",
      "21 :  Épuisement des ressources énergétiques \tmoyennne =  0.06377478486649878\n",
      "22 :  Épuisement des ressources minéraux \tmoyennne =  13.456044581692224\n",
      "23 :  Pt/kg de produit \tmoyennne =  70.52662867740445\n",
      "24 :  m3 depriv./kg de produit \tmoyennne =  1.3622131901908805\n",
      "25 :  MJ/kg de produit \tmoyennne =  12.915748203498433\n",
      "26 :  kg Sb eq/kg de produit \tmoyennne =  4.652159787008745e-06\n"
     ]
    }
   ],
   "source": [
    "for i in range(0,len(data_ingredients.columns)):\n",
    "    if i<10:\n",
    "        print(i,\": \", data_ingredients.columns[i])\n",
    "    else:\n",
    "        print(i,\": \", data_ingredients.columns[i], \\\n",
    "              \"\\tmoyennne = \", data_ingredients[data_ingredients.columns[i]].mean())"
   ]
  },
  {
   "cell_type": "code",
   "execution_count": 85,
   "metadata": {},
   "outputs": [
    {
     "name": "stdout",
     "output_type": "stream",
     "text": [
      "Index(['Ciqual AGB', 'Ciqual code', 'Groupe d'aliment',\n",
      "       'Sous-groupe d'aliment', 'Nom Français', 'LCI Name', 'Ingredients',\n",
      "       'Code et Nom', 'Groupe', 'Sous-groupe',\n",
      "       'Formation photochimique d'ozone', 'Particules fines',\n",
      "       'Effets toxicologiques sur la santé humaine : substances non-cancérogènes',\n",
      "       'Effets toxicologiques sur la santé humaine : substances cancérogènes',\n",
      "       'Acidification terrestre et eaux douces', 'Eutrophisation eaux douces',\n",
      "       'Eutrophisation marine', 'Eutrophisation terrestre',\n",
      "       'Écotoxicité pour écosystèmes aquatiques d'eau douce',\n",
      "       'Utilisation du sol', 'Épuisement des ressources eau',\n",
      "       'Épuisement des ressources énergétiques',\n",
      "       'Épuisement des ressources minéraux', 'Pt/kg de produit',\n",
      "       'm3 depriv./kg de produit', 'MJ/kg de produit',\n",
      "       'kg Sb eq/kg de produit'],\n",
      "      dtype='object')\n"
     ]
    }
   ],
   "source": [
    "print(data_ingredients.columns)"
   ]
  },
  {
   "attachments": {},
   "cell_type": "markdown",
   "metadata": {},
   "source": [
    "## Apprentissage supervisé"
   ]
  },
  {
   "attachments": {},
   "cell_type": "markdown",
   "metadata": {},
   "source": [
    "### Problèmatique"
   ]
  },
  {
   "attachments": {},
   "cell_type": "markdown",
   "metadata": {},
   "source": [
    "Pour l'apprentissage supervisé nous avons choisit de prédire l'impact sur le changement climatique d'un produit, autrement dit son éco-responsabilité, à partir des données de son cycle de vie dans la base données ***Agribalyse***. </br>\n",
    "Pour se faire: Nous devons d'abord répondre à la problématique qui en découle comment définir, à partir de notre base de données, ce que représente un produit éco-responsable et quelles caractéristiques prendre en compte. </br>\n"
   ]
  },
  {
   "attachments": {},
   "cell_type": "markdown",
   "metadata": {},
   "source": [
    "### Préparation des données"
   ]
  },
  {
   "attachments": {},
   "cell_type": "markdown",
   "metadata": {},
   "source": [
    "#### Exploration des données"
   ]
  },
  {
   "cell_type": "code",
   "execution_count": 86,
   "metadata": {},
   "outputs": [
    {
     "data": {
      "text/plain": [
       "Index(['Code AGB', 'Code CIQUAL', 'Groupe d'aliment', 'Sous-groupe d'aliment',\n",
       "       'Nom du Produit en Français', 'LCI Name', 'code saison', 'code avion',\n",
       "       'Livraison', 'Matériau d'emballage', 'Préparation', 'DQR',\n",
       "       'Score unique EF 3.1', 'Changement climatique',\n",
       "       'Appauvrissement de la couche d'ozone', 'Rayonnements ionisants',\n",
       "       'Formation photochimique d'ozone', 'Particules fines',\n",
       "       'Effets toxicologiques sur la santé humaine : substances non-cancérogènes',\n",
       "       'Effets toxicologiques sur la santé humaine : substances cancérogènes',\n",
       "       'Acidification terrestre et eaux douces', 'Eutrophisation eaux douces',\n",
       "       'Eutrophisation marine', 'Eutrophisation terrestre',\n",
       "       'Écotoxicité pour écosystèmes aquatiques d'eau douce',\n",
       "       'Utilisation du sol', 'Épuisement des ressources eau',\n",
       "       'Épuisement des ressources énergétiques',\n",
       "       'Épuisement des ressources minéraux'],\n",
       "      dtype='object')"
      ]
     },
     "execution_count": 86,
     "metadata": {},
     "output_type": "execute_result"
    }
   ],
   "source": [
    "data_synthese.columns"
   ]
  },
  {
   "attachments": {},
   "cell_type": "markdown",
   "metadata": {},
   "source": [
    "Pour notre apprentissage surpervisé on va utiliser la colonne \"Changement Climatique\" qui est une mesure de l'équivalent en particules nocives de kg de CO2 qu'émet un produit par kg de Produit (kg CO2 eq/kg Produit). </br>\n",
    "Nous pourront donc définir nos classes à partir de cette cette caracteristique:\n",
    " * +1 pour les produits eco-responsables.\n",
    " * -1 pour les produits non eco-responsables.\n"
   ]
  },
  {
   "attachments": {},
   "cell_type": "markdown",
   "metadata": {},
   "source": []
  },
  {
   "cell_type": "code",
   "execution_count": 87,
   "metadata": {},
   "outputs": [
    {
     "data": {
      "text/plain": [
       "'Changement climatique'"
      ]
     },
     "execution_count": 87,
     "metadata": {},
     "output_type": "execute_result"
    }
   ],
   "source": [
    "data_synthese.columns[13]"
   ]
  },
  {
   "cell_type": "code",
   "execution_count": 88,
   "metadata": {},
   "outputs": [
    {
     "data": {
      "text/plain": [
       "count    2517.000000\n",
       "mean        5.420520\n",
       "std         7.760284\n",
       "min         0.039400\n",
       "25%         1.120000\n",
       "50%         2.500000\n",
       "75%         6.280000\n",
       "max        52.200000\n",
       "Name: Changement climatique, dtype: float64"
      ]
     },
     "execution_count": 88,
     "metadata": {},
     "output_type": "execute_result"
    }
   ],
   "source": [
    "\n",
    "data_synthese[\"Changement climatique\"].describe()"
   ]
  },
  {
   "cell_type": "code",
   "execution_count": 89,
   "metadata": {},
   "outputs": [
    {
     "data": {
      "text/plain": [
       "Index(['Agriculture', 'Transformation', 'Emballage', 'Transport',\n",
       "       'Supermarché et distribution', 'Consommation', 'Total', 'Agriculture.1',\n",
       "       'Transformation.1', 'Emballage.1',\n",
       "       ...\n",
       "       'Emballage.16', 'Transport.16', 'Supermarché et distribution.16',\n",
       "       'Consommation.16', 'Total.16', 'DQR Overall', 'P', 'TiR', 'GR', 'TeR'],\n",
       "      dtype='object', length=124)"
      ]
     },
     "execution_count": 89,
     "metadata": {},
     "output_type": "execute_result"
    }
   ],
   "source": [
    "data_etapes.columns[8:]"
   ]
  },
  {
   "cell_type": "code",
   "execution_count": 90,
   "metadata": {},
   "outputs": [
    {
     "data": {
      "text/html": [
       "<div>\n",
       "<style scoped>\n",
       "    .dataframe tbody tr th:only-of-type {\n",
       "        vertical-align: middle;\n",
       "    }\n",
       "\n",
       "    .dataframe tbody tr th {\n",
       "        vertical-align: top;\n",
       "    }\n",
       "\n",
       "    .dataframe thead th {\n",
       "        text-align: right;\n",
       "    }\n",
       "</style>\n",
       "<table border=\"1\" class=\"dataframe\">\n",
       "  <thead>\n",
       "    <tr style=\"text-align: right;\">\n",
       "      <th></th>\n",
       "      <th>DQR</th>\n",
       "      <th>Agriculture.1</th>\n",
       "      <th>Transformation.1</th>\n",
       "      <th>Emballage.1</th>\n",
       "      <th>Transport.1</th>\n",
       "      <th>Supermarché et distribution.1</th>\n",
       "      <th>Consommation.1</th>\n",
       "      <th>Total.1</th>\n",
       "    </tr>\n",
       "  </thead>\n",
       "  <tbody>\n",
       "    <tr>\n",
       "      <th>0</th>\n",
       "      <td>2.99</td>\n",
       "      <td>4.569259</td>\n",
       "      <td>1.492415</td>\n",
       "      <td>0.290252</td>\n",
       "      <td>0.384404</td>\n",
       "      <td>0.020135</td>\n",
       "      <td>0.009943</td>\n",
       "      <td>6.766407</td>\n",
       "    </tr>\n",
       "    <tr>\n",
       "      <th>1</th>\n",
       "      <td>4.11</td>\n",
       "      <td>0.066043</td>\n",
       "      <td>0.000000</td>\n",
       "      <td>0.478390</td>\n",
       "      <td>0.189268</td>\n",
       "      <td>0.015709</td>\n",
       "      <td>0.000000</td>\n",
       "      <td>0.749409</td>\n",
       "    </tr>\n",
       "    <tr>\n",
       "      <th>2</th>\n",
       "      <td>3.54</td>\n",
       "      <td>0.082554</td>\n",
       "      <td>0.000000</td>\n",
       "      <td>0.000000</td>\n",
       "      <td>0.173563</td>\n",
       "      <td>0.019636</td>\n",
       "      <td>0.080370</td>\n",
       "      <td>0.356122</td>\n",
       "    </tr>\n",
       "    <tr>\n",
       "      <th>3</th>\n",
       "      <td>3.75</td>\n",
       "      <td>0.222514</td>\n",
       "      <td>0.000000</td>\n",
       "      <td>0.329456</td>\n",
       "      <td>0.162968</td>\n",
       "      <td>0.019636</td>\n",
       "      <td>0.080370</td>\n",
       "      <td>0.814944</td>\n",
       "    </tr>\n",
       "    <tr>\n",
       "      <th>4</th>\n",
       "      <td>2.99</td>\n",
       "      <td>4.569259</td>\n",
       "      <td>1.492415</td>\n",
       "      <td>0.290252</td>\n",
       "      <td>0.384404</td>\n",
       "      <td>0.020135</td>\n",
       "      <td>0.009943</td>\n",
       "      <td>6.766407</td>\n",
       "    </tr>\n",
       "    <tr>\n",
       "      <th>...</th>\n",
       "      <td>...</td>\n",
       "      <td>...</td>\n",
       "      <td>...</td>\n",
       "      <td>...</td>\n",
       "      <td>...</td>\n",
       "      <td>...</td>\n",
       "      <td>...</td>\n",
       "      <td>...</td>\n",
       "    </tr>\n",
       "    <tr>\n",
       "      <th>2512</th>\n",
       "      <td>2.47</td>\n",
       "      <td>21.683172</td>\n",
       "      <td>0.241985</td>\n",
       "      <td>0.275642</td>\n",
       "      <td>0.205100</td>\n",
       "      <td>0.036974</td>\n",
       "      <td>0.006688</td>\n",
       "      <td>22.449561</td>\n",
       "    </tr>\n",
       "    <tr>\n",
       "      <th>2513</th>\n",
       "      <td>2.45</td>\n",
       "      <td>22.327031</td>\n",
       "      <td>0.074157</td>\n",
       "      <td>0.435259</td>\n",
       "      <td>0.315136</td>\n",
       "      <td>0.058385</td>\n",
       "      <td>0.344055</td>\n",
       "      <td>23.554023</td>\n",
       "    </tr>\n",
       "    <tr>\n",
       "      <th>2514</th>\n",
       "      <td>3.68</td>\n",
       "      <td>3.143568</td>\n",
       "      <td>0.000000</td>\n",
       "      <td>0.275642</td>\n",
       "      <td>0.787359</td>\n",
       "      <td>0.036974</td>\n",
       "      <td>0.006688</td>\n",
       "      <td>4.250231</td>\n",
       "    </tr>\n",
       "    <tr>\n",
       "      <th>2515</th>\n",
       "      <td>3.56</td>\n",
       "      <td>3.838479</td>\n",
       "      <td>0.000000</td>\n",
       "      <td>0.225346</td>\n",
       "      <td>0.961411</td>\n",
       "      <td>0.045148</td>\n",
       "      <td>0.094235</td>\n",
       "      <td>5.164618</td>\n",
       "    </tr>\n",
       "    <tr>\n",
       "      <th>2516</th>\n",
       "      <td>2.79</td>\n",
       "      <td>4.633708</td>\n",
       "      <td>0.589396</td>\n",
       "      <td>0.476451</td>\n",
       "      <td>0.207977</td>\n",
       "      <td>0.037393</td>\n",
       "      <td>0.092757</td>\n",
       "      <td>6.037682</td>\n",
       "    </tr>\n",
       "  </tbody>\n",
       "</table>\n",
       "<p>2517 rows × 8 columns</p>\n",
       "</div>"
      ],
      "text/plain": [
       "       DQR  Agriculture.1  Transformation.1  Emballage.1  Transport.1  \\\n",
       "0     2.99       4.569259          1.492415     0.290252     0.384404   \n",
       "1     4.11       0.066043          0.000000     0.478390     0.189268   \n",
       "2     3.54       0.082554          0.000000     0.000000     0.173563   \n",
       "3     3.75       0.222514          0.000000     0.329456     0.162968   \n",
       "4     2.99       4.569259          1.492415     0.290252     0.384404   \n",
       "...    ...            ...               ...          ...          ...   \n",
       "2512  2.47      21.683172          0.241985     0.275642     0.205100   \n",
       "2513  2.45      22.327031          0.074157     0.435259     0.315136   \n",
       "2514  3.68       3.143568          0.000000     0.275642     0.787359   \n",
       "2515  3.56       3.838479          0.000000     0.225346     0.961411   \n",
       "2516  2.79       4.633708          0.589396     0.476451     0.207977   \n",
       "\n",
       "      Supermarché et distribution.1  Consommation.1    Total.1  \n",
       "0                          0.020135        0.009943   6.766407  \n",
       "1                          0.015709        0.000000   0.749409  \n",
       "2                          0.019636        0.080370   0.356122  \n",
       "3                          0.019636        0.080370   0.814944  \n",
       "4                          0.020135        0.009943   6.766407  \n",
       "...                             ...             ...        ...  \n",
       "2512                       0.036974        0.006688  22.449561  \n",
       "2513                       0.058385        0.344055  23.554023  \n",
       "2514                       0.036974        0.006688   4.250231  \n",
       "2515                       0.045148        0.094235   5.164618  \n",
       "2516                       0.037393        0.092757   6.037682  \n",
       "\n",
       "[2517 rows x 8 columns]"
      ]
     },
     "execution_count": 90,
     "metadata": {},
     "output_type": "execute_result"
    }
   ],
   "source": [
    "data_etapes[['DQR','Agriculture.1', 'Transformation.1', 'Emballage.1', 'Transport.1', 'Supermarché et distribution.1', \\\n",
    "                'Consommation.1', 'Total.1']]"
   ]
  },
  {
   "attachments": {},
   "cell_type": "markdown",
   "metadata": {},
   "source": [
    "Nous allons d'abord prendre nos données qui sont pertinents pour la prédiction de l'empreinte carbonne. </br>\n",
    "Dans la suite `crbn_ftp` fait allusion à Carbon Footprint"
   ]
  },
  {
   "cell_type": "code",
   "execution_count": 91,
   "metadata": {},
   "outputs": [
    {
     "name": "stderr",
     "output_type": "stream",
     "text": [
      "/tmp/ipykernel_603/4266152392.py:3: SettingWithCopyWarning: \n",
      "A value is trying to be set on a copy of a slice from a DataFrame.\n",
      "Try using .loc[row_indexer,col_indexer] = value instead\n",
      "\n",
      "See the caveats in the documentation: https://pandas.pydata.org/pandas-docs/stable/user_guide/indexing.html#returning-a-view-versus-a-copy\n",
      "  crbn_ftp_df[\"Changement climatique\"] = data_synthese[[\"Changement climatique\"]]\n"
     ]
    },
    {
     "data": {
      "text/plain": [
       "count    2517.000000\n",
       "mean        5.420520\n",
       "std         7.760284\n",
       "min         0.039400\n",
       "25%         1.120000\n",
       "50%         2.500000\n",
       "75%         6.280000\n",
       "max        52.200000\n",
       "Name: Changement climatique, dtype: float64"
      ]
     },
     "execution_count": 91,
     "metadata": {},
     "output_type": "execute_result"
    }
   ],
   "source": [
    "crbn_ftp_df = data_etapes[['DQR','Agriculture.1', 'Transformation.1', 'Emballage.1', 'Transport.1', 'Supermarché et distribution.1', \\\n",
    "                'Consommation.1']]\n",
    "crbn_ftp_df[\"Changement climatique\"] = data_synthese[[\"Changement climatique\"]]\n",
    "crbn_ftp_df[\"Changement climatique\"].describe()"
   ]
  },
  {
   "cell_type": "code",
   "execution_count": 92,
   "metadata": {},
   "outputs": [],
   "source": [
    "crbn_ftp_df = crbn_ftp_df[crbn_ftp_df[\"DQR\"] < 3]\n",
    "crbn_ftp_df = crbn_ftp_df.drop(columns=[\"DQR\"])"
   ]
  },
  {
   "cell_type": "code",
   "execution_count": 93,
   "metadata": {},
   "outputs": [
    {
     "data": {
      "image/png": "[encoded data removed]",
      "text/plain": [
       "<Figure size 1260x1260 with 56 Axes>"
      ]
     },
     "metadata": {
      "needs_background": "light"
     },
     "output_type": "display_data"
    }
   ],
   "source": [
    "crbn_ftp_df = crbn_ftp_df.rename(columns={\"Agriculture.1\":\"Agriculture\", \"Transformation.1\":\"Transformation\", \"Emballage.1\":\"Emballage\", \\\n",
    "                                            \"Transport.1\":\"Transport\", \"Supermarché et distribution.1\":\"Supermarché et distribution\", \\\n",
    "                                            \"Consommation.1\":\"Consommation\"})\n",
    "crbn_ftp_df.head()\n",
    "sns.pairplot(crbn_ftp_df)\n",
    "plt.show()"
   ]
  },
  {
   "attachments": {},
   "cell_type": "markdown",
   "metadata": {},
   "source": [
    "A partir de là nous allons choisir des classes binaire pour nos données. La médiane nous semble plus approprié que la moyenne.\n",
    "Nous faisons donc la décision de prendre deux classes:\n",
    "-  1: Haute empreinte carbone (correspond aux exemples qui ont une empreinte carbonne supérieure ou égale à la médiane)\n",
    "- -1: Basse empreinte carbonne (correspond aux exemples qui ont une empreinte carbonne inférieure à la médiane)"
   ]
  },
  {
   "cell_type": "code",
   "execution_count": 94,
   "metadata": {},
   "outputs": [
    {
     "name": "stdout",
     "output_type": "stream",
     "text": [
      "Pour le carbon footprint nous avons la moyenne à: 5.972051290877796 et la médiane à: 2.68\n"
     ]
    }
   ],
   "source": [
    "crbn_ftp_moy = crbn_ftp_df[\"Changement climatique\"].mean()\n",
    "crbn_ftp_med = crbn_ftp_df[\"Changement climatique\"].median()\n",
    "print(\"Pour le carbon footprint nous avons la moyenne à: \" + str(crbn_ftp_moy) + \" et la médiane à: \" + str(crbn_ftp_med))"
   ]
  },
  {
   "cell_type": "code",
   "execution_count": 95,
   "metadata": {},
   "outputs": [
    {
     "data": {
      "text/plain": [
       "<matplotlib.lines.Line2D at 0x7f51b8197100>"
      ]
     },
     "execution_count": 95,
     "metadata": {},
     "output_type": "execute_result"
    },
    {
     "data": {
      "image/png": "[encoded data removed]",
      "text/plain": [
       "<Figure size 432x288 with 1 Axes>"
      ]
     },
     "metadata": {
      "needs_background": "light"
     },
     "output_type": "display_data"
    }
   ],
   "source": [
    "crbn_ftp_data = np.asarray(crbn_ftp_df)\n",
    "plt.hist(crbn_ftp_data[:,-1], bins=50)\n",
    "plt.axvline(crbn_ftp_med, color='red', linestyle='dashed', linewidth=1)\n",
    "plt.axvline(crbn_ftp_moy, color='blue', linestyle='dashed', linewidth=1)"
   ]
  },
  {
   "attachments": {},
   "cell_type": "markdown",
   "metadata": {},
   "source": [
    "Nous faisons le choix de prendre la médiane comme separateur de nos classes."
   ]
  },
  {
   "cell_type": "code",
   "execution_count": 99,
   "metadata": {},
   "outputs": [
    {
     "data": {
      "text/plain": [
       "array([-1., -1., -1., ..., -1., -1., -1.])"
      ]
     },
     "execution_count": 99,
     "metadata": {},
     "output_type": "execute_result"
    }
   ],
   "source": [
    "# crbn_ftp_label = np.array([])\n",
    "# for i in range(len(crbn_ftp_data[:,-1])):\n",
    "#     if crbn_ftp_data[i,-1] >= float(crbn_ftp_med):\n",
    "#         crbn_ftp_label = np.append(crbn_ftp_label, -1)\n",
    "#     else:\n",
    "#         crbn_ftp_label = np.append(crbn_ftp_label, 1)\n",
    "# crbn_ftp_label\n",
    "\n",
    "# Cette méthode est plus stylée\n",
    "\n",
    "def label(x):\n",
    "    return 1 if x < crbn_ftp_med else -1\n",
    "\n",
    "crbn_ftp_label = np.array(crbn_ftp_df[\"Changement climatique\"].apply(label))\n",
    "crbn_ftp_label"
   ]
  },
  {
   "cell_type": "code",
   "execution_count": null,
   "metadata": {},
   "outputs": [],
   "source": [
    "crbn_ftp_df[\"Changement climatique\"].head()"
   ]
  },
  {
   "cell_type": "code",
   "execution_count": 100,
   "metadata": {},
   "outputs": [],
   "source": [
    "neg_data = crbn_ftp_data[crbn_ftp_label == -1]\n",
    "pos_data = crbn_ftp_data[crbn_ftp_label == 1]"
   ]
  },
  {
   "cell_type": "code",
   "execution_count": 26,
   "metadata": {},
   "outputs": [
    {
     "data": {
      "text/plain": [
       "Text(0, 0.5, 'Changement climatique')"
      ]
     },
     "execution_count": 26,
     "metadata": {},
     "output_type": "execute_result"
    },
    {
     "data": {
      "image/png": "[encoded data removed]",
      "text/plain": [
       "<Figure size 432x288 with 1 Axes>"
      ]
     },
     "metadata": {
      "needs_background": "light"
     },
     "output_type": "display_data"
    }
   ],
   "source": [
    "plt.scatter(neg_data[:, -1], neg_data[:, 0], marker='o', color=\"orangered\", label=\"label -1\")\n",
    "plt.axvline(crbn_ftp_med, color='red', linestyle='dashed', linewidth=1)\n",
    "plt.scatter(pos_data[:, -1], pos_data[:, 0], marker='x', color=\"midnightblue\")\n",
    "plt.xlabel(\"Agriculture\")\n",
    "plt.ylabel(\"Changement climatique\")"
   ]
  },
  {
   "cell_type": "code",
   "execution_count": 27,
   "metadata": {},
   "outputs": [
    {
     "data": {
      "text/plain": [
       "(array([552., 103.,  62.,  38.,  27.,  37.,  28.,  12.,   6.,  11.]),\n",
       " array([ 2.68 ,  7.632, 12.584, 17.536, 22.488, 27.44 , 32.392, 37.344,\n",
       "        42.296, 47.248, 52.2  ]),\n",
       " <BarContainer object of 10 artists>)"
      ]
     },
     "execution_count": 27,
     "metadata": {},
     "output_type": "execute_result"
    },
    {
     "data": {
      "image/png": "[encoded data removed]",
      "text/plain": [
       "<Figure size 432x288 with 1 Axes>"
      ]
     },
     "metadata": {
      "needs_background": "light"
     },
     "output_type": "display_data"
    }
   ],
   "source": [
    "plt.hist(pos_data[:,-1], color=\"orangered\", bins=10)\n",
    "plt.axvline(crbn_ftp_med, color='b', linestyle='dashed', linewidth=1)\n",
    "plt.hist(neg_data[:,-1], color=\"midnightblue\", bins=10)"
   ]
  },
  {
   "cell_type": "code",
   "execution_count": 28,
   "metadata": {},
   "outputs": [
    {
     "name": "stdout",
     "output_type": "stream",
     "text": [
      "(1743, 7)\n",
      "(1743, 6)\n"
     ]
    }
   ],
   "source": [
    "# Nous avons maintenant notre ensemble de données X (crbn_ftp_data) et notre ensemble de classe binaire (crbn_ftp_label)\n",
    "print(crbn_ftp_data.shape)\n",
    "if crbn_ftp_data.shape[1] == 7:\n",
    "    crbn_ftp_data = crbn_ftp_data[:,:-1] \n",
    "print(crbn_ftp_data.shape)\n"
   ]
  },
  {
   "attachments": {},
   "cell_type": "markdown",
   "metadata": {},
   "source": [
    "#### Construction des bases d'apprentissage et de tests"
   ]
  },
  {
   "cell_type": "code",
   "execution_count": 29,
   "metadata": {},
   "outputs": [],
   "source": [
    "np.random.seed(14)\n",
    "\n",
    "p = np.random.permutation(len(crbn_ftp_data))\n",
    "crbn_ftp_data = crbn_ftp_data[p]\n",
    "crbn_ftp_label = crbn_ftp_label[p]"
   ]
  },
  {
   "attachments": {},
   "cell_type": "markdown",
   "metadata": {},
   "source": [
    "Séparrons maintenant nos données en base d'apprentissage et en base de tests."
   ]
  },
  {
   "cell_type": "code",
   "execution_count": 30,
   "metadata": {},
   "outputs": [],
   "source": [
    "crbn_ftp_train_data, crbn_ftp_test_data = np.split(crbn_ftp_data, [int(0.8*len(crbn_ftp_data))])\n",
    "crbn_ftp_train_label, crbn_ftp_test_label = np.split(crbn_ftp_label, [int(0.8*len(crbn_ftp_label))])"
   ]
  },
  {
   "cell_type": "code",
   "execution_count": 31,
   "metadata": {},
   "outputs": [
    {
     "name": "stdout",
     "output_type": "stream",
     "text": [
      "[[0.98394281 0.10143886 0.18055062 0.20559684 0.06451356 0.02530429]\n",
      " [0.74996094 0.95779525 0.28154442 0.13985546 0.01953111 0.        ]\n",
      " [0.94010056 0.         0.         0.38351699 0.02443032 0.21433375]\n",
      " ...\n",
      " [0.12781002 0.0378883  0.47839023 0.18824701 0.01537678 0.        ]\n",
      " [1.031677   2.0125144  0.35193053 0.18245743 0.02523786 0.0803704 ]\n",
      " [0.36313451 0.1710061  0.27125516 0.19640428 0.03739319 0.09275657]]\n"
     ]
    }
   ],
   "source": [
    "print(crbn_ftp_train_data)"
   ]
  },
  {
   "attachments": {},
   "cell_type": "markdown",
   "metadata": {},
   "source": [
    "### Apprentissage et Visualisation"
   ]
  },
  {
   "attachments": {},
   "cell_type": "markdown",
   "metadata": {},
   "source": [
    "Pour notre apprentissage nous avons fait le choix d'utiliser trois algorithmes de classification:\n",
    "- `Perceptron`\n",
    "- `KNN`\n",
    "- `Arbre de décision numérique`"
   ]
  },
  {
   "attachments": {},
   "cell_type": "markdown",
   "metadata": {},
   "source": [
    "#### Perceptron"
   ]
  },
  {
   "attachments": {},
   "cell_type": "markdown",
   "metadata": {},
   "source": [
    "Commençons par le classifieur perceptron que nous avons codé en TME. Nous allons d'abord initialiser notre modèle avec un learning rate à *0.01* et nous allons l'entrainer sur *100* itérations."
   ]
  },
  {
   "cell_type": "code",
   "execution_count": 32,
   "metadata": {},
   "outputs": [
    {
     "data": {
      "image/png": "[encoded data removed]",
      "text/plain": [
       "<Figure size 432x288 with 1 Axes>"
      ]
     },
     "metadata": {
      "needs_background": "light"
     },
     "output_type": "display_data"
    }
   ],
   "source": [
    "np.random.seed(14)\n",
    "\n",
    "learning_rate = 0.01\n",
    "perceptron = cl.ClassifierPerceptron(6, learning_rate, init=True)\n",
    "\n",
    "train_acc = []\n",
    "test_acc = []\n",
    "variations_w = []\n",
    "\n",
    "# Réalisation de N itérations\n",
    "N = 100\n",
    "before = time.time()\n",
    "for i in range(N):\n",
    "    variation = perceptron.train(crbn_ftp_train_data, crbn_ftp_train_label, diffs = variations_w, nb_max=1)\n",
    "    #variations_w.append(variation)\n",
    "    train_acc.append(perceptron.accuracy(crbn_ftp_train_data, crbn_ftp_train_label))\n",
    "    test_acc.append(perceptron.accuracy(crbn_ftp_test_data, crbn_ftp_test_label))\n",
    "after = time.time()\n",
    "\n",
    "# Traçage de la courbe des variations\n",
    "plt.plot(range(1, len(variations_w) + 1), variations_w)\n",
    "plt.ylabel('Différence')\n",
    "plt.xlabel(\"Etape\")\n",
    "plt.show()\n"
   ]
  },
  {
   "attachments": {},
   "cell_type": "markdown",
   "metadata": {},
   "source": [
    "Comme nous pouvons le voir avec la courbe des variations du poids `w` l'algorithme converge assez rapidement.\n",
    "Traçons maintenant les courbes de variations de l'accuracy sur l'ensemble d'entrainement ainsi que l'ensemble de tests."
   ]
  },
  {
   "cell_type": "code",
   "execution_count": 33,
   "metadata": {},
   "outputs": [
    {
     "data": {
      "image/png": "[encoded data removed]",
      "text/plain": [
       "<Figure size 432x288 with 1 Axes>"
      ]
     },
     "metadata": {
      "needs_background": "light"
     },
     "output_type": "display_data"
    }
   ],
   "source": [
    "# Traçage de la courbe des variations d'accuracy\n",
    "plt.plot(range(1,N+1),train_acc, label=\"train\")  \n",
    "plt.plot(range(1,N+1),test_acc, label=\"test\")\n",
    "plt.ylabel('Accuracy')\n",
    "plt.xlabel(\"Etape\")\n",
    "plt.show()"
   ]
  },
  {
   "cell_type": "code",
   "execution_count": 34,
   "metadata": {},
   "outputs": [
    {
     "name": "stdout",
     "output_type": "stream",
     "text": [
      "Accuracy finale sur le train:  0.766857962697274\n",
      "Accuracy finale sur le test:  0.8022922636103151\n",
      "Le temps d'execution: 76.52158904075623\n"
     ]
    }
   ],
   "source": [
    "print(\"Accuracy finale sur le train: \",train_acc[-1])\n",
    "print(\"Accuracy finale sur le test: \",test_acc[-1])\n",
    "print(\"Le temps d'execution:\", after-before)"
   ]
  },
  {
   "attachments": {},
   "cell_type": "markdown",
   "metadata": {},
   "source": [
    "Nous remarquons que l'accuracy sur l'ensemble de test est supérieur d'à-peu-près 11% à l'accuracy de l'ensemble d'apprentissage.\n",
    "\n",
    "Celà pourrait être dû à la taille de l'ensemble de test par rapport à l'ensemble d'apprentissage qui cause une variabilité statistique dans les performanes observées. Ou que simplement les exemples dans l'ensemble de test sont moins complexes à classifier que celles de l'ensemble d'apprentissage.\n",
    "\n",
    "Pour avoir les idées plus claires nous allons effectuer une validation croisé sur notre modèle."
   ]
  },
  {
   "cell_type": "code",
   "execution_count": 36,
   "metadata": {},
   "outputs": [
    {
     "name": "stdout",
     "output_type": "stream",
     "text": [
      "0 : taille app.=  1570 taille test=  173 Accuracy: 0.8728323699421965\n",
      "1 : taille app.=  1568 taille test=  175 Accuracy: 0.8342857142857143\n",
      "2 : taille app.=  1567 taille test=  176 Accuracy: 0.8863636363636364\n",
      "3 : taille app.=  1566 taille test=  177 Accuracy: 0.8870056497175142\n",
      "4 : taille app.=  1564 taille test=  179 Accuracy: 0.8212290502793296\n",
      "5 : taille app.=  1563 taille test=  180 Accuracy: 0.8888888888888888\n",
      "6 : taille app.=  1562 taille test=  181 Accuracy: 0.8397790055248618\n",
      "7 : taille app.=  1561 taille test=  182 Accuracy: 0.5824175824175825\n",
      "8 : taille app.=  1559 taille test=  184 Accuracy: 0.8641304347826086\n",
      "9 : taille app.=  1557 taille test=  186 Accuracy: 0.8548387096774194\n",
      "La moyenne: 0.8331771041879751\n"
     ]
    }
   ],
   "source": [
    "dump = ev.validation_croisee(perceptron, crbn_ftp_data, crbn_ftp_label, 10)\n",
    "print(\"La moyenne:\",dump[1])"
   ]
  },
  {
   "attachments": {},
   "cell_type": "markdown",
   "metadata": {},
   "source": [
    "Nous pouvons voir maintenant grâce à la validation croisée que la performance tourne plus autour de *77%* sur l'ensemble des tests. </br>\n",
    "</br>\n",
    "On va aussi faire une matrice de confusion grâce à la fonction fournie par la librairie `sklearn` pour avoir une idée de la performance de notre algorithme sur la prediction des classes de nos exemples."
   ]
  },
  {
   "cell_type": "code",
   "execution_count": 37,
   "metadata": {},
   "outputs": [
    {
     "data": {
      "image/png": "[encoded data removed]",
      "text/plain": [
       "<Figure size 576x432 with 1 Axes>"
      ]
     },
     "metadata": {
      "needs_background": "light"
     },
     "output_type": "display_data"
    }
   ],
   "source": [
    "y_pred_perceptron = [perceptron.predict(x) for x in crbn_ftp_test_data]\n",
    "\n",
    "# Création de la matrice de confusion\n",
    "cm = confusion_matrix(crbn_ftp_test_label.astype(int), y_pred_perceptron)\n",
    "\n",
    "# Affichage de la matrice de confusion sous forme de heatmap\n",
    "plt.figure(figsize=(8, 6))\n",
    "sns.heatmap(cm, annot=True, fmt='d', cmap='Blues', cbar=False)\n",
    "plt.xlabel('Prédictions')\n",
    "plt.ylabel('Valeurs réelles')\n",
    "plt.show()"
   ]
  },
  {
   "attachments": {},
   "cell_type": "markdown",
   "metadata": {},
   "source": [
    "Comme nous pouvons le voir dans notre matrice, notre modèle de perceptron se débrouille assez bien même si elle n'est pas optimal. Elle se débrouille bien pour prédire la classe de nos exemples </br>\n",
    "- Nous avons **14** faux-positifs et **309** vrai-positifs.\n",
    "- Et **4** faux-negatif et **22** vrai-negatifs."
   ]
  },
  {
   "attachments": {},
   "cell_type": "markdown",
   "metadata": {},
   "source": [
    "Nous allons maintenant utiliser la fonction `roc_curve()` de `sklearn` pour traçer une courbe ROC qui nous permettra de voir le rapport entre le taux de vrais-positifs et faux-positifs. Nous utiliserons aussi la fonction `roc_auc_score()` qui nous calcule l'AUC (l'aire sous la courbe) qui nous permet d'avoir un chiffre pour mesurer la capacité de notre modèle perceptron à classer les exemples positifs. <br/>\n",
    "Pour se faire nous devons d'abord rajouter une méthode dans notre classifieur perceptron pour avoir une prediction probabilistique des classes d'où la méthode `predict_proba()`."
   ]
  },
  {
   "cell_type": "code",
   "execution_count": 38,
   "metadata": {},
   "outputs": [
    {
     "data": {
      "image/png": "[encoded data removed]",
      "text/plain": [
       "<Figure size 432x288 with 1 Axes>"
      ]
     },
     "metadata": {
      "needs_background": "light"
     },
     "output_type": "display_data"
    }
   ],
   "source": [
    "# Prédiction et probabilités\n",
    "y_pred = [perceptron.predict(x) for x in crbn_ftp_test_data]\n",
    "probas = [perceptron.predict_proba(x) for x in crbn_ftp_test_data]\n",
    "probas = [p[1] for p in probas]  # Probabilités pour la classe positive\n",
    "\n",
    "# Calcule le taux de vrais positifs et le taux de faux positifs\n",
    "fpr, tpr, thresholds = roc_curve(crbn_ftp_test_label, probas)\n",
    "\n",
    "# Calcule l'aire sous la courbe ROC (AUC)\n",
    "auc = roc_auc_score(crbn_ftp_test_label, probas)\n",
    "\n",
    "# Trace la courbe ROC\n",
    "plt.plot(fpr, tpr, label='Courbe ROC (AUC = {:.2f})'.format(auc))\n",
    "plt.plot([0, 1], [0, 1], linestyle='--', color='gray', label='Aléatoire')\n",
    "plt.xlabel('Taux de faux positifs')\n",
    "plt.ylabel('Taux de vrais positifs')\n",
    "plt.title('Courbe ROC')\n",
    "plt.legend()\n",
    "plt.show()\n"
   ]
  },
  {
   "attachments": {},
   "cell_type": "markdown",
   "metadata": {},
   "source": [
    "En resumé sur notre modèle **Perceptron**:\n",
    "- Performance moyenne sur l'ensemble de tests avec la validation croisée de **0.77**\n",
    "- AUC de **0.96**\n",
    "- Temps d'éxécution sur 100 iterations d'à peu près **97**s"
   ]
  },
  {
   "attachments": {},
   "cell_type": "markdown",
   "metadata": {},
   "source": [
    "#### KNN"
   ]
  },
  {
   "attachments": {},
   "cell_type": "markdown",
   "metadata": {},
   "source": [
    "Nous allons maintenant faire la même chose avec notre algorithme de KNN, avec k fixé à 1."
   ]
  },
  {
   "cell_type": "code",
   "execution_count": 39,
   "metadata": {},
   "outputs": [
    {
     "data": {
      "image/png": "[encoded data removed]",
      "text/plain": [
       "<Figure size 432x288 with 1 Axes>"
      ]
     },
     "metadata": {
      "needs_background": "light"
     },
     "output_type": "display_data"
    }
   ],
   "source": [
    "np.random.seed(14)\n",
    "\n",
    "knn = cl.ClassifierKNN(6, 5)\n",
    "\n",
    "train_acc_knn = []\n",
    "test_acc_knn = []\n",
    "\n",
    "# Réalisation de N itérations\n",
    "N = 1\n",
    "before_knn = time.time()\n",
    "for i in range(N):\n",
    "    knn.train(crbn_ftp_train_data, crbn_ftp_train_label)\n",
    "    train_acc_knn.append(knn.accuracy(crbn_ftp_train_data, crbn_ftp_train_label))\n",
    "    test_acc_knn.append(knn.accuracy(crbn_ftp_test_data, crbn_ftp_test_label))\n",
    "after_knn = time.time()\n",
    "\n",
    "# Traçage de la courbe des variations d'accuracy\n",
    "plt.plot(range(1,N+1),train_acc_knn,test_acc_knn)\n",
    "plt.ylabel('Accuracy')\n",
    "plt.xlabel(\"Etape\")\n",
    "plt.show()"
   ]
  },
  {
   "cell_type": "code",
   "execution_count": 40,
   "metadata": {},
   "outputs": [
    {
     "name": "stdout",
     "output_type": "stream",
     "text": [
      "Accuracy finale sur le train:  0.994261119081779\n",
      "Accuracy finale sur le test:  1.0\n",
      "Le temps d'execution: 2.506779670715332\n"
     ]
    }
   ],
   "source": [
    "print(\"Accuracy finale sur le train: \",train_acc_knn[-1])\n",
    "print(\"Accuracy finale sur le test: \",test_acc_knn[-1])\n",
    "print(\"Le temps d'execution:\", after_knn-before_knn)"
   ]
  },
  {
   "attachments": {},
   "cell_type": "markdown",
   "metadata": {},
   "source": [
    "Nous remarquons pour notre modèle knn que la performance et le temps d'execution est meilleure que notre modèle de perceptron. </br>\n",
    "Juste pour le plaisir nous allons essayer de voir l'influence du k sur la performance, histoire de voir si ça change grand chose."
   ]
  },
  {
   "cell_type": "code",
   "execution_count": 41,
   "metadata": {},
   "outputs": [
    {
     "name": "stderr",
     "output_type": "stream",
     "text": [
      "/mnt/c/Users/ndiay/Documents/School/3-2/S6/IADS/Tarek_Slim_Ball/projet/../iads/Classifiers.py:109: RuntimeWarning: invalid value encountered in long_scalars\n",
      "  return 2 * (score/self.k -0.5)\n"
     ]
    },
    {
     "name": "stdout",
     "output_type": "stream",
     "text": [
      "Pour 0 voisins, nous avons une performance de 0.4785100286532951\n",
      "Pour 1 voisins, nous avons une performance de 0.997134670487106\n",
      "Pour 2 voisins, nous avons une performance de 0.997134670487106\n",
      "Pour 3 voisins, nous avons une performance de 1.0\n",
      "Pour 4 voisins, nous avons une performance de 1.0\n",
      "Pour 5 voisins, nous avons une performance de 1.0\n",
      "Pour 6 voisins, nous avons une performance de 1.0\n",
      "Pour 7 voisins, nous avons une performance de 1.0\n",
      "Pour 8 voisins, nous avons une performance de 1.0\n",
      "Pour 9 voisins, nous avons une performance de 0.997134670487106\n",
      "Pour 10 voisins, nous avons une performance de 0.997134670487106\n",
      "Pour 11 voisins, nous avons une performance de 0.994269340974212\n",
      "Pour 12 voisins, nous avons une performance de 0.994269340974212\n",
      "Pour 13 voisins, nous avons une performance de 0.994269340974212\n",
      "Pour 14 voisins, nous avons une performance de 0.994269340974212\n"
     ]
    },
    {
     "data": {
      "image/png": "[encoded data removed]",
      "text/plain": [
       "<Figure size 432x288 with 1 Axes>"
      ]
     },
     "metadata": {
      "needs_background": "light"
     },
     "output_type": "display_data"
    }
   ],
   "source": [
    "knns = []\n",
    "for k in range(0,15):\n",
    "    knns.append(cl.ClassifierKNN(6, k))\n",
    "    knns[k].train(crbn_ftp_train_data, crbn_ftp_train_label)\n",
    "    print(\"Pour\",k,\"voisins, nous avons une performance de\",knns[k].accuracy(crbn_ftp_test_data, crbn_ftp_test_label))\n",
    "    \n",
    "plt.plot(range(1,15), [acc for acc in [knns[k].accuracy(crbn_ftp_test_data, crbn_ftp_test_label) for k in range(1,15)]])\n",
    "plt.ylabel('Accuracy')\n",
    "plt.xlabel(\"k\")\n",
    "plt.show()\n",
    "    \n",
    "    "
   ]
  },
  {
   "attachments": {},
   "cell_type": "markdown",
   "metadata": {},
   "source": [
    "Nous allons maintenant passer à la validation croisé pour avoir une meilleure idée des performances de notre algorithme et ainsi la comparer aux autres modèles."
   ]
  },
  {
   "cell_type": "code",
   "execution_count": 42,
   "metadata": {},
   "outputs": [
    {
     "name": "stdout",
     "output_type": "stream",
     "text": [
      "0 : taille app.=  1570 taille test=  173 Accuracy: 0.9942196531791907\n",
      "1 : taille app.=  1568 taille test=  175 Accuracy: 0.9942857142857143\n",
      "2 : taille app.=  1567 taille test=  176 Accuracy: 0.9943181818181818\n",
      "3 : taille app.=  1566 taille test=  177 Accuracy: 0.9943502824858758\n",
      "4 : taille app.=  1564 taille test=  179 Accuracy: 0.9832402234636871\n",
      "5 : taille app.=  1563 taille test=  180 Accuracy: 0.9944444444444445\n",
      "6 : taille app.=  1562 taille test=  181 Accuracy: 1.0\n",
      "7 : taille app.=  1561 taille test=  182 Accuracy: 0.9835164835164835\n",
      "8 : taille app.=  1559 taille test=  184 Accuracy: 1.0\n",
      "9 : taille app.=  1557 taille test=  186 Accuracy: 1.0\n",
      "La moyenne: 0.9938374983193577\n"
     ]
    }
   ],
   "source": [
    "dump = ev.validation_croisee(knn, crbn_ftp_data, crbn_ftp_label, 10)\n",
    "print(\"La moyenne:\",dump[1])"
   ]
  },
  {
   "attachments": {},
   "cell_type": "markdown",
   "metadata": {},
   "source": [
    "Nous pouvons voir que la moyenne est largement supérieur au modèle de perceptron avec une moyenne à *97%*.\n",
    "\n",
    "Nous allons aussi faire la matrice de confusion et la courbe ROC histoire d'avoir une meilleure idée de la classification de ce modèle et ainsi avoir des bases de comparaison."
   ]
  },
  {
   "cell_type": "code",
   "execution_count": 43,
   "metadata": {},
   "outputs": [
    {
     "data": {
      "image/png": "[encoded data removed]",
      "text/plain": [
       "<Figure size 576x432 with 1 Axes>"
      ]
     },
     "metadata": {
      "needs_background": "light"
     },
     "output_type": "display_data"
    }
   ],
   "source": [
    "y_pred_knn = [knn.predict(x) for x in crbn_ftp_test_data]\n",
    "\n",
    "# Création de la matrice de confusion\n",
    "cm = confusion_matrix(crbn_ftp_test_label.astype(int), y_pred_knn)\n",
    "\n",
    "# Affichage de la matrice de confusion sous forme de heatmap\n",
    "plt.figure(figsize=(8, 6))\n",
    "sns.heatmap(cm, annot=True, fmt='d', cmap='Blues', cbar=False)\n",
    "plt.xlabel('Prédictions')\n",
    "plt.ylabel('Valeurs réelles')\n",
    "plt.show()"
   ]
  },
  {
   "cell_type": "code",
   "execution_count": 44,
   "metadata": {},
   "outputs": [
    {
     "data": {
      "image/png": "[encoded data removed]",
      "text/plain": [
       "<Figure size 432x288 with 1 Axes>"
      ]
     },
     "metadata": {
      "needs_background": "light"
     },
     "output_type": "display_data"
    }
   ],
   "source": [
    "# Prédiction et probabilités\n",
    "y_pred = [knn.predict(x) for x in crbn_ftp_test_data]\n",
    "probas = [knn.predict_proba(x) for x in crbn_ftp_test_data]\n",
    "probas = [p[1] for p in probas]  # Probabilités pour la classe positive\n",
    "\n",
    "# Calcule le taux de vrais positifs et le taux de faux positifs\n",
    "fpr, tpr, thresholds = roc_curve(crbn_ftp_test_label, probas)\n",
    "\n",
    "# Calcule l'aire sous la courbe ROC (AUC)\n",
    "auc = roc_auc_score(crbn_ftp_test_label, probas)\n",
    "\n",
    "# Trace la courbe ROC\n",
    "plt.plot(fpr, tpr, label='Courbe ROC (AUC = {:.2f})'.format(auc))\n",
    "plt.plot([0, 1], [0, 1], linestyle='--', color='gray', label='Aléatoire')\n",
    "plt.xlabel('Taux de faux positifs')\n",
    "plt.ylabel('Taux de vrais positifs')\n",
    "plt.title('Courbe ROC')\n",
    "plt.legend()\n",
    "plt.show()"
   ]
  },
  {
   "attachments": {},
   "cell_type": "markdown",
   "metadata": {},
   "source": [
    "Comme nous pouvons le voir grace à la matrice de confusion et à notre courbe ROC, notre modèle KNN se debrouille largement mieux le perceptron encore une fois dans la prediction des vrais-positifs et vrais-negatifs. "
   ]
  },
  {
   "attachments": {},
   "cell_type": "markdown",
   "metadata": {},
   "source": [
    "En resumé sur notre modèle **KNN**:\n",
    "- Performance moyenne sur l'ensemble de tests avec la validation croisée **0.98**\n",
    "- AUC de **1.00**\n",
    "- Temps d'éxécution sur 100 iterations d'à peu près **47**s"
   ]
  },
  {
   "attachments": {},
   "cell_type": "markdown",
   "metadata": {},
   "source": [
    "#### Arbre de décision"
   ]
  },
  {
   "attachments": {},
   "cell_type": "markdown",
   "metadata": {},
   "source": [
    "Attaquons nous maintenant à notre 3e classifieur, nous allons comme pour les deux premiers entrainer notre modèle sur les données, regarder la performance et le temps d'execution afin de choisir le modèle le plus performant pour la prédiction de l'empreinte carbonne des aliments."
   ]
  },
  {
   "cell_type": "code",
   "execution_count": 45,
   "metadata": {},
   "outputs": [
    {
     "data": {
      "image/svg+xml": [
       "<?xml version=\"1.0\" encoding=\"UTF-8\" standalone=\"no\"?>\n",
       "<!DOCTYPE svg PUBLIC \"-//W3C//DTD SVG 1.1//EN\"\n",
       " \"http://www.w3.org/Graphics/SVG/1.1/DTD/svg11.dtd\">\n",
       "<!-- Generated by graphviz version 2.43.0 (0)\n",
       " -->\n",
       "<!-- Title: %3 Pages: 1 -->\n",
       "<svg width=\"1366pt\" height=\"653pt\"\n",
       " viewBox=\"0.00 0.00 1366.00 653.00\" xmlns=\"http://www.w3.org/2000/svg\" xmlns:xlink=\"http://www.w3.org/1999/xlink\">\n",
       "<g id=\"graph0\" class=\"graph\" transform=\"scale(1 1) rotate(0) translate(4 649)\">\n",
       "<title>%3</title>\n",
       "<polygon fill=\"white\" stroke=\"transparent\" points=\"-4,4 -4,-649 1362,-649 1362,4 -4,4\"/>\n",
       "<!-- A -->\n",
       "<g id=\"node1\" class=\"node\">\n",
       "<title>A</title>\n",
       "<ellipse fill=\"none\" stroke=\"black\" cx=\"830\" cy=\"-627\" rx=\"72.29\" ry=\"18\"/>\n",
       "<text text-anchor=\"middle\" x=\"830\" y=\"-623.3\" font-family=\"Times,serif\" font-size=\"14.00\">Agriculture.1</text>\n",
       "</g>\n",
       "<!-- Ag -->\n",
       "<g id=\"node2\" class=\"node\">\n",
       "<title>Ag</title>\n",
       "<ellipse fill=\"none\" stroke=\"black\" cx=\"743\" cy=\"-540\" rx=\"90.98\" ry=\"18\"/>\n",
       "<text text-anchor=\"middle\" x=\"743\" y=\"-536.3\" font-family=\"Times,serif\" font-size=\"14.00\">Transformation.1</text>\n",
       "</g>\n",
       "<!-- A&#45;&gt;Ag -->\n",
       "<g id=\"edge37\" class=\"edge\">\n",
       "<title>A&#45;&gt;Ag</title>\n",
       "<path fill=\"none\" stroke=\"black\" d=\"M805.03,-609.79C797.29,-604.25 788.97,-597.74 782,-591 774.37,-583.61 766.95,-574.69 760.67,-566.44\"/>\n",
       "<polygon fill=\"black\" stroke=\"black\" points=\"763.32,-564.15 754.57,-558.18 757.69,-568.3 763.32,-564.15\"/>\n",
       "<text text-anchor=\"middle\" x=\"832.5\" y=\"-579.8\" font-family=\"Times,serif\" font-size=\"14.00\">&lt;=1.9490307</text>\n",
       "</g>\n",
       "<!-- Ad -->\n",
       "<g id=\"node27\" class=\"node\">\n",
       "<title>Ad</title>\n",
       "<ellipse fill=\"none\" stroke=\"black\" cx=\"933\" cy=\"-540\" rx=\"65.79\" ry=\"18\"/>\n",
       "<text text-anchor=\"middle\" x=\"933\" y=\"-536.3\" font-family=\"Times,serif\" font-size=\"14.00\">Transport.1</text>\n",
       "</g>\n",
       "<!-- A&#45;&gt;Ad -->\n",
       "<g id=\"edge38\" class=\"edge\">\n",
       "<title>A&#45;&gt;Ad</title>\n",
       "<path fill=\"none\" stroke=\"black\" d=\"M856.35,-610.09C865.1,-604.43 874.71,-597.76 883,-591 892.71,-583.08 902.63,-573.52 911.04,-564.89\"/>\n",
       "<polygon fill=\"black\" stroke=\"black\" points=\"913.62,-567.26 918.01,-557.62 908.56,-562.42 913.62,-567.26\"/>\n",
       "<text text-anchor=\"middle\" x=\"943.5\" y=\"-579.8\" font-family=\"Times,serif\" font-size=\"14.00\">&gt;1.9490307</text>\n",
       "</g>\n",
       "<!-- Agg -->\n",
       "<g id=\"node3\" class=\"node\">\n",
       "<title>Agg</title>\n",
       "<ellipse fill=\"none\" stroke=\"black\" cx=\"618\" cy=\"-453\" rx=\"72.29\" ry=\"18\"/>\n",
       "<text text-anchor=\"middle\" x=\"618\" y=\"-449.3\" font-family=\"Times,serif\" font-size=\"14.00\">Agriculture.1</text>\n",
       "</g>\n",
       "<!-- Ag&#45;&gt;Agg -->\n",
       "<g id=\"edge23\" class=\"edge\">\n",
       "<title>Ag&#45;&gt;Agg</title>\n",
       "<path fill=\"none\" stroke=\"black\" d=\"M686.69,-525.79C672.68,-520.63 658.42,-513.57 647,-504 639.51,-497.73 633.52,-488.99 628.98,-480.58\"/>\n",
       "<polygon fill=\"black\" stroke=\"black\" points=\"632,-478.8 624.46,-471.36 625.72,-481.88 632,-478.8\"/>\n",
       "<text text-anchor=\"middle\" x=\"693\" y=\"-492.8\" font-family=\"Times,serif\" font-size=\"14.00\">&lt;=1.276865</text>\n",
       "</g>\n",
       "<!-- Agd -->\n",
       "<g id=\"node26\" class=\"node\">\n",
       "<title>Agd</title>\n",
       "<polygon fill=\"none\" stroke=\"black\" points=\"770,-471 716,-471 716,-435 770,-435 770,-471\"/>\n",
       "<text text-anchor=\"middle\" x=\"743\" y=\"-449.3\" font-family=\"Times,serif\" font-size=\"14.00\">&#45;1.0</text>\n",
       "</g>\n",
       "<!-- Ag&#45;&gt;Agd -->\n",
       "<g id=\"edge24\" class=\"edge\">\n",
       "<title>Ag&#45;&gt;Agd</title>\n",
       "<path fill=\"none\" stroke=\"black\" d=\"M743,-521.8C743,-510.16 743,-494.55 743,-481.24\"/>\n",
       "<polygon fill=\"black\" stroke=\"black\" points=\"746.5,-481.18 743,-471.18 739.5,-481.18 746.5,-481.18\"/>\n",
       "<text text-anchor=\"middle\" x=\"783\" y=\"-492.8\" font-family=\"Times,serif\" font-size=\"14.00\">&gt;1.276865</text>\n",
       "</g>\n",
       "<!-- Aggg -->\n",
       "<g id=\"node4\" class=\"node\">\n",
       "<title>Aggg</title>\n",
       "<ellipse fill=\"none\" stroke=\"black\" cx=\"398\" cy=\"-366\" rx=\"65.79\" ry=\"18\"/>\n",
       "<text text-anchor=\"middle\" x=\"398\" y=\"-362.3\" font-family=\"Times,serif\" font-size=\"14.00\">Transport.1</text>\n",
       "</g>\n",
       "<!-- Agg&#45;&gt;Aggg -->\n",
       "<g id=\"edge21\" class=\"edge\">\n",
       "<title>Agg&#45;&gt;Aggg</title>\n",
       "<path fill=\"none\" stroke=\"black\" d=\"M578.19,-437.82C560.87,-431.57 540.38,-424.06 522,-417 495.33,-406.77 465.66,-394.82 442.02,-385.17\"/>\n",
       "<polygon fill=\"black\" stroke=\"black\" points=\"443.2,-381.87 432.62,-381.32 440.55,-388.35 443.2,-381.87\"/>\n",
       "<text text-anchor=\"middle\" x=\"568\" y=\"-405.8\" font-family=\"Times,serif\" font-size=\"14.00\">&lt;=1.629529</text>\n",
       "</g>\n",
       "<!-- Aggd -->\n",
       "<g id=\"node17\" class=\"node\">\n",
       "<title>Aggd</title>\n",
       "<ellipse fill=\"none\" stroke=\"black\" cx=\"618\" cy=\"-366\" rx=\"68.79\" ry=\"18\"/>\n",
       "<text text-anchor=\"middle\" x=\"618\" y=\"-362.3\" font-family=\"Times,serif\" font-size=\"14.00\">Emballage.1</text>\n",
       "</g>\n",
       "<!-- Agg&#45;&gt;Aggd -->\n",
       "<g id=\"edge22\" class=\"edge\">\n",
       "<title>Agg&#45;&gt;Aggd</title>\n",
       "<path fill=\"none\" stroke=\"black\" d=\"M618,-434.8C618,-423.16 618,-407.55 618,-394.24\"/>\n",
       "<polygon fill=\"black\" stroke=\"black\" points=\"621.5,-394.18 618,-384.18 614.5,-394.18 621.5,-394.18\"/>\n",
       "<text text-anchor=\"middle\" x=\"658\" y=\"-405.8\" font-family=\"Times,serif\" font-size=\"14.00\">&gt;1.629529</text>\n",
       "</g>\n",
       "<!-- Agggg -->\n",
       "<g id=\"node5\" class=\"node\">\n",
       "<title>Agggg</title>\n",
       "<ellipse fill=\"none\" stroke=\"black\" cx=\"215\" cy=\"-279\" rx=\"68.79\" ry=\"18\"/>\n",
       "<text text-anchor=\"middle\" x=\"215\" y=\"-275.3\" font-family=\"Times,serif\" font-size=\"14.00\">Emballage.1</text>\n",
       "</g>\n",
       "<!-- Aggg&#45;&gt;Agggg -->\n",
       "<g id=\"edge11\" class=\"edge\">\n",
       "<title>Aggg&#45;&gt;Agggg</title>\n",
       "<path fill=\"none\" stroke=\"black\" d=\"M349.22,-353.83C328.51,-348.12 304.47,-340.21 284,-330 269.26,-322.65 254.3,-312.24 242.09,-302.82\"/>\n",
       "<polygon fill=\"black\" stroke=\"black\" points=\"244.12,-299.97 234.11,-296.51 239.78,-305.46 244.12,-299.97\"/>\n",
       "<text text-anchor=\"middle\" x=\"339\" y=\"-318.8\" font-family=\"Times,serif\" font-size=\"14.00\">&lt;=0.52848982</text>\n",
       "</g>\n",
       "<!-- Agggd -->\n",
       "<g id=\"node12\" class=\"node\">\n",
       "<title>Agggd</title>\n",
       "<ellipse fill=\"none\" stroke=\"black\" cx=\"398\" cy=\"-279\" rx=\"65.79\" ry=\"18\"/>\n",
       "<text text-anchor=\"middle\" x=\"398\" y=\"-275.3\" font-family=\"Times,serif\" font-size=\"14.00\">Transport.1</text>\n",
       "</g>\n",
       "<!-- Aggg&#45;&gt;Agggd -->\n",
       "<g id=\"edge12\" class=\"edge\">\n",
       "<title>Aggg&#45;&gt;Agggd</title>\n",
       "<path fill=\"none\" stroke=\"black\" d=\"M398,-347.8C398,-336.16 398,-320.55 398,-307.24\"/>\n",
       "<polygon fill=\"black\" stroke=\"black\" points=\"401.5,-307.18 398,-297.18 394.5,-307.18 401.5,-307.18\"/>\n",
       "<text text-anchor=\"middle\" x=\"447\" y=\"-318.8\" font-family=\"Times,serif\" font-size=\"14.00\">&gt;0.52848982</text>\n",
       "</g>\n",
       "<!-- Aggggg -->\n",
       "<g id=\"node6\" class=\"node\">\n",
       "<title>Aggggg</title>\n",
       "<ellipse fill=\"none\" stroke=\"black\" cx=\"82\" cy=\"-192\" rx=\"72.29\" ry=\"18\"/>\n",
       "<text text-anchor=\"middle\" x=\"82\" y=\"-188.3\" font-family=\"Times,serif\" font-size=\"14.00\">Agriculture.1</text>\n",
       "</g>\n",
       "<!-- Agggg&#45;&gt;Aggggg -->\n",
       "<g id=\"edge5\" class=\"edge\">\n",
       "<title>Agggg&#45;&gt;Aggggg</title>\n",
       "<path fill=\"none\" stroke=\"black\" d=\"M154.66,-270.16C135.57,-265.08 115.66,-256.73 101,-243 94.54,-236.95 90.26,-228.48 87.43,-220.23\"/>\n",
       "<polygon fill=\"black\" stroke=\"black\" points=\"90.75,-219.11 84.65,-210.45 84.02,-221.02 90.75,-219.11\"/>\n",
       "<text text-anchor=\"middle\" x=\"156\" y=\"-231.8\" font-family=\"Times,serif\" font-size=\"14.00\">&lt;=0.72778284</text>\n",
       "</g>\n",
       "<!-- Aggggd -->\n",
       "<g id=\"node11\" class=\"node\">\n",
       "<title>Aggggd</title>\n",
       "<polygon fill=\"none\" stroke=\"black\" points=\"242,-210 188,-210 188,-174 242,-174 242,-210\"/>\n",
       "<text text-anchor=\"middle\" x=\"215\" y=\"-188.3\" font-family=\"Times,serif\" font-size=\"14.00\">&#45;1.0</text>\n",
       "</g>\n",
       "<!-- Agggg&#45;&gt;Aggggd -->\n",
       "<g id=\"edge6\" class=\"edge\">\n",
       "<title>Agggg&#45;&gt;Aggggd</title>\n",
       "<path fill=\"none\" stroke=\"black\" d=\"M215,-260.8C215,-249.16 215,-233.55 215,-220.24\"/>\n",
       "<polygon fill=\"black\" stroke=\"black\" points=\"218.5,-220.18 215,-210.18 211.5,-220.18 218.5,-220.18\"/>\n",
       "<text text-anchor=\"middle\" x=\"264\" y=\"-231.8\" font-family=\"Times,serif\" font-size=\"14.00\">&gt;0.72778284</text>\n",
       "</g>\n",
       "<!-- Agggggg -->\n",
       "<g id=\"node7\" class=\"node\">\n",
       "<title>Agggggg</title>\n",
       "<polygon fill=\"none\" stroke=\"black\" points=\"54,-123 0,-123 0,-87 54,-87 54,-123\"/>\n",
       "<text text-anchor=\"middle\" x=\"27\" y=\"-101.3\" font-family=\"Times,serif\" font-size=\"14.00\">1.0</text>\n",
       "</g>\n",
       "<!-- Aggggg&#45;&gt;Agggggg -->\n",
       "<g id=\"edge3\" class=\"edge\">\n",
       "<title>Aggggg&#45;&gt;Agggggg</title>\n",
       "<path fill=\"none\" stroke=\"black\" d=\"M47.81,-175.94C39.95,-170.79 32.56,-164.2 28,-156 24.23,-149.22 22.97,-141.08 22.92,-133.36\"/>\n",
       "<polygon fill=\"black\" stroke=\"black\" points=\"26.42,-133.43 23.5,-123.25 19.44,-133.03 26.42,-133.43\"/>\n",
       "<text text-anchor=\"middle\" x=\"78.5\" y=\"-144.8\" font-family=\"Times,serif\" font-size=\"14.00\">&lt;=1.5331144</text>\n",
       "</g>\n",
       "<!-- Agggggd -->\n",
       "<g id=\"node8\" class=\"node\">\n",
       "<title>Agggggd</title>\n",
       "<ellipse fill=\"none\" stroke=\"black\" cx=\"151\" cy=\"-105\" rx=\"72.29\" ry=\"18\"/>\n",
       "<text text-anchor=\"middle\" x=\"151\" y=\"-101.3\" font-family=\"Times,serif\" font-size=\"14.00\">Agriculture.1</text>\n",
       "</g>\n",
       "<!-- Aggggg&#45;&gt;Agggggd -->\n",
       "<g id=\"edge4\" class=\"edge\">\n",
       "<title>Aggggg&#45;&gt;Agggggd</title>\n",
       "<path fill=\"none\" stroke=\"black\" d=\"M108.46,-174.97C115.79,-169.61 123.3,-163.16 129,-156 134.46,-149.14 138.85,-140.72 142.22,-132.76\"/>\n",
       "<polygon fill=\"black\" stroke=\"black\" points=\"145.49,-133.99 145.84,-123.41 138.97,-131.47 145.49,-133.99\"/>\n",
       "<text text-anchor=\"middle\" x=\"182.5\" y=\"-144.8\" font-family=\"Times,serif\" font-size=\"14.00\">&gt;1.5331144</text>\n",
       "</g>\n",
       "<!-- Agggggdg -->\n",
       "<g id=\"node9\" class=\"node\">\n",
       "<title>Agggggdg</title>\n",
       "<polygon fill=\"none\" stroke=\"black\" points=\"116,-36 62,-36 62,0 116,0 116,-36\"/>\n",
       "<text text-anchor=\"middle\" x=\"89\" y=\"-14.3\" font-family=\"Times,serif\" font-size=\"14.00\">&#45;1.0</text>\n",
       "</g>\n",
       "<!-- Agggggd&#45;&gt;Agggggdg -->\n",
       "<g id=\"edge1\" class=\"edge\">\n",
       "<title>Agggggd&#45;&gt;Agggggdg</title>\n",
       "<path fill=\"none\" stroke=\"black\" d=\"M112.47,-89.78C103.59,-84.62 95.23,-77.82 90,-69 86.04,-62.32 84.73,-54.22 84.69,-46.49\"/>\n",
       "<polygon fill=\"black\" stroke=\"black\" points=\"88.19,-46.55 85.31,-36.36 81.21,-46.13 88.19,-46.55\"/>\n",
       "<text text-anchor=\"middle\" x=\"140.5\" y=\"-57.8\" font-family=\"Times,serif\" font-size=\"14.00\">&lt;=1.5349391</text>\n",
       "</g>\n",
       "<!-- Agggggdd -->\n",
       "<g id=\"node10\" class=\"node\">\n",
       "<title>Agggggdd</title>\n",
       "<polygon fill=\"none\" stroke=\"black\" points=\"240,-36 186,-36 186,0 240,0 240,-36\"/>\n",
       "<text text-anchor=\"middle\" x=\"213\" y=\"-14.3\" font-family=\"Times,serif\" font-size=\"14.00\">1.0</text>\n",
       "</g>\n",
       "<!-- Agggggd&#45;&gt;Agggggdd -->\n",
       "<g id=\"edge2\" class=\"edge\">\n",
       "<title>Agggggd&#45;&gt;Agggggdd</title>\n",
       "<path fill=\"none\" stroke=\"black\" d=\"M173.03,-87.74C179.4,-82.29 185.98,-75.84 191,-69 196.19,-61.93 200.5,-53.45 203.88,-45.5\"/>\n",
       "<polygon fill=\"black\" stroke=\"black\" points=\"207.14,-46.78 207.56,-36.19 200.63,-44.21 207.14,-46.78\"/>\n",
       "<text text-anchor=\"middle\" x=\"244.5\" y=\"-57.8\" font-family=\"Times,serif\" font-size=\"14.00\">&gt;1.5349391</text>\n",
       "</g>\n",
       "<!-- Agggdg -->\n",
       "<g id=\"node13\" class=\"node\">\n",
       "<title>Agggdg</title>\n",
       "<ellipse fill=\"none\" stroke=\"black\" cx=\"336\" cy=\"-192\" rx=\"72.29\" ry=\"18\"/>\n",
       "<text text-anchor=\"middle\" x=\"336\" y=\"-188.3\" font-family=\"Times,serif\" font-size=\"14.00\">Agriculture.1</text>\n",
       "</g>\n",
       "<!-- Agggd&#45;&gt;Agggdg -->\n",
       "<g id=\"edge9\" class=\"edge\">\n",
       "<title>Agggd&#45;&gt;Agggdg</title>\n",
       "<path fill=\"none\" stroke=\"black\" d=\"M360.11,-264.15C350.99,-258.95 342.35,-252.03 337,-243 333.04,-236.32 331.73,-228.22 331.69,-220.49\"/>\n",
       "<polygon fill=\"black\" stroke=\"black\" points=\"335.19,-220.55 332.31,-210.36 328.21,-220.13 335.19,-220.55\"/>\n",
       "<text text-anchor=\"middle\" x=\"392\" y=\"-231.8\" font-family=\"Times,serif\" font-size=\"14.00\">&lt;=0.62432008</text>\n",
       "</g>\n",
       "<!-- Agggdd -->\n",
       "<g id=\"node16\" class=\"node\">\n",
       "<title>Agggdd</title>\n",
       "<polygon fill=\"none\" stroke=\"black\" points=\"496,-210 442,-210 442,-174 496,-174 496,-210\"/>\n",
       "<text text-anchor=\"middle\" x=\"469\" y=\"-188.3\" font-family=\"Times,serif\" font-size=\"14.00\">&#45;1.0</text>\n",
       "</g>\n",
       "<!-- Agggd&#45;&gt;Agggdd -->\n",
       "<g id=\"edge10\" class=\"edge\">\n",
       "<title>Agggd&#45;&gt;Agggdd</title>\n",
       "<path fill=\"none\" stroke=\"black\" d=\"M425.09,-262.5C432.9,-257.08 440.93,-250.46 447,-243 452.53,-236.2 456.93,-227.79 460.3,-219.82\"/>\n",
       "<polygon fill=\"black\" stroke=\"black\" points=\"463.58,-221.05 463.91,-210.46 457.05,-218.54 463.58,-221.05\"/>\n",
       "<text text-anchor=\"middle\" x=\"505\" y=\"-231.8\" font-family=\"Times,serif\" font-size=\"14.00\">&gt;0.62432008</text>\n",
       "</g>\n",
       "<!-- Agggdgg -->\n",
       "<g id=\"node14\" class=\"node\">\n",
       "<title>Agggdgg</title>\n",
       "<polygon fill=\"none\" stroke=\"black\" points=\"312,-123 258,-123 258,-87 312,-87 312,-123\"/>\n",
       "<text text-anchor=\"middle\" x=\"285\" y=\"-101.3\" font-family=\"Times,serif\" font-size=\"14.00\">1.0</text>\n",
       "</g>\n",
       "<!-- Agggdg&#45;&gt;Agggdgg -->\n",
       "<g id=\"edge7\" class=\"edge\">\n",
       "<title>Agggdg&#45;&gt;Agggdgg</title>\n",
       "<path fill=\"none\" stroke=\"black\" d=\"M304.55,-175.65C297.18,-170.47 290.24,-163.95 286,-156 282.35,-149.15 281.12,-140.99 281.08,-133.27\"/>\n",
       "<polygon fill=\"black\" stroke=\"black\" points=\"284.58,-133.35 281.63,-123.18 277.59,-132.97 284.58,-133.35\"/>\n",
       "<text text-anchor=\"middle\" x=\"341\" y=\"-144.8\" font-family=\"Times,serif\" font-size=\"14.00\">&lt;=0.37014009</text>\n",
       "</g>\n",
       "<!-- Agggdgd -->\n",
       "<g id=\"node15\" class=\"node\">\n",
       "<title>Agggdgd</title>\n",
       "<polygon fill=\"none\" stroke=\"black\" points=\"445,-123 391,-123 391,-87 445,-87 445,-123\"/>\n",
       "<text text-anchor=\"middle\" x=\"418\" y=\"-101.3\" font-family=\"Times,serif\" font-size=\"14.00\">&#45;1.0</text>\n",
       "</g>\n",
       "<!-- Agggdg&#45;&gt;Agggdgd -->\n",
       "<g id=\"edge8\" class=\"edge\">\n",
       "<title>Agggdg&#45;&gt;Agggdgd</title>\n",
       "<path fill=\"none\" stroke=\"black\" d=\"M370.16,-175.97C379.42,-170.68 388.85,-164.01 396,-156 401.93,-149.36 406.46,-140.87 409.83,-132.78\"/>\n",
       "<polygon fill=\"black\" stroke=\"black\" points=\"413.17,-133.85 413.38,-123.25 406.61,-131.4 413.17,-133.85\"/>\n",
       "<text text-anchor=\"middle\" x=\"455\" y=\"-144.8\" font-family=\"Times,serif\" font-size=\"14.00\">&gt;0.37014009</text>\n",
       "</g>\n",
       "<!-- Aggdg -->\n",
       "<g id=\"node18\" class=\"node\">\n",
       "<title>Aggdg</title>\n",
       "<ellipse fill=\"none\" stroke=\"black\" cx=\"590\" cy=\"-279\" rx=\"90.98\" ry=\"18\"/>\n",
       "<text text-anchor=\"middle\" x=\"590\" y=\"-275.3\" font-family=\"Times,serif\" font-size=\"14.00\">Transformation.1</text>\n",
       "</g>\n",
       "<!-- Aggd&#45;&gt;Aggdg -->\n",
       "<g id=\"edge19\" class=\"edge\">\n",
       "<title>Aggd&#45;&gt;Aggdg</title>\n",
       "<path fill=\"none\" stroke=\"black\" d=\"M603.19,-348.29C599.16,-342.82 595.29,-336.48 593,-330 590.48,-322.87 589.32,-314.81 588.9,-307.28\"/>\n",
       "<polygon fill=\"black\" stroke=\"black\" points=\"592.39,-307.07 588.72,-297.13 585.39,-307.19 592.39,-307.07\"/>\n",
       "<text text-anchor=\"middle\" x=\"648\" y=\"-318.8\" font-family=\"Times,serif\" font-size=\"14.00\">&lt;=0.28823121</text>\n",
       "</g>\n",
       "<!-- Aggdd -->\n",
       "<g id=\"node25\" class=\"node\">\n",
       "<title>Aggdd</title>\n",
       "<polygon fill=\"none\" stroke=\"black\" points=\"753,-297 699,-297 699,-261 753,-261 753,-297\"/>\n",
       "<text text-anchor=\"middle\" x=\"726\" y=\"-275.3\" font-family=\"Times,serif\" font-size=\"14.00\">&#45;1.0</text>\n",
       "</g>\n",
       "<!-- Aggd&#45;&gt;Aggdd -->\n",
       "<g id=\"edge20\" class=\"edge\">\n",
       "<title>Aggd&#45;&gt;Aggdd</title>\n",
       "<path fill=\"none\" stroke=\"black\" d=\"M665.36,-352.66C678.76,-347.39 692.52,-340.06 703,-330 709.64,-323.63 714.54,-314.97 718.07,-306.65\"/>\n",
       "<polygon fill=\"black\" stroke=\"black\" points=\"721.38,-307.79 721.6,-297.2 714.82,-305.34 721.38,-307.79\"/>\n",
       "<text text-anchor=\"middle\" x=\"763\" y=\"-318.8\" font-family=\"Times,serif\" font-size=\"14.00\">&gt;0.28823121</text>\n",
       "</g>\n",
       "<!-- Aggdgg -->\n",
       "<g id=\"node19\" class=\"node\">\n",
       "<title>Aggdgg</title>\n",
       "<ellipse fill=\"none\" stroke=\"black\" cx=\"590\" cy=\"-192\" rx=\"72.29\" ry=\"18\"/>\n",
       "<text text-anchor=\"middle\" x=\"590\" y=\"-188.3\" font-family=\"Times,serif\" font-size=\"14.00\">Agriculture.1</text>\n",
       "</g>\n",
       "<!-- Aggdg&#45;&gt;Aggdgg -->\n",
       "<g id=\"edge17\" class=\"edge\">\n",
       "<title>Aggdg&#45;&gt;Aggdgg</title>\n",
       "<path fill=\"none\" stroke=\"black\" d=\"M590,-260.8C590,-249.16 590,-233.55 590,-220.24\"/>\n",
       "<polygon fill=\"black\" stroke=\"black\" points=\"593.5,-220.18 590,-210.18 586.5,-220.18 593.5,-220.18\"/>\n",
       "<text text-anchor=\"middle\" x=\"645\" y=\"-231.8\" font-family=\"Times,serif\" font-size=\"14.00\">&lt;=0.35632558</text>\n",
       "</g>\n",
       "<!-- Aggdgd -->\n",
       "<g id=\"node24\" class=\"node\">\n",
       "<title>Aggdgd</title>\n",
       "<polygon fill=\"none\" stroke=\"black\" points=\"750,-210 696,-210 696,-174 750,-174 750,-210\"/>\n",
       "<text text-anchor=\"middle\" x=\"723\" y=\"-188.3\" font-family=\"Times,serif\" font-size=\"14.00\">&#45;1.0</text>\n",
       "</g>\n",
       "<!-- Aggdg&#45;&gt;Aggdgd -->\n",
       "<g id=\"edge18\" class=\"edge\">\n",
       "<title>Aggdg&#45;&gt;Aggdgd</title>\n",
       "<path fill=\"none\" stroke=\"black\" d=\"M657.03,-266.8C672.84,-261.63 688.66,-254.06 701,-243 707.8,-236.9 712.6,-228.32 715.94,-219.98\"/>\n",
       "<polygon fill=\"black\" stroke=\"black\" points=\"719.27,-221.06 719.22,-210.46 712.65,-218.78 719.27,-221.06\"/>\n",
       "<text text-anchor=\"middle\" x=\"761\" y=\"-231.8\" font-family=\"Times,serif\" font-size=\"14.00\">&gt;0.35632558</text>\n",
       "</g>\n",
       "<!-- Aggdggg -->\n",
       "<g id=\"node20\" class=\"node\">\n",
       "<title>Aggdggg</title>\n",
       "<polygon fill=\"none\" stroke=\"black\" points=\"600,-123 546,-123 546,-87 600,-87 600,-123\"/>\n",
       "<text text-anchor=\"middle\" x=\"573\" y=\"-101.3\" font-family=\"Times,serif\" font-size=\"14.00\">1.0</text>\n",
       "</g>\n",
       "<!-- Aggdgg&#45;&gt;Aggdggg -->\n",
       "<g id=\"edge15\" class=\"edge\">\n",
       "<title>Aggdgg&#45;&gt;Aggdggg</title>\n",
       "<path fill=\"none\" stroke=\"black\" d=\"M580.57,-174.05C577.93,-168.47 575.4,-162.12 574,-156 572.36,-148.83 571.7,-140.94 571.55,-133.58\"/>\n",
       "<polygon fill=\"black\" stroke=\"black\" points=\"575.05,-133.36 571.63,-123.33 568.05,-133.31 575.05,-133.36\"/>\n",
       "<text text-anchor=\"middle\" x=\"624.5\" y=\"-144.8\" font-family=\"Times,serif\" font-size=\"14.00\">&lt;=1.9201001</text>\n",
       "</g>\n",
       "<!-- Aggdggd -->\n",
       "<g id=\"node21\" class=\"node\">\n",
       "<title>Aggdggd</title>\n",
       "<ellipse fill=\"none\" stroke=\"black\" cx=\"697\" cy=\"-105\" rx=\"72.29\" ry=\"18\"/>\n",
       "<text text-anchor=\"middle\" x=\"697\" y=\"-101.3\" font-family=\"Times,serif\" font-size=\"14.00\">Agriculture.1</text>\n",
       "</g>\n",
       "<!-- Aggdgg&#45;&gt;Aggdggd -->\n",
       "<g id=\"edge16\" class=\"edge\">\n",
       "<title>Aggdgg&#45;&gt;Aggdggd</title>\n",
       "<path fill=\"none\" stroke=\"black\" d=\"M638.35,-178.42C651.47,-173.18 664.84,-165.92 675,-156 681.54,-149.62 686.27,-140.96 689.63,-132.65\"/>\n",
       "<polygon fill=\"black\" stroke=\"black\" points=\"692.94,-133.79 692.97,-123.19 686.34,-131.46 692.94,-133.79\"/>\n",
       "<text text-anchor=\"middle\" x=\"730.5\" y=\"-144.8\" font-family=\"Times,serif\" font-size=\"14.00\">&gt;1.9201001</text>\n",
       "</g>\n",
       "<!-- Aggdggdg -->\n",
       "<g id=\"node22\" class=\"node\">\n",
       "<title>Aggdggdg</title>\n",
       "<polygon fill=\"none\" stroke=\"black\" points=\"662,-36 608,-36 608,0 662,0 662,-36\"/>\n",
       "<text text-anchor=\"middle\" x=\"635\" y=\"-14.3\" font-family=\"Times,serif\" font-size=\"14.00\">&#45;1.0</text>\n",
       "</g>\n",
       "<!-- Aggdggd&#45;&gt;Aggdggdg -->\n",
       "<g id=\"edge13\" class=\"edge\">\n",
       "<title>Aggdggd&#45;&gt;Aggdggdg</title>\n",
       "<path fill=\"none\" stroke=\"black\" d=\"M658.47,-89.78C649.59,-84.62 641.23,-77.82 636,-69 632.04,-62.32 630.73,-54.22 630.69,-46.49\"/>\n",
       "<polygon fill=\"black\" stroke=\"black\" points=\"634.19,-46.55 631.31,-36.36 627.21,-46.13 634.19,-46.55\"/>\n",
       "<text text-anchor=\"middle\" x=\"686.5\" y=\"-57.8\" font-family=\"Times,serif\" font-size=\"14.00\">&lt;=1.9284733</text>\n",
       "</g>\n",
       "<!-- Aggdggdd -->\n",
       "<g id=\"node23\" class=\"node\">\n",
       "<title>Aggdggdd</title>\n",
       "<polygon fill=\"none\" stroke=\"black\" points=\"786,-36 732,-36 732,0 786,0 786,-36\"/>\n",
       "<text text-anchor=\"middle\" x=\"759\" y=\"-14.3\" font-family=\"Times,serif\" font-size=\"14.00\">1.0</text>\n",
       "</g>\n",
       "<!-- Aggdggd&#45;&gt;Aggdggdd -->\n",
       "<g id=\"edge14\" class=\"edge\">\n",
       "<title>Aggdggd&#45;&gt;Aggdggdd</title>\n",
       "<path fill=\"none\" stroke=\"black\" d=\"M719.03,-87.74C725.4,-82.29 731.98,-75.84 737,-69 742.19,-61.93 746.5,-53.45 749.88,-45.5\"/>\n",
       "<polygon fill=\"black\" stroke=\"black\" points=\"753.14,-46.78 753.56,-36.19 746.63,-44.21 753.14,-46.78\"/>\n",
       "<text text-anchor=\"middle\" x=\"790.5\" y=\"-57.8\" font-family=\"Times,serif\" font-size=\"14.00\">&gt;1.9284733</text>\n",
       "</g>\n",
       "<!-- Adg -->\n",
       "<g id=\"node28\" class=\"node\">\n",
       "<title>Adg</title>\n",
       "<ellipse fill=\"none\" stroke=\"black\" cx=\"937\" cy=\"-453\" rx=\"72.29\" ry=\"18\"/>\n",
       "<text text-anchor=\"middle\" x=\"937\" y=\"-449.3\" font-family=\"Times,serif\" font-size=\"14.00\">Agriculture.1</text>\n",
       "</g>\n",
       "<!-- Ad&#45;&gt;Adg -->\n",
       "<g id=\"edge35\" class=\"edge\">\n",
       "<title>Ad&#45;&gt;Adg</title>\n",
       "<path fill=\"none\" stroke=\"black\" d=\"M933.07,-521.87C933.17,-512.21 933.42,-499.92 934,-489 934.14,-486.44 934.31,-483.78 934.5,-481.12\"/>\n",
       "<polygon fill=\"black\" stroke=\"black\" points=\"937.99,-481.32 935.31,-471.07 931.02,-480.76 937.99,-481.32\"/>\n",
       "<text text-anchor=\"middle\" x=\"984.5\" y=\"-492.8\" font-family=\"Times,serif\" font-size=\"14.00\">&lt;=0.1639215</text>\n",
       "</g>\n",
       "<!-- Add -->\n",
       "<g id=\"node39\" class=\"node\">\n",
       "<title>Add</title>\n",
       "<polygon fill=\"none\" stroke=\"black\" points=\"1084,-471 1030,-471 1030,-435 1084,-435 1084,-471\"/>\n",
       "<text text-anchor=\"middle\" x=\"1057\" y=\"-449.3\" font-family=\"Times,serif\" font-size=\"14.00\">&#45;1.0</text>\n",
       "</g>\n",
       "<!-- Ad&#45;&gt;Add -->\n",
       "<g id=\"edge36\" class=\"edge\">\n",
       "<title>Ad&#45;&gt;Add</title>\n",
       "<path fill=\"none\" stroke=\"black\" d=\"M986.69,-529.49C1003.75,-524.29 1021.63,-516.29 1035,-504 1041.72,-497.82 1046.5,-489.21 1049.85,-480.88\"/>\n",
       "<polygon fill=\"black\" stroke=\"black\" points=\"1053.17,-481.98 1053.15,-471.38 1046.56,-479.68 1053.17,-481.98\"/>\n",
       "<text text-anchor=\"middle\" x=\"1090.5\" y=\"-492.8\" font-family=\"Times,serif\" font-size=\"14.00\">&gt;0.1639215</text>\n",
       "</g>\n",
       "<!-- Adgg -->\n",
       "<g id=\"node29\" class=\"node\">\n",
       "<title>Adgg</title>\n",
       "<ellipse fill=\"none\" stroke=\"black\" cx=\"937\" cy=\"-366\" rx=\"90.98\" ry=\"18\"/>\n",
       "<text text-anchor=\"middle\" x=\"937\" y=\"-362.3\" font-family=\"Times,serif\" font-size=\"14.00\">Transformation.1</text>\n",
       "</g>\n",
       "<!-- Adg&#45;&gt;Adgg -->\n",
       "<g id=\"edge33\" class=\"edge\">\n",
       "<title>Adg&#45;&gt;Adgg</title>\n",
       "<path fill=\"none\" stroke=\"black\" d=\"M937,-434.8C937,-423.16 937,-407.55 937,-394.24\"/>\n",
       "<polygon fill=\"black\" stroke=\"black\" points=\"940.5,-394.18 937,-384.18 933.5,-394.18 940.5,-394.18\"/>\n",
       "<text text-anchor=\"middle\" x=\"987.5\" y=\"-405.8\" font-family=\"Times,serif\" font-size=\"14.00\">&lt;=2.1530018</text>\n",
       "</g>\n",
       "<!-- Adgd -->\n",
       "<g id=\"node34\" class=\"node\">\n",
       "<title>Adgd</title>\n",
       "<ellipse fill=\"none\" stroke=\"black\" cx=\"1120\" cy=\"-366\" rx=\"68.79\" ry=\"18\"/>\n",
       "<text text-anchor=\"middle\" x=\"1120\" y=\"-362.3\" font-family=\"Times,serif\" font-size=\"14.00\">Emballage.1</text>\n",
       "</g>\n",
       "<!-- Adg&#45;&gt;Adgd -->\n",
       "<g id=\"edge34\" class=\"edge\">\n",
       "<title>Adg&#45;&gt;Adgd</title>\n",
       "<path fill=\"none\" stroke=\"black\" d=\"M983.71,-439.16C1002.26,-433.37 1023.54,-425.83 1042,-417 1058.46,-409.13 1075.66,-398.42 1089.7,-388.92\"/>\n",
       "<polygon fill=\"black\" stroke=\"black\" points=\"1091.74,-391.76 1097.99,-383.21 1087.77,-386 1091.74,-391.76\"/>\n",
       "<text text-anchor=\"middle\" x=\"1113.5\" y=\"-405.8\" font-family=\"Times,serif\" font-size=\"14.00\">&gt;2.1530018</text>\n",
       "</g>\n",
       "<!-- Adggg -->\n",
       "<g id=\"node30\" class=\"node\">\n",
       "<title>Adggg</title>\n",
       "<polygon fill=\"none\" stroke=\"black\" points=\"873,-297 819,-297 819,-261 873,-261 873,-297\"/>\n",
       "<text text-anchor=\"middle\" x=\"846\" y=\"-275.3\" font-family=\"Times,serif\" font-size=\"14.00\">1.0</text>\n",
       "</g>\n",
       "<!-- Adgg&#45;&gt;Adggg -->\n",
       "<g id=\"edge27\" class=\"edge\">\n",
       "<title>Adgg&#45;&gt;Adggg</title>\n",
       "<path fill=\"none\" stroke=\"black\" d=\"M873.17,-353.13C861.31,-347.97 850.35,-340.58 843,-330 838.45,-323.45 837.54,-315.16 838.26,-307.24\"/>\n",
       "<polygon fill=\"black\" stroke=\"black\" points=\"841.74,-307.64 839.96,-297.19 834.84,-306.47 841.74,-307.64\"/>\n",
       "<text text-anchor=\"middle\" x=\"898\" y=\"-318.8\" font-family=\"Times,serif\" font-size=\"14.00\">&lt;=0.21142681</text>\n",
       "</g>\n",
       "<!-- Adggd -->\n",
       "<g id=\"node31\" class=\"node\">\n",
       "<title>Adggd</title>\n",
       "<ellipse fill=\"none\" stroke=\"black\" cx=\"971\" cy=\"-279\" rx=\"72.29\" ry=\"18\"/>\n",
       "<text text-anchor=\"middle\" x=\"971\" y=\"-275.3\" font-family=\"Times,serif\" font-size=\"14.00\">Agriculture.1</text>\n",
       "</g>\n",
       "<!-- Adgg&#45;&gt;Adggd -->\n",
       "<g id=\"edge28\" class=\"edge\">\n",
       "<title>Adgg&#45;&gt;Adggd</title>\n",
       "<path fill=\"none\" stroke=\"black\" d=\"M947.84,-347.98C951.09,-342.4 954.46,-336.07 957,-330 960.06,-322.68 962.67,-314.49 964.78,-306.88\"/>\n",
       "<polygon fill=\"black\" stroke=\"black\" points=\"968.22,-307.57 967.34,-297.02 961.44,-305.82 968.22,-307.57\"/>\n",
       "<text text-anchor=\"middle\" x=\"1012\" y=\"-318.8\" font-family=\"Times,serif\" font-size=\"14.00\">&gt;0.21142681</text>\n",
       "</g>\n",
       "<!-- Adggdg -->\n",
       "<g id=\"node32\" class=\"node\">\n",
       "<title>Adggdg</title>\n",
       "<polygon fill=\"none\" stroke=\"black\" points=\"888,-210 834,-210 834,-174 888,-174 888,-210\"/>\n",
       "<text text-anchor=\"middle\" x=\"861\" y=\"-188.3\" font-family=\"Times,serif\" font-size=\"14.00\">1.0</text>\n",
       "</g>\n",
       "<!-- Adggd&#45;&gt;Adggdg -->\n",
       "<g id=\"edge25\" class=\"edge\">\n",
       "<title>Adggd&#45;&gt;Adggdg</title>\n",
       "<path fill=\"none\" stroke=\"black\" d=\"M913.76,-267.94C898.69,-262.75 883.68,-254.9 873,-243 867.38,-236.74 864.27,-228.32 862.59,-220.17\"/>\n",
       "<polygon fill=\"black\" stroke=\"black\" points=\"866.04,-219.57 861.13,-210.18 859.11,-220.58 866.04,-219.57\"/>\n",
       "<text text-anchor=\"middle\" x=\"923.5\" y=\"-231.8\" font-family=\"Times,serif\" font-size=\"14.00\">&lt;=1.9689436</text>\n",
       "</g>\n",
       "<!-- Adggdd -->\n",
       "<g id=\"node33\" class=\"node\">\n",
       "<title>Adggdd</title>\n",
       "<polygon fill=\"none\" stroke=\"black\" points=\"1012,-210 958,-210 958,-174 1012,-174 1012,-210\"/>\n",
       "<text text-anchor=\"middle\" x=\"985\" y=\"-188.3\" font-family=\"Times,serif\" font-size=\"14.00\">&#45;1.0</text>\n",
       "</g>\n",
       "<!-- Adggd&#45;&gt;Adggdd -->\n",
       "<g id=\"edge26\" class=\"edge\">\n",
       "<title>Adggd&#45;&gt;Adggdd</title>\n",
       "<path fill=\"none\" stroke=\"black\" d=\"M973.83,-260.8C975.75,-249.16 978.32,-233.55 980.51,-220.24\"/>\n",
       "<polygon fill=\"black\" stroke=\"black\" points=\"984,-220.61 982.17,-210.18 977.09,-219.47 984,-220.61\"/>\n",
       "<text text-anchor=\"middle\" x=\"1023.5\" y=\"-231.8\" font-family=\"Times,serif\" font-size=\"14.00\">&gt;1.9689436</text>\n",
       "</g>\n",
       "<!-- Adgdg -->\n",
       "<g id=\"node35\" class=\"node\">\n",
       "<title>Adgdg</title>\n",
       "<ellipse fill=\"none\" stroke=\"black\" cx=\"1133\" cy=\"-279\" rx=\"72.29\" ry=\"18\"/>\n",
       "<text text-anchor=\"middle\" x=\"1133\" y=\"-275.3\" font-family=\"Times,serif\" font-size=\"14.00\">Agriculture.1</text>\n",
       "</g>\n",
       "<!-- Adgd&#45;&gt;Adgdg -->\n",
       "<g id=\"edge31\" class=\"edge\">\n",
       "<title>Adgd&#45;&gt;Adgdg</title>\n",
       "<path fill=\"none\" stroke=\"black\" d=\"M1119.04,-347.75C1118.82,-338.05 1119.09,-325.77 1121,-315 1121.48,-312.31 1122.13,-309.54 1122.88,-306.8\"/>\n",
       "<polygon fill=\"black\" stroke=\"black\" points=\"1126.25,-307.76 1125.93,-297.17 1119.57,-305.64 1126.25,-307.76\"/>\n",
       "<text text-anchor=\"middle\" x=\"1180.5\" y=\"-318.8\" font-family=\"Times,serif\" font-size=\"14.00\">&lt;=0.080661633</text>\n",
       "</g>\n",
       "<!-- Adgdd -->\n",
       "<g id=\"node38\" class=\"node\">\n",
       "<title>Adgdd</title>\n",
       "<polygon fill=\"none\" stroke=\"black\" points=\"1289,-297 1235,-297 1235,-261 1289,-261 1289,-297\"/>\n",
       "<text text-anchor=\"middle\" x=\"1262\" y=\"-275.3\" font-family=\"Times,serif\" font-size=\"14.00\">&#45;1.0</text>\n",
       "</g>\n",
       "<!-- Adgd&#45;&gt;Adgdd -->\n",
       "<g id=\"edge32\" class=\"edge\">\n",
       "<title>Adgd&#45;&gt;Adgdd</title>\n",
       "<path fill=\"none\" stroke=\"black\" d=\"M1181.51,-357.72C1202.02,-352.7 1223.77,-344.24 1240,-330 1246.97,-323.89 1251.82,-315.15 1255.16,-306.69\"/>\n",
       "<polygon fill=\"black\" stroke=\"black\" points=\"1258.53,-307.65 1258.42,-297.05 1251.9,-305.4 1258.53,-307.65\"/>\n",
       "<text text-anchor=\"middle\" x=\"1304.5\" y=\"-318.8\" font-family=\"Times,serif\" font-size=\"14.00\">&gt;0.080661633</text>\n",
       "</g>\n",
       "<!-- Adgdgg -->\n",
       "<g id=\"node36\" class=\"node\">\n",
       "<title>Adgdgg</title>\n",
       "<polygon fill=\"none\" stroke=\"black\" points=\"1146,-210 1092,-210 1092,-174 1146,-174 1146,-210\"/>\n",
       "<text text-anchor=\"middle\" x=\"1119\" y=\"-188.3\" font-family=\"Times,serif\" font-size=\"14.00\">1.0</text>\n",
       "</g>\n",
       "<!-- Adgdg&#45;&gt;Adgdgg -->\n",
       "<g id=\"edge29\" class=\"edge\">\n",
       "<title>Adgdg&#45;&gt;Adgdgg</title>\n",
       "<path fill=\"none\" stroke=\"black\" d=\"M1125.34,-260.88C1123.19,-255.29 1121.14,-248.99 1120,-243 1118.63,-235.78 1118.05,-227.87 1117.9,-220.51\"/>\n",
       "<polygon fill=\"black\" stroke=\"black\" points=\"1121.4,-220.28 1117.93,-210.27 1114.4,-220.26 1121.4,-220.28\"/>\n",
       "<text text-anchor=\"middle\" x=\"1170.5\" y=\"-231.8\" font-family=\"Times,serif\" font-size=\"14.00\">&lt;=2.4055327</text>\n",
       "</g>\n",
       "<!-- Adgdgd -->\n",
       "<g id=\"node37\" class=\"node\">\n",
       "<title>Adgdgd</title>\n",
       "<polygon fill=\"none\" stroke=\"black\" points=\"1270,-210 1216,-210 1216,-174 1270,-174 1270,-210\"/>\n",
       "<text text-anchor=\"middle\" x=\"1243\" y=\"-188.3\" font-family=\"Times,serif\" font-size=\"14.00\">&#45;1.0</text>\n",
       "</g>\n",
       "<!-- Adgdg&#45;&gt;Adgdgd -->\n",
       "<g id=\"edge30\" class=\"edge\">\n",
       "<title>Adgdg&#45;&gt;Adgdgd</title>\n",
       "<path fill=\"none\" stroke=\"black\" d=\"M1182.58,-265.9C1196.31,-260.65 1210.35,-253.27 1221,-243 1227.57,-236.66 1232.32,-228.01 1235.67,-219.69\"/>\n",
       "<polygon fill=\"black\" stroke=\"black\" points=\"1238.98,-220.83 1239,-210.23 1232.38,-218.5 1238.98,-220.83\"/>\n",
       "<text text-anchor=\"middle\" x=\"1276.5\" y=\"-231.8\" font-family=\"Times,serif\" font-size=\"14.00\">&gt;2.4055327</text>\n",
       "</g>\n",
       "</g>\n",
       "</svg>\n"
      ],
      "text/plain": [
       "<graphviz.graphs.Digraph at 0x7f516bd9a130>"
      ]
     },
     "execution_count": 45,
     "metadata": {},
     "output_type": "execute_result"
    }
   ],
   "source": [
    "# Temps d'éxécution trop long\n",
    "\n",
    "np.random.seed(14)\n",
    "\n",
    "arbreDecision = cl.ClassifierArbreNumerique(6, 0.0, crbn_ftp_df.columns)\n",
    "\n",
    "train_acc_abr = []\n",
    "test_acc_abr = []\n",
    "\n",
    "# Réalisation de N itérations\n",
    "N = 1\n",
    "before_abr = time.time()\n",
    "for i in range(N):\n",
    "    arbreDecision.train(crbn_ftp_train_data, crbn_ftp_train_label)\n",
    "    train_acc_abr.append(arbreDecision.accuracy(crbn_ftp_train_data, crbn_ftp_train_label))\n",
    "    test_acc_abr.append(arbreDecision.accuracy(crbn_ftp_test_data, crbn_ftp_test_label))\n",
    "after_abr = time.time()\n",
    "\n",
    "graphe_arbre = gv.Digraph(format='png')\n",
    "arbreDecision.affiche(graphe_arbre)\n",
    "graphe_arbre"
   ]
  },
  {
   "cell_type": "code",
   "execution_count": 46,
   "metadata": {},
   "outputs": [
    {
     "data": {
      "image/png": "[encoded data removed]",
      "text/plain": [
       "<Figure size 432x288 with 1 Axes>"
      ]
     },
     "metadata": {
      "needs_background": "light"
     },
     "output_type": "display_data"
    }
   ],
   "source": [
    "# Traçage de la courbe des variations d'accuracy\n",
    "plt.plot(range(1,N+1),train_acc_abr,test_acc_abr)\n",
    "plt.ylabel('Accuracy')\n",
    "plt.xlabel(\"Etape\")\n",
    "plt.show()"
   ]
  },
  {
   "cell_type": "code",
   "execution_count": 47,
   "metadata": {},
   "outputs": [
    {
     "name": "stdout",
     "output_type": "stream",
     "text": [
      "Accuracy finale sur le train:  1.0\n",
      "Accuracy finale sur le test:  0.997134670487106\n",
      "Le temps d'execution: 4.636983633041382\n"
     ]
    }
   ],
   "source": [
    "print(\"Accuracy finale sur le train: \",train_acc_abr[-1])\n",
    "print(\"Accuracy finale sur le test: \",test_acc_abr[-1])\n",
    "print(\"Le temps d'execution:\", after_abr-before_abr)"
   ]
  },
  {
   "attachments": {},
   "cell_type": "markdown",
   "metadata": {},
   "source": [
    "Notre modèle d'arbre de décision à une performance equivalente à notre modèle KNN. Cependant le temps d'execution est beaucoup plus long ce qui était un peu prévisible vu la profondeur de l'arbre et la taille des données. </br>"
   ]
  },
  {
   "cell_type": "code",
   "execution_count": 48,
   "metadata": {},
   "outputs": [
    {
     "name": "stdout",
     "output_type": "stream",
     "text": [
      "0 : taille app.=  1570 taille test=  173 Accuracy: 1.0\n",
      "1 : taille app.=  1568 taille test=  175 Accuracy: 0.9714285714285714\n",
      "2 : taille app.=  1567 taille test=  176 Accuracy: 1.0\n",
      "3 : taille app.=  1566 taille test=  177 Accuracy: 0.9830508474576272\n",
      "4 : taille app.=  1564 taille test=  179 Accuracy: 0.9888268156424581\n",
      "5 : taille app.=  1563 taille test=  180 Accuracy: 0.9888888888888889\n",
      "6 : taille app.=  1562 taille test=  181 Accuracy: 0.994475138121547\n",
      "7 : taille app.=  1561 taille test=  182 Accuracy: 0.978021978021978\n",
      "8 : taille app.=  1559 taille test=  184 Accuracy: 0.9891304347826086\n",
      "9 : taille app.=  1557 taille test=  186 Accuracy: 1.0\n",
      "La moyenne est de:  0.989382267434368\n"
     ]
    }
   ],
   "source": [
    "dump = ev.validation_croisee(arbreDecision, crbn_ftp_data, crbn_ftp_label, 10)\n",
    "print(\"La moyenne est de: \", dump[1])"
   ]
  },
  {
   "cell_type": "code",
   "execution_count": 49,
   "metadata": {},
   "outputs": [
    {
     "data": {
      "image/png": "[encoded data removed]",
      "text/plain": [
       "<Figure size 576x432 with 1 Axes>"
      ]
     },
     "metadata": {
      "needs_background": "light"
     },
     "output_type": "display_data"
    }
   ],
   "source": [
    "y_pred_abr = [arbreDecision.predict(x) for x in crbn_ftp_test_data]\n",
    "\n",
    "# Création de la matrice de confusion\n",
    "cm = confusion_matrix(crbn_ftp_test_label.astype(int), y_pred_abr)\n",
    "\n",
    "# Affichage de la matrice de confusion sous forme de heatmap\n",
    "plt.figure(figsize=(8, 6))\n",
    "sns.heatmap(cm, annot=True, fmt='d', cmap='Blues', cbar=False)\n",
    "plt.xlabel('Prédictions')\n",
    "plt.ylabel('Valeurs réelles')\n",
    "plt.show()"
   ]
  },
  {
   "attachments": {},
   "cell_type": "markdown",
   "metadata": {},
   "source": [
    "La matrice de confusion nous montre que notre arbre de décision est au coude à coude avec le KNN quant à la classification de nos exemples."
   ]
  },
  {
   "attachments": {},
   "cell_type": "markdown",
   "metadata": {},
   "source": [
    "En resumé sur notre modèle **Arbre de Décision**:\n",
    "- Performance moyenne sur l'ensemble de tests avec la validation croisée **0.97**\n",
    "- Temps d'éxécution sur 100 iterations de **14**s"
   ]
  },
  {
   "attachments": {},
   "cell_type": "markdown",
   "metadata": {},
   "source": [
    "### Comparaison des modèles"
   ]
  },
  {
   "cell_type": "code",
   "execution_count": 50,
   "metadata": {},
   "outputs": [
    {
     "data": {
      "image/png": "[encoded data removed]",
      "text/plain": [
       "<Figure size 432x288 with 1 Axes>"
      ]
     },
     "metadata": {
      "needs_background": "light"
     },
     "output_type": "display_data"
    }
   ],
   "source": [
    "# Le temps d'éxécution de ce bloc est très très très long, je vous conseillerai de vous équiper de votre pop-corn ou d'aller faire une balade\n",
    "\n",
    "train_sizes = [300, 600, 900, 1200, 1500]\n",
    "\n",
    "perf, perf_moy_abr, perf_sd_abr = ev.validation_croisee_size(arbreDecision, crbn_ftp_data, crbn_ftp_label, 10, train_sizes)\n",
    "perf, perf_moy_knn, perf_sd_knn = ev.validation_croisee_size(knn, crbn_ftp_data, crbn_ftp_label, 10, train_sizes)\n",
    "perf, perf_moy_percep, perf_sd_percep = ev.validation_croisee_size(perceptron, crbn_ftp_data, crbn_ftp_label, 10, train_sizes)\n",
    "\n",
    "perf_moy_list = [perf_moy_abr, perf_moy_knn, perf_moy_percep]\n",
    "perf_sd_list = [perf_sd_abr, perf_sd_knn, perf_sd_percep]\n",
    "labels = ['Arbre de Décision', 'KNN', 'Perceptron']\n",
    "ev.plot_performance(train_sizes, perf_moy_list, perf_sd_list, labels)"
   ]
  },
  {
   "attachments": {},
   "cell_type": "markdown",
   "metadata": {},
   "source": [
    "Sur la base de ces résultats, on peut conclure que :\n",
    "\n",
    "Le modèle **KNN** et **Arbre de Décision** sont ici les plus performants avec une accuracy généralement élévée (autour de 90) qu'importe la taille des données, le choix du meilleur modèle va plus se porter sur le temps d'execution: le temps de calcul augmente exponentiellement avec la taille des données pour l'Arbre de Décision quand les données n'ont pas été \"cleanés\". </br>\n",
    "Le **Perceptron** présente des performances légèrement inférieures aux autres modèles, avec une accuracy plus faible dans tous les cas. </br>"
   ]
  },
  {
   "attachments": {},
   "cell_type": "markdown",
   "metadata": {},
   "source": [
    "### Experimentations"
   ]
  },
  {
   "attachments": {},
   "cell_type": "markdown",
   "metadata": {},
   "source": [
    "Dans cette partie nous allons faire differentes autres experimentations que nous avions voulu tester: Construire la base d'apprentissage en prenant en compte le QDR (fiabilité des données), Interroger un modèle sur sa prediction par rapport à l'eco-responsabilité d'un aliment, KNN version multi-classes"
   ]
  },
  {
   "attachments": {},
   "cell_type": "markdown",
   "metadata": {},
   "source": [
    "#### Data-Cleaning"
   ]
  },
  {
   "attachments": {},
   "cell_type": "markdown",
   "metadata": {},
   "source": [
    "Nous avons vu dans la documentation du site Agribalyse que les données ont une note de fiabilité noté DQR (Data Quality Ratio) allant de 1 à 5, nous avons donc décidé de reconsidérer notre base de données en prenant en compte ce facteur. </br>\n",
    "Ce choix a eu pour conséquence l'augmentation de la performance de tous nos modèles, tout particuliérement le knn: çela pourrait être lié à l'amelioration de la qualité des données tout comme ça pourrait être tout simplement la réduction de l'ensemble de donnée.\n",
    "Le temps d'éxécution de notre modèle d'arbre de décision numérique s'est tout particulièrement réduit."
   ]
  },
  {
   "attachments": {},
   "cell_type": "markdown",
   "metadata": {},
   "source": [
    "#### Fonction pour interroger les modèles à partir du nom d'un aliment"
   ]
  },
  {
   "cell_type": "code",
   "execution_count": 111,
   "metadata": {},
   "outputs": [
    {
     "name": "stderr",
     "output_type": "stream",
     "text": [
      "/tmp/ipykernel_603/884506391.py:5: SettingWithCopyWarning: \n",
      "A value is trying to be set on a copy of a slice from a DataFrame.\n",
      "Try using .loc[row_indexer,col_indexer] = value instead\n",
      "\n",
      "See the caveats in the documentation: https://pandas.pydata.org/pandas-docs/stable/user_guide/indexing.html#returning-a-view-versus-a-copy\n",
      "  crbn_ftp_comp[\"Vraie Valeur\"] = data_synthese[\"Changement climatique\"]\n"
     ]
    }
   ],
   "source": [
    "import re\n",
    "\n",
    "names = data_etapes[\"Nom du Produit en Français\"].unique()\n",
    "crbn_ftp_comp = data_etapes[[\"Nom du Produit en Français\",\"Agriculture\", \"Transformation\", \"Emballage\", \"Transport\", \"Supermarché et distribution\", \"Consommation\"]]\n",
    "crbn_ftp_comp[\"Vraie Valeur\"] = data_synthese[\"Changement climatique\"]\n",
    "\n",
    "\n",
    "def findWholeWord(w):\n",
    "    return re.compile(r'\\b({0})\\b'.format(w), flags=re.IGNORECASE).search\n",
    "\n",
    "def isItEnvironmentallyFriendly(x, model = \"knn\"):\n",
    "    if len(x) != 6:\n",
    "        raise ValueError(\"Vous devez mêttre tous les caracteristiques de x sous la forme d'une liste doit être de 6\")\n",
    "    x = np.array(x)\n",
    "    x = x.reshape(1, -1)\n",
    "    if model == \"knn\":\n",
    "        pred = knn.predict(x)\n",
    "    elif model == \"perceptron\":\n",
    "        pred = perceptron.predict(x)\n",
    "    elif model == \"arbre\":\n",
    "        pred = arbreDecision.predict(x)\n",
    "    if pred == -1:\n",
    "        print(\"L'aliment n'est pas eco-responsable\")\n",
    "    else:\n",
    "        print(\"L'aliment est eco-responsable\")\n",
    "    isItReally(x, pred)\n",
    "\n",
    "def isItEnvironmentallyFriendlyByName(name, model = \"knn\"):\n",
    "    \n",
    "    temp_df = crbn_ftp_comp[crbn_ftp_comp['Nom du Produit en Français'].isin([name])]\n",
    "    \n",
    "    name = name.lower()\n",
    "    found = []\n",
    "    \n",
    "    print(temp_df.head())\n",
    "    \n",
    "    \n",
    "    for n in names:\n",
    "        lower = n.lower()\n",
    "        if findWholeWord(name)(lower) != None:\n",
    "            x = crbn_ftp_comp.loc[crbn_ftp_comp[\"Nom du Produit en Français\"] == n]\n",
    "            x = x.drop(columns=[\"Nom du Produit en Français\",\"Vraie Valeur\"])\n",
    "            x = np.asarray(x)\n",
    "            if model == \"knn\":\n",
    "                pred = knn.predict(x)\n",
    "                found.append((n, pred))\n",
    "            elif model == \"perceptron\":\n",
    "                pred = perceptron.predict(x)\n",
    "                found.append((n, pred))\n",
    "            elif model == \"arbre\":\n",
    "                pred = arbreDecision.predict(x)\n",
    "                found.append((n, pred))\n",
    "            \n",
    "    if len(found) == 0:\n",
    "        print(\"L'aliment\",name,\"n'est pas dans notre base de données.\")\n",
    "    else:\n",
    "        print(len(found), \"aliment(s) correspondent à votre recherche, voici la liste et leur prédiction:\\n\")\n",
    "        for f in found:\n",
    "            if f[1] == -1:\n",
    "                print(f[0],\": non eco-responsable\")\n",
    "            else:\n",
    "                print(f[0],\": eco-responsable\")\n",
    "            isItReally(f[0], f[1])\n",
    "                \n",
    "def isItReally(name, pred):\n",
    "    x = crbn_ftp_comp.loc[crbn_ftp_comp[\"Nom du Produit en Français\"] == name]\n",
    "    x = np.asarray(crbn_ftp_comp[\"Vraie Valeur\"])\n",
    "    b = x[0] > crbn_ftp_med\n",
    "    if pred == -1 and b == False or pred == 1 and b == True:\n",
    "        print(\"------Confirmé par la base de donnée------\")\n",
    "    else:\n",
    "        print(\"------Infirmé par la base de donnée-------\")\n",
    "    "
   ]
  },
  {
   "cell_type": "code",
   "execution_count": 112,
   "metadata": {},
   "outputs": [
    {
     "name": "stdout",
     "output_type": "stream",
     "text": [
      "  Nom du Produit en Français  Agriculture  Transformation  Emballage  \\\n",
      "2                   Ail. cru     0.040826             0.0        0.0   \n",
      "\n",
      "   Transport  Supermarché et distribution  Consommation  Vraie Valeur  \n",
      "2   0.014071                     0.005629      0.003288         0.356  \n",
      "1 aliment(s) correspondent à votre recherche, voici la liste et leur prédiction:\n",
      "\n",
      "Ail. cru : eco-responsable\n",
      "------Confirmé par la base de donnée------\n"
     ]
    }
   ],
   "source": [
    "isItEnvironmentallyFriendlyByName(\"Ail. cru\", \"knn\")"
   ]
  },
  {
   "attachments": {},
   "cell_type": "markdown",
   "metadata": {},
   "source": [
    "#### Knn multi-classes"
   ]
  },
  {
   "attachments": {},
   "cell_type": "markdown",
   "metadata": {
    "id": "cpjEEExehouX"
   },
   "source": [
    "## Apprentissage non-supervisé"
   ]
  },
  {
   "attachments": {},
   "cell_type": "markdown",
   "metadata": {},
   "source": [
    "### Problématique"
   ]
  },
  {
   "attachments": {},
   "cell_type": "markdown",
   "metadata": {
    "id": "-MIrGK_ckPf8"
   },
   "source": [
    "<div class=\"alert alert-block alert-info\">\n",
    "Par la suite on va s'intéressé à la Classification des produits alimentaires en fonction de leurs caractéristiques nutritionnelles et leurs impact sur la santé Humaines pour une application de régimes alimentaires.\n",
    "\n",
    "Nous utiliserons les algorithmes :  \n",
    "\n",
    "*   Clustering Hierarchique Agglomératif\n",
    "*   K-Means\n",
    "\n",
    "Afin regrouper les produits similaires en termes de composition nutritionnelle.\n",
    "\n",
    "Cette classification permettra d'analyser les similitudes et les différences entre les produits alimentaires en fonction de leur effets toxicologiques, ce qui pourrait avoir des implications pour la santé et la recommandation de produits adaptés.\n",
    "    \n",
    " * **Les indicateurs \"Effets toxicologiques sur la santé humaine : substances non cancérigènes\" et \"Effets toxicologiques sur la santé humaine : substances cancérigènes\" font référence aux effets néfastes sur la santé humaine résultant de l'exposition à des substances chimiques.**\n",
    "\n",
    "* **Ces indicateurs sont utilisés pour évaluer l'impact potentiel des substances chimiques sur la santé humaine, en prenant en compte les effets à court terme (non cancérigènes) et les effets à long terme (cancérigènes). Ils sont souvent basés sur des études scientifiques et des évaluations toxicologiques pour estimer les risques pour la santé associés à l'exposition à ces substances.**    "
   ]
  },
  {
   "attachments": {},
   "cell_type": "markdown",
   "metadata": {
    "id": "6yYcGDivnLWg"
   },
   "source": [
    "### Exploration des données"
   ]
  },
  {
   "attachments": {},
   "cell_type": "markdown",
   "metadata": {},
   "source": [
    "Nous utilisons deux bases de données pour notre analyse : \n",
    "* la \"Base Synthèse\" \n",
    "* la \"Base Ingrédients\" \n",
    "\n",
    "provenant de l'AGRIBALYSE. **Notons que la version 3.1 de l'AGRIBALYSE que nous utilisons intègre de nouvelles informations sur les effets toxicologiques sur la santé humaine par rapport à la version précédente (AGRIBALYSE 3.0)**. Cette évolution nous permet d'aborder plus en détail la problématique de l'impact des produits alimentaires sur la santé humaine.\n",
    "\n",
    "**Perspective globale vs perspective spécifique :** \n",
    "\n",
    "L'analyse du groupe d'aliments nocifs pour la santé permet de prendre en compte les interactions complexes entre les différents ingrédients présents dans un aliment, ainsi que les effets cumulatifs résultant de leur consommation combinée. Cela offre une perspective plus holistique des impacts sur la santé. En revanche, l'analyse du groupe d'ingrédients nocifs pour la santé se concentre sur des éléments spécifiques et permet d'identifier les ingrédients individuels qui peuvent être préjudiciables. Cela peut être pertinent pour comprendre en détail les composants responsables des effets sur la santé."
   ]
  },
  {
   "cell_type": "code",
   "execution_count": 196,
   "metadata": {
    "colab": {
     "base_uri": "https://localhost:8080/",
     "height": 716
    },
    "id": "V3rUTAZLnPd1",
    "outputId": "5bc0f954-62c6-4624-c9d0-f173b877fa33"
   },
   "outputs": [
    {
     "data": {
      "text/html": [
       "<div>\n",
       "<style scoped>\n",
       "    .dataframe tbody tr th:only-of-type {\n",
       "        vertical-align: middle;\n",
       "    }\n",
       "\n",
       "    .dataframe tbody tr th {\n",
       "        vertical-align: top;\n",
       "    }\n",
       "\n",
       "    .dataframe thead th {\n",
       "        text-align: right;\n",
       "    }\n",
       "</style>\n",
       "<table border=\"1\" class=\"dataframe\">\n",
       "  <thead>\n",
       "    <tr style=\"text-align: right;\">\n",
       "      <th></th>\n",
       "      <th>Code AGB</th>\n",
       "      <th>Code CIQUAL</th>\n",
       "      <th>Groupe d'aliment</th>\n",
       "      <th>Sous-groupe d'aliment</th>\n",
       "      <th>Nom du Produit en Français</th>\n",
       "      <th>LCI Name</th>\n",
       "      <th>code saison</th>\n",
       "      <th>code avion</th>\n",
       "      <th>Livraison</th>\n",
       "      <th>Matériau d'emballage</th>\n",
       "      <th>...</th>\n",
       "      <th>Effets toxicologiques sur la santé humaine : substances cancérogènes</th>\n",
       "      <th>Acidification terrestre et eaux douces</th>\n",
       "      <th>Eutrophisation eaux douces</th>\n",
       "      <th>Eutrophisation marine</th>\n",
       "      <th>Eutrophisation terrestre</th>\n",
       "      <th>Écotoxicité pour écosystèmes aquatiques d'eau douce</th>\n",
       "      <th>Utilisation du sol</th>\n",
       "      <th>Épuisement des ressources eau</th>\n",
       "      <th>Épuisement des ressources énergétiques</th>\n",
       "      <th>Épuisement des ressources minéraux</th>\n",
       "    </tr>\n",
       "  </thead>\n",
       "  <tbody>\n",
       "    <tr>\n",
       "      <th>0</th>\n",
       "      <td>11084</td>\n",
       "      <td>11084</td>\n",
       "      <td>aides culinaires et ingrédients divers</td>\n",
       "      <td>algues</td>\n",
       "      <td>Agar (algue), cru</td>\n",
       "      <td>Seaweed, agar, raw</td>\n",
       "      <td>2</td>\n",
       "      <td>0</td>\n",
       "      <td>Ambiant (long)</td>\n",
       "      <td>LDPE</td>\n",
       "      <td>...</td>\n",
       "      <td>6.480000e-09</td>\n",
       "      <td>0.09970</td>\n",
       "      <td>0.001870</td>\n",
       "      <td>0.01330</td>\n",
       "      <td>0.12700</td>\n",
       "      <td>44.60</td>\n",
       "      <td>26.5</td>\n",
       "      <td>3.10</td>\n",
       "      <td>315.00</td>\n",
       "      <td>0.000088</td>\n",
       "    </tr>\n",
       "    <tr>\n",
       "      <th>1</th>\n",
       "      <td>11023</td>\n",
       "      <td>11023</td>\n",
       "      <td>aides culinaires et ingrédients divers</td>\n",
       "      <td>herbes</td>\n",
       "      <td>Ail séché, poudre</td>\n",
       "      <td>Garlic, powder, dried</td>\n",
       "      <td>2</td>\n",
       "      <td>0</td>\n",
       "      <td>Ambiant (long)</td>\n",
       "      <td>Verre</td>\n",
       "      <td>...</td>\n",
       "      <td>4.660000e-10</td>\n",
       "      <td>0.00622</td>\n",
       "      <td>0.000124</td>\n",
       "      <td>0.00232</td>\n",
       "      <td>0.01270</td>\n",
       "      <td>5.83</td>\n",
       "      <td>20.2</td>\n",
       "      <td>2.52</td>\n",
       "      <td>12.70</td>\n",
       "      <td>0.000007</td>\n",
       "    </tr>\n",
       "    <tr>\n",
       "      <th>2</th>\n",
       "      <td>11000</td>\n",
       "      <td>11000</td>\n",
       "      <td>aides culinaires et ingrédients divers</td>\n",
       "      <td>herbes</td>\n",
       "      <td>Ail, cru</td>\n",
       "      <td>Garlic, fresh</td>\n",
       "      <td>2</td>\n",
       "      <td>0</td>\n",
       "      <td>Ambiant (long)</td>\n",
       "      <td>Pas d'emballage</td>\n",
       "      <td>...</td>\n",
       "      <td>2.980000e-10</td>\n",
       "      <td>0.00200</td>\n",
       "      <td>0.000068</td>\n",
       "      <td>0.00212</td>\n",
       "      <td>0.00628</td>\n",
       "      <td>4.09</td>\n",
       "      <td>18.5</td>\n",
       "      <td>3.02</td>\n",
       "      <td>6.23</td>\n",
       "      <td>0.000004</td>\n",
       "    </tr>\n",
       "    <tr>\n",
       "      <th>3</th>\n",
       "      <td>11093</td>\n",
       "      <td>11093</td>\n",
       "      <td>aides culinaires et ingrédients divers</td>\n",
       "      <td>herbes</td>\n",
       "      <td>Aneth, frais</td>\n",
       "      <td>Dill, fresh</td>\n",
       "      <td>2</td>\n",
       "      <td>0</td>\n",
       "      <td>Ambiant (long)</td>\n",
       "      <td>LDPE</td>\n",
       "      <td>...</td>\n",
       "      <td>6.190000e-10</td>\n",
       "      <td>0.00811</td>\n",
       "      <td>0.000203</td>\n",
       "      <td>0.00405</td>\n",
       "      <td>0.03120</td>\n",
       "      <td>5.68</td>\n",
       "      <td>36.4</td>\n",
       "      <td>5.29</td>\n",
       "      <td>12.60</td>\n",
       "      <td>0.000005</td>\n",
       "    </tr>\n",
       "    <tr>\n",
       "      <th>4</th>\n",
       "      <td>20995</td>\n",
       "      <td>20995</td>\n",
       "      <td>aides culinaires et ingrédients divers</td>\n",
       "      <td>algues</td>\n",
       "      <td>Ao-nori (Enteromorpha sp.), séchée ou déshydratée</td>\n",
       "      <td>Sea lettuce (Enteromorpha sp.), dried or dehyd...</td>\n",
       "      <td>2</td>\n",
       "      <td>0</td>\n",
       "      <td>Ambiant (long)</td>\n",
       "      <td>LDPE</td>\n",
       "      <td>...</td>\n",
       "      <td>6.480000e-09</td>\n",
       "      <td>0.09970</td>\n",
       "      <td>0.001870</td>\n",
       "      <td>0.01330</td>\n",
       "      <td>0.12700</td>\n",
       "      <td>44.60</td>\n",
       "      <td>26.5</td>\n",
       "      <td>3.10</td>\n",
       "      <td>315.00</td>\n",
       "      <td>0.000088</td>\n",
       "    </tr>\n",
       "  </tbody>\n",
       "</table>\n",
       "<p>5 rows × 29 columns</p>\n",
       "</div>"
      ],
      "text/plain": [
       "  Code AGB  Code CIQUAL                        Groupe d'aliment  \\\n",
       "0    11084        11084  aides culinaires et ingrédients divers   \n",
       "1    11023        11023  aides culinaires et ingrédients divers   \n",
       "2    11000        11000  aides culinaires et ingrédients divers   \n",
       "3    11093        11093  aides culinaires et ingrédients divers   \n",
       "4    20995        20995  aides culinaires et ingrédients divers   \n",
       "\n",
       "  Sous-groupe d'aliment                         Nom du Produit en Français  \\\n",
       "0                algues                                  Agar (algue), cru   \n",
       "1                herbes                                  Ail séché, poudre   \n",
       "2                herbes                                           Ail, cru   \n",
       "3                herbes                                       Aneth, frais   \n",
       "4                algues  Ao-nori (Enteromorpha sp.), séchée ou déshydratée   \n",
       "\n",
       "                                            LCI Name  code saison  code avion  \\\n",
       "0                                 Seaweed, agar, raw            2           0   \n",
       "1                              Garlic, powder, dried            2           0   \n",
       "2                                      Garlic, fresh            2           0   \n",
       "3                                        Dill, fresh            2           0   \n",
       "4  Sea lettuce (Enteromorpha sp.), dried or dehyd...            2           0   \n",
       "\n",
       "        Livraison Matériau d'emballage  ...  \\\n",
       "0  Ambiant (long)                 LDPE  ...   \n",
       "1  Ambiant (long)                Verre  ...   \n",
       "2  Ambiant (long)      Pas d'emballage  ...   \n",
       "3  Ambiant (long)                 LDPE  ...   \n",
       "4  Ambiant (long)                 LDPE  ...   \n",
       "\n",
       "  Effets toxicologiques sur la santé humaine : substances cancérogènes  \\\n",
       "0                                       6.480000e-09                     \n",
       "1                                       4.660000e-10                     \n",
       "2                                       2.980000e-10                     \n",
       "3                                       6.190000e-10                     \n",
       "4                                       6.480000e-09                     \n",
       "\n",
       "   Acidification terrestre et eaux douces  Eutrophisation eaux douces  \\\n",
       "0                                 0.09970                    0.001870   \n",
       "1                                 0.00622                    0.000124   \n",
       "2                                 0.00200                    0.000068   \n",
       "3                                 0.00811                    0.000203   \n",
       "4                                 0.09970                    0.001870   \n",
       "\n",
       "   Eutrophisation marine  Eutrophisation terrestre  \\\n",
       "0                0.01330                   0.12700   \n",
       "1                0.00232                   0.01270   \n",
       "2                0.00212                   0.00628   \n",
       "3                0.00405                   0.03120   \n",
       "4                0.01330                   0.12700   \n",
       "\n",
       "   Écotoxicité pour écosystèmes aquatiques d'eau douce  Utilisation du sol  \\\n",
       "0                                              44.60                  26.5   \n",
       "1                                               5.83                  20.2   \n",
       "2                                               4.09                  18.5   \n",
       "3                                               5.68                  36.4   \n",
       "4                                              44.60                  26.5   \n",
       "\n",
       "   Épuisement des ressources eau  Épuisement des ressources énergétiques  \\\n",
       "0                           3.10                                  315.00   \n",
       "1                           2.52                                   12.70   \n",
       "2                           3.02                                    6.23   \n",
       "3                           5.29                                   12.60   \n",
       "4                           3.10                                  315.00   \n",
       "\n",
       "   Épuisement des ressources minéraux  \n",
       "0                            0.000088  \n",
       "1                            0.000007  \n",
       "2                            0.000004  \n",
       "3                            0.000005  \n",
       "4                            0.000088  \n",
       "\n",
       "[5 rows x 29 columns]"
      ]
     },
     "execution_count": 196,
     "metadata": {},
     "output_type": "execute_result"
    }
   ],
   "source": [
    "data_synthese.head()"
   ]
  },
  {
   "cell_type": "code",
   "execution_count": 197,
   "metadata": {
    "colab": {
     "base_uri": "https://localhost:8080/"
    },
    "id": "sqSdzv3BoB6r",
    "outputId": "d37213aa-c0cc-4471-9283-64312f542fdd"
   },
   "outputs": [
    {
     "name": "stdout",
     "output_type": "stream",
     "text": [
      "(2517, 29)\n"
     ]
    }
   ],
   "source": [
    "print(data_synthese.shape)"
   ]
  },
  {
   "cell_type": "code",
   "execution_count": 198,
   "metadata": {},
   "outputs": [
    {
     "data": {
      "text/html": [
       "<div>\n",
       "<style scoped>\n",
       "    .dataframe tbody tr th:only-of-type {\n",
       "        vertical-align: middle;\n",
       "    }\n",
       "\n",
       "    .dataframe tbody tr th {\n",
       "        vertical-align: top;\n",
       "    }\n",
       "\n",
       "    .dataframe thead th {\n",
       "        text-align: right;\n",
       "    }\n",
       "</style>\n",
       "<table border=\"1\" class=\"dataframe\">\n",
       "  <thead>\n",
       "    <tr style=\"text-align: right;\">\n",
       "      <th></th>\n",
       "      <th>Ciqual AGB</th>\n",
       "      <th>Ciqual code</th>\n",
       "      <th>Groupe d'aliment</th>\n",
       "      <th>Sous-groupe d'aliment</th>\n",
       "      <th>Nom Français</th>\n",
       "      <th>LCI Name</th>\n",
       "      <th>Ingredients</th>\n",
       "      <th>Code et Nom</th>\n",
       "      <th>Groupe</th>\n",
       "      <th>Sous-groupe</th>\n",
       "      <th>...</th>\n",
       "      <th>Eutrophisation terrestre</th>\n",
       "      <th>Écotoxicité pour écosystèmes aquatiques d'eau douce</th>\n",
       "      <th>Utilisation du sol</th>\n",
       "      <th>Épuisement des ressources eau</th>\n",
       "      <th>Épuisement des ressources énergétiques</th>\n",
       "      <th>Épuisement des ressources minéraux</th>\n",
       "      <th>Pt/kg de produit</th>\n",
       "      <th>m3 depriv./kg de produit</th>\n",
       "      <th>MJ/kg de produit</th>\n",
       "      <th>kg Sb eq/kg de produit</th>\n",
       "    </tr>\n",
       "  </thead>\n",
       "  <tbody>\n",
       "    <tr>\n",
       "      <th>0</th>\n",
       "      <td>37000</td>\n",
       "      <td>37000</td>\n",
       "      <td>aides culinaires et ingrédients divers</td>\n",
       "      <td>ingrédients divers</td>\n",
       "      <td>Base de pizza à la crème</td>\n",
       "      <td>cream sauce for pizza base</td>\n",
       "      <td>Fromage frais crémeux</td>\n",
       "      <td>Base de pizza à la crème (37000)</td>\n",
       "      <td>aides culinaires et ingrédients divers</td>\n",
       "      <td>ingrédients divers</td>\n",
       "      <td>...</td>\n",
       "      <td>1.240000e-09</td>\n",
       "      <td>0.017200</td>\n",
       "      <td>0.000222</td>\n",
       "      <td>0.005420</td>\n",
       "      <td>0.072300</td>\n",
       "      <td>17.500</td>\n",
       "      <td>90.100</td>\n",
       "      <td>0.310</td>\n",
       "      <td>8.090</td>\n",
       "      <td>1.480000e-05</td>\n",
       "    </tr>\n",
       "    <tr>\n",
       "      <th>1</th>\n",
       "      <td>37000</td>\n",
       "      <td>37000</td>\n",
       "      <td>aides culinaires et ingrédients divers</td>\n",
       "      <td>ingrédients divers</td>\n",
       "      <td>Base de pizza à la crème</td>\n",
       "      <td>cream sauce for pizza base</td>\n",
       "      <td>Autres étapes</td>\n",
       "      <td>Base de pizza à la crème (37000)</td>\n",
       "      <td>aides culinaires et ingrédients divers</td>\n",
       "      <td>ingrédients divers</td>\n",
       "      <td>...</td>\n",
       "      <td>2.340000e-10</td>\n",
       "      <td>0.002160</td>\n",
       "      <td>0.000090</td>\n",
       "      <td>0.001300</td>\n",
       "      <td>0.006980</td>\n",
       "      <td>2.310</td>\n",
       "      <td>9.060</td>\n",
       "      <td>0.144</td>\n",
       "      <td>15.300</td>\n",
       "      <td>2.320000e-06</td>\n",
       "    </tr>\n",
       "    <tr>\n",
       "      <th>2</th>\n",
       "      <td>37000</td>\n",
       "      <td>37000</td>\n",
       "      <td>aides culinaires et ingrédients divers</td>\n",
       "      <td>ingrédients divers</td>\n",
       "      <td>Base de pizza à la crème</td>\n",
       "      <td>cream sauce for pizza base</td>\n",
       "      <td>Total</td>\n",
       "      <td>Base de pizza à la crème (37000)</td>\n",
       "      <td>aides culinaires et ingrédients divers</td>\n",
       "      <td>ingrédients divers</td>\n",
       "      <td>...</td>\n",
       "      <td>1.470000e-09</td>\n",
       "      <td>0.019300</td>\n",
       "      <td>0.000312</td>\n",
       "      <td>0.006730</td>\n",
       "      <td>0.079300</td>\n",
       "      <td>19.900</td>\n",
       "      <td>99.200</td>\n",
       "      <td>0.455</td>\n",
       "      <td>23.400</td>\n",
       "      <td>1.710000e-05</td>\n",
       "    </tr>\n",
       "    <tr>\n",
       "      <th>3</th>\n",
       "      <td>37002</td>\n",
       "      <td>37002</td>\n",
       "      <td>aides culinaires et ingrédients divers</td>\n",
       "      <td>ingrédients divers</td>\n",
       "      <td>Base de pizza tomatée</td>\n",
       "      <td>Tomato sauce for pizza base</td>\n",
       "      <td>Huile d'olive</td>\n",
       "      <td>Base de pizza tomatée (37002)</td>\n",
       "      <td>aides culinaires et ingrédients divers</td>\n",
       "      <td>ingrédients divers</td>\n",
       "      <td>...</td>\n",
       "      <td>4.180000e-10</td>\n",
       "      <td>0.003770</td>\n",
       "      <td>0.000052</td>\n",
       "      <td>0.001740</td>\n",
       "      <td>0.015800</td>\n",
       "      <td>5.580</td>\n",
       "      <td>54.300</td>\n",
       "      <td>1.950</td>\n",
       "      <td>1.720</td>\n",
       "      <td>1.890000e-06</td>\n",
       "    </tr>\n",
       "    <tr>\n",
       "      <th>4</th>\n",
       "      <td>37002</td>\n",
       "      <td>37002</td>\n",
       "      <td>aides culinaires et ingrédients divers</td>\n",
       "      <td>ingrédients divers</td>\n",
       "      <td>Base de pizza tomatée</td>\n",
       "      <td>Tomato sauce for pizza base</td>\n",
       "      <td>Oignons</td>\n",
       "      <td>Base de pizza tomatée (37002)</td>\n",
       "      <td>aides culinaires et ingrédients divers</td>\n",
       "      <td>ingrédients divers</td>\n",
       "      <td>...</td>\n",
       "      <td>1.370000e-11</td>\n",
       "      <td>0.000111</td>\n",
       "      <td>0.000003</td>\n",
       "      <td>0.000125</td>\n",
       "      <td>0.000408</td>\n",
       "      <td>0.231</td>\n",
       "      <td>0.998</td>\n",
       "      <td>0.165</td>\n",
       "      <td>0.138</td>\n",
       "      <td>1.520000e-07</td>\n",
       "    </tr>\n",
       "  </tbody>\n",
       "</table>\n",
       "<p>5 rows × 27 columns</p>\n",
       "</div>"
      ],
      "text/plain": [
       "  Ciqual AGB Ciqual code                        Groupe d'aliment  \\\n",
       "0      37000       37000  aides culinaires et ingrédients divers   \n",
       "1      37000       37000  aides culinaires et ingrédients divers   \n",
       "2      37000       37000  aides culinaires et ingrédients divers   \n",
       "3      37002       37002  aides culinaires et ingrédients divers   \n",
       "4      37002       37002  aides culinaires et ingrédients divers   \n",
       "\n",
       "  Sous-groupe d'aliment              Nom Français  \\\n",
       "0    ingrédients divers  Base de pizza à la crème   \n",
       "1    ingrédients divers  Base de pizza à la crème   \n",
       "2    ingrédients divers  Base de pizza à la crème   \n",
       "3    ingrédients divers     Base de pizza tomatée   \n",
       "4    ingrédients divers     Base de pizza tomatée   \n",
       "\n",
       "                      LCI Name            Ingredients  \\\n",
       "0   cream sauce for pizza base  Fromage frais crémeux   \n",
       "1   cream sauce for pizza base          Autres étapes   \n",
       "2   cream sauce for pizza base                  Total   \n",
       "3  Tomato sauce for pizza base          Huile d'olive   \n",
       "4  Tomato sauce for pizza base                Oignons   \n",
       "\n",
       "                        Code et Nom                                  Groupe  \\\n",
       "0  Base de pizza à la crème (37000)  aides culinaires et ingrédients divers   \n",
       "1  Base de pizza à la crème (37000)  aides culinaires et ingrédients divers   \n",
       "2  Base de pizza à la crème (37000)  aides culinaires et ingrédients divers   \n",
       "3     Base de pizza tomatée (37002)  aides culinaires et ingrédients divers   \n",
       "4     Base de pizza tomatée (37002)  aides culinaires et ingrédients divers   \n",
       "\n",
       "          Sous-groupe  ...  Eutrophisation terrestre  \\\n",
       "0  ingrédients divers  ...              1.240000e-09   \n",
       "1  ingrédients divers  ...              2.340000e-10   \n",
       "2  ingrédients divers  ...              1.470000e-09   \n",
       "3  ingrédients divers  ...              4.180000e-10   \n",
       "4  ingrédients divers  ...              1.370000e-11   \n",
       "\n",
       "   Écotoxicité pour écosystèmes aquatiques d'eau douce  Utilisation du sol  \\\n",
       "0                                           0.017200              0.000222   \n",
       "1                                           0.002160              0.000090   \n",
       "2                                           0.019300              0.000312   \n",
       "3                                           0.003770              0.000052   \n",
       "4                                           0.000111              0.000003   \n",
       "\n",
       "   Épuisement des ressources eau  Épuisement des ressources énergétiques  \\\n",
       "0                       0.005420                                0.072300   \n",
       "1                       0.001300                                0.006980   \n",
       "2                       0.006730                                0.079300   \n",
       "3                       0.001740                                0.015800   \n",
       "4                       0.000125                                0.000408   \n",
       "\n",
       "   Épuisement des ressources minéraux  Pt/kg de produit  \\\n",
       "0                              17.500            90.100   \n",
       "1                               2.310             9.060   \n",
       "2                              19.900            99.200   \n",
       "3                               5.580            54.300   \n",
       "4                               0.231             0.998   \n",
       "\n",
       "   m3 depriv./kg de produit  MJ/kg de produit  kg Sb eq/kg de produit  \n",
       "0                     0.310             8.090            1.480000e-05  \n",
       "1                     0.144            15.300            2.320000e-06  \n",
       "2                     0.455            23.400            1.710000e-05  \n",
       "3                     1.950             1.720            1.890000e-06  \n",
       "4                     0.165             0.138            1.520000e-07  \n",
       "\n",
       "[5 rows x 27 columns]"
      ]
     },
     "execution_count": 198,
     "metadata": {},
     "output_type": "execute_result"
    }
   ],
   "source": [
    "data_ingredients.head()"
   ]
  },
  {
   "cell_type": "code",
   "execution_count": 199,
   "metadata": {},
   "outputs": [
    {
     "name": "stdout",
     "output_type": "stream",
     "text": [
      "(6856, 27)\n"
     ]
    }
   ],
   "source": [
    "print(data_ingredients.shape)"
   ]
  },
  {
   "attachments": {},
   "cell_type": "markdown",
   "metadata": {},
   "source": [
    "### Perspective globale (Base Synthèse)"
   ]
  },
  {
   "attachments": {},
   "cell_type": "markdown",
   "metadata": {
    "id": "PcfjoRx0otqg"
   },
   "source": [
    "#### Prétraitement des données"
   ]
  },
  {
   "attachments": {},
   "cell_type": "markdown",
   "metadata": {
    "id": "C1PefUMLqLWh"
   },
   "source": [
    "##### Qualité des données\n",
    "\n",
    "Une note de qualité - le Data Quality Ratio (DQR) - de 1, très bon, à 5, très mauvais - est associée à chaque produit agricole et alimentaire pour lequel Agribalyse fournit des inventaires de cycle de vie et des indicateurs d’impacts. La Commission Européenne recommande de la prudence dans l’utilisation des données avec des DQR supérieurs à 3. Dans la base de données AGRIBALYSE, 67 % des données ont un DQR jugé bon ou très bon (1 à 3).\n",
    "\n",
    "\n",
    "<font color=\"RED\">**Pour cette raison, nous allons retirer les produits avec un `DQR > 3` pour la partie d'apprentissage, comme ça, nous allons faire apprendre les différents classifieurs avec des données considérées fiables.**</font>\n"
   ]
  },
  {
   "cell_type": "code",
   "execution_count": 200,
   "metadata": {},
   "outputs": [
    {
     "name": "stdout",
     "output_type": "stream",
     "text": [
      "(1766, 29)\n"
     ]
    }
   ],
   "source": [
    "data_synthese_fiable = data_synthese[data_synthese['DQR']<=3]\n",
    "\n",
    "print(data_synthese_fiable.shape)"
   ]
  },
  {
   "cell_type": "code",
   "execution_count": 201,
   "metadata": {
    "colab": {
     "base_uri": "https://localhost:8080/",
     "height": 461
    },
    "id": "nLE1BCqm447Q",
    "outputId": "bc8c4c5e-c37b-468d-a1ed-eef3678e8df6"
   },
   "outputs": [
    {
     "data": {
      "text/html": [
       "<div>\n",
       "<style scoped>\n",
       "    .dataframe tbody tr th:only-of-type {\n",
       "        vertical-align: middle;\n",
       "    }\n",
       "\n",
       "    .dataframe tbody tr th {\n",
       "        vertical-align: top;\n",
       "    }\n",
       "\n",
       "    .dataframe thead th {\n",
       "        text-align: right;\n",
       "    }\n",
       "</style>\n",
       "<table border=\"1\" class=\"dataframe\">\n",
       "  <thead>\n",
       "    <tr style=\"text-align: right;\">\n",
       "      <th></th>\n",
       "      <th>Effets toxicologiques sur la santé humaine : substances non-cancérogènes</th>\n",
       "      <th>Effets toxicologiques sur la santé humaine : substances cancérogènes</th>\n",
       "    </tr>\n",
       "  </thead>\n",
       "  <tbody>\n",
       "    <tr>\n",
       "      <th>0</th>\n",
       "      <td>7.440000e-08</td>\n",
       "      <td>6.480000e-09</td>\n",
       "    </tr>\n",
       "    <tr>\n",
       "      <th>4</th>\n",
       "      <td>7.440000e-08</td>\n",
       "      <td>6.480000e-09</td>\n",
       "    </tr>\n",
       "    <tr>\n",
       "      <th>5</th>\n",
       "      <td>7.360000e-08</td>\n",
       "      <td>6.370000e-09</td>\n",
       "    </tr>\n",
       "    <tr>\n",
       "      <th>6</th>\n",
       "      <td>4.780000e-08</td>\n",
       "      <td>1.470000e-09</td>\n",
       "    </tr>\n",
       "    <tr>\n",
       "      <th>10</th>\n",
       "      <td>3.100000e-08</td>\n",
       "      <td>1.470000e-09</td>\n",
       "    </tr>\n",
       "  </tbody>\n",
       "</table>\n",
       "</div>"
      ],
      "text/plain": [
       "    Effets toxicologiques sur la santé humaine : substances non-cancérogènes  \\\n",
       "0                                        7.440000e-08                          \n",
       "4                                        7.440000e-08                          \n",
       "5                                        7.360000e-08                          \n",
       "6                                        4.780000e-08                          \n",
       "10                                       3.100000e-08                          \n",
       "\n",
       "    Effets toxicologiques sur la santé humaine : substances cancérogènes  \n",
       "0                                        6.480000e-09                     \n",
       "4                                        6.480000e-09                     \n",
       "5                                        6.370000e-09                     \n",
       "6                                        1.470000e-09                     \n",
       "10                                       1.470000e-09                     "
      ]
     },
     "execution_count": 201,
     "metadata": {},
     "output_type": "execute_result"
    }
   ],
   "source": [
    "data_synthese_analyse= data_synthese_fiable[['Effets toxicologiques sur la santé humaine\\xa0: substances non-cancérogènes', 'Effets toxicologiques sur la santé humaine\\xa0: substances cancérogènes']]\n",
    "data_synthese_analyse.head()"
   ]
  },
  {
   "cell_type": "code",
   "execution_count": 202,
   "metadata": {},
   "outputs": [
    {
     "data": {
      "image/png": "[encoded data removed]",
      "text/plain": [
       "<Figure size 432x288 with 1 Axes>"
      ]
     },
     "metadata": {
      "needs_background": "light"
     },
     "output_type": "display_data"
    }
   ],
   "source": [
    "plt.scatter(data_synthese_analyse['Effets toxicologiques sur la santé humaine\\xa0: substances non-cancérogènes'], data_synthese_analyse['Effets toxicologiques sur la santé humaine\\xa0: substances cancérogènes'])\n",
    "plt.title('Nuage de points')\n",
    "plt.show()"
   ]
  },
  {
   "cell_type": "code",
   "execution_count": 203,
   "metadata": {
    "colab": {
     "base_uri": "https://localhost:8080/",
     "height": 374
    },
    "id": "2j4gCkPc1h4y",
    "outputId": "b755eead-893a-4331-f408-eaecea027898"
   },
   "outputs": [
    {
     "data": {
      "text/html": [
       "<div>\n",
       "<style scoped>\n",
       "    .dataframe tbody tr th:only-of-type {\n",
       "        vertical-align: middle;\n",
       "    }\n",
       "\n",
       "    .dataframe tbody tr th {\n",
       "        vertical-align: top;\n",
       "    }\n",
       "\n",
       "    .dataframe thead th {\n",
       "        text-align: right;\n",
       "    }\n",
       "</style>\n",
       "<table border=\"1\" class=\"dataframe\">\n",
       "  <thead>\n",
       "    <tr style=\"text-align: right;\">\n",
       "      <th></th>\n",
       "      <th>Effets toxicologiques sur la santé humaine : substances non-cancérogènes</th>\n",
       "      <th>Effets toxicologiques sur la santé humaine : substances cancérogènes</th>\n",
       "    </tr>\n",
       "  </thead>\n",
       "  <tbody>\n",
       "    <tr>\n",
       "      <th>0</th>\n",
       "      <td>0.073279</td>\n",
       "      <td>0.141003</td>\n",
       "    </tr>\n",
       "    <tr>\n",
       "      <th>4</th>\n",
       "      <td>0.073279</td>\n",
       "      <td>0.141003</td>\n",
       "    </tr>\n",
       "    <tr>\n",
       "      <th>5</th>\n",
       "      <td>0.072478</td>\n",
       "      <td>0.138588</td>\n",
       "    </tr>\n",
       "    <tr>\n",
       "      <th>6</th>\n",
       "      <td>0.046646</td>\n",
       "      <td>0.030994</td>\n",
       "    </tr>\n",
       "    <tr>\n",
       "      <th>10</th>\n",
       "      <td>0.029826</td>\n",
       "      <td>0.030994</td>\n",
       "    </tr>\n",
       "  </tbody>\n",
       "</table>\n",
       "</div>"
      ],
      "text/plain": [
       "    Effets toxicologiques sur la santé humaine : substances non-cancérogènes  \\\n",
       "0                                            0.073279                          \n",
       "4                                            0.073279                          \n",
       "5                                            0.072478                          \n",
       "6                                            0.046646                          \n",
       "10                                           0.029826                          \n",
       "\n",
       "    Effets toxicologiques sur la santé humaine : substances cancérogènes  \n",
       "0                                            0.141003                     \n",
       "4                                            0.141003                     \n",
       "5                                            0.138588                     \n",
       "6                                            0.030994                     \n",
       "10                                           0.030994                     "
      ]
     },
     "execution_count": 203,
     "metadata": {},
     "output_type": "execute_result"
    }
   ],
   "source": [
    "df_synthese_norm=clust.normalisation(data_synthese_analyse)\n",
    "df_synthese_norm.head()"
   ]
  },
  {
   "cell_type": "code",
   "execution_count": 204,
   "metadata": {},
   "outputs": [
    {
     "data": {
      "image/png": "[encoded data removed]",
      "text/plain": [
       "<Figure size 432x288 with 1 Axes>"
      ]
     },
     "metadata": {
      "needs_background": "light"
     },
     "output_type": "display_data"
    }
   ],
   "source": [
    "plt.scatter(df_synthese_norm['Effets toxicologiques sur la santé humaine\\xa0: substances non-cancérogènes'], df_synthese_norm['Effets toxicologiques sur la santé humaine\\xa0: substances cancérogènes'])\n",
    "plt.title('Nuage de points')\n",
    "plt.show()"
   ]
  },
  {
   "attachments": {},
   "cell_type": "markdown",
   "metadata": {},
   "source": [
    "#### Algorithme de Clustering Hierarchique"
   ]
  },
  {
   "attachments": {},
   "cell_type": "markdown",
   "metadata": {},
   "source": [
    "L'algorithme de clustering que nous utilisons présente une complexité temporelle élevée, avec une progression quadratique de l'ordre de O(n^3), où n représente le nombre de données. Cette complexité peut devenir un défi lors de l'analyse de grandes bases de données, ce qui entraîne des temps d'exécution considérables.\n",
    "\n",
    "Afin d'optimiser le temps d'exécution sans compromettre la pertinence des résultats, nous avons décidé de prendre un échantillon représentatif des données. Cela nous permet d'avoir un aperçu global des similitudes et des différences entre les produits alimentaires, tout en réduisant la charge de calcul. L'échantillonnage est réalisé de manière à préserver les caractéristiques essentielles des données et à maintenir la structure générale des nuages de points.\n",
    "\n",
    "Cette approche d'échantillonnage nous permet de concilier la nécessité de réduire la complexité temporelle de l'algorithme de clustering tout en préservant la pertinence des résultats obtenus."
   ]
  },
  {
   "cell_type": "code",
   "execution_count": 205,
   "metadata": {},
   "outputs": [
    {
     "data": {
      "text/html": [
       "<div>\n",
       "<style scoped>\n",
       "    .dataframe tbody tr th:only-of-type {\n",
       "        vertical-align: middle;\n",
       "    }\n",
       "\n",
       "    .dataframe tbody tr th {\n",
       "        vertical-align: top;\n",
       "    }\n",
       "\n",
       "    .dataframe thead th {\n",
       "        text-align: right;\n",
       "    }\n",
       "</style>\n",
       "<table border=\"1\" class=\"dataframe\">\n",
       "  <thead>\n",
       "    <tr style=\"text-align: right;\">\n",
       "      <th></th>\n",
       "      <th>Effets toxicologiques sur la santé humaine : substances non-cancérogènes</th>\n",
       "      <th>Effets toxicologiques sur la santé humaine : substances cancérogènes</th>\n",
       "    </tr>\n",
       "  </thead>\n",
       "  <tbody>\n",
       "    <tr>\n",
       "      <th>2215</th>\n",
       "      <td>0.028625</td>\n",
       "      <td>0.075129</td>\n",
       "    </tr>\n",
       "    <tr>\n",
       "      <th>346</th>\n",
       "      <td>0.001332</td>\n",
       "      <td>0.001416</td>\n",
       "    </tr>\n",
       "    <tr>\n",
       "      <th>2252</th>\n",
       "      <td>0.098910</td>\n",
       "      <td>0.097966</td>\n",
       "    </tr>\n",
       "    <tr>\n",
       "      <th>1166</th>\n",
       "      <td>0.126944</td>\n",
       "      <td>0.078643</td>\n",
       "    </tr>\n",
       "    <tr>\n",
       "      <th>1707</th>\n",
       "      <td>0.034732</td>\n",
       "      <td>0.033848</td>\n",
       "    </tr>\n",
       "    <tr>\n",
       "      <th>2378</th>\n",
       "      <td>0.420299</td>\n",
       "      <td>0.231470</td>\n",
       "    </tr>\n",
       "    <tr>\n",
       "      <th>2410</th>\n",
       "      <td>0.070676</td>\n",
       "      <td>0.093135</td>\n",
       "    </tr>\n",
       "    <tr>\n",
       "      <th>726</th>\n",
       "      <td>0.239079</td>\n",
       "      <td>0.038899</td>\n",
       "    </tr>\n",
       "    <tr>\n",
       "      <th>1451</th>\n",
       "      <td>0.063467</td>\n",
       "      <td>0.074690</td>\n",
       "    </tr>\n",
       "    <tr>\n",
       "      <th>636</th>\n",
       "      <td>0.047347</td>\n",
       "      <td>0.051415</td>\n",
       "    </tr>\n",
       "    <tr>\n",
       "      <th>2336</th>\n",
       "      <td>0.139959</td>\n",
       "      <td>0.137490</td>\n",
       "    </tr>\n",
       "    <tr>\n",
       "      <th>516</th>\n",
       "      <td>0.050852</td>\n",
       "      <td>0.030774</td>\n",
       "    </tr>\n",
       "    <tr>\n",
       "      <th>1102</th>\n",
       "      <td>0.046646</td>\n",
       "      <td>0.019422</td>\n",
       "    </tr>\n",
       "    <tr>\n",
       "      <th>1496</th>\n",
       "      <td>0.054356</td>\n",
       "      <td>0.043071</td>\n",
       "    </tr>\n",
       "    <tr>\n",
       "      <th>1706</th>\n",
       "      <td>0.028825</td>\n",
       "      <td>0.028139</td>\n",
       "    </tr>\n",
       "    <tr>\n",
       "      <th>386</th>\n",
       "      <td>0.002813</td>\n",
       "      <td>0.004644</td>\n",
       "    </tr>\n",
       "    <tr>\n",
       "      <th>766</th>\n",
       "      <td>0.008791</td>\n",
       "      <td>0.004512</td>\n",
       "    </tr>\n",
       "    <tr>\n",
       "      <th>1202</th>\n",
       "      <td>0.026722</td>\n",
       "      <td>0.018851</td>\n",
       "    </tr>\n",
       "  </tbody>\n",
       "</table>\n",
       "</div>"
      ],
      "text/plain": [
       "      Effets toxicologiques sur la santé humaine : substances non-cancérogènes  \\\n",
       "2215                                           0.028625                          \n",
       "346                                            0.001332                          \n",
       "2252                                           0.098910                          \n",
       "1166                                           0.126944                          \n",
       "1707                                           0.034732                          \n",
       "2378                                           0.420299                          \n",
       "2410                                           0.070676                          \n",
       "726                                            0.239079                          \n",
       "1451                                           0.063467                          \n",
       "636                                            0.047347                          \n",
       "2336                                           0.139959                          \n",
       "516                                            0.050852                          \n",
       "1102                                           0.046646                          \n",
       "1496                                           0.054356                          \n",
       "1706                                           0.028825                          \n",
       "386                                            0.002813                          \n",
       "766                                            0.008791                          \n",
       "1202                                           0.026722                          \n",
       "\n",
       "      Effets toxicologiques sur la santé humaine : substances cancérogènes  \n",
       "2215                                           0.075129                     \n",
       "346                                            0.001416                     \n",
       "2252                                           0.097966                     \n",
       "1166                                           0.078643                     \n",
       "1707                                           0.033848                     \n",
       "2378                                           0.231470                     \n",
       "2410                                           0.093135                     \n",
       "726                                            0.038899                     \n",
       "1451                                           0.074690                     \n",
       "636                                            0.051415                     \n",
       "2336                                           0.137490                     \n",
       "516                                            0.030774                     \n",
       "1102                                           0.019422                     \n",
       "1496                                           0.043071                     \n",
       "1706                                           0.028139                     \n",
       "386                                            0.004644                     \n",
       "766                                            0.004512                     \n",
       "1202                                           0.018851                     "
      ]
     },
     "execution_count": 205,
     "metadata": {},
     "output_type": "execute_result"
    }
   ],
   "source": [
    "# Définisssion du pourcentage d'échantillonnage désiré\n",
    "pourcentage_echantillonnage = 0.01\n",
    "\n",
    "df_echantillon = df_synthese_norm.sample(frac=pourcentage_echantillonnage, random_state=42)\n",
    "\n",
    "df_echantillon"
   ]
  },
  {
   "cell_type": "code",
   "execution_count": 206,
   "metadata": {},
   "outputs": [
    {
     "data": {
      "image/png": "[encoded data removed]",
      "text/plain": [
       "<Figure size 432x288 with 1 Axes>"
      ]
     },
     "metadata": {
      "needs_background": "light"
     },
     "output_type": "display_data"
    }
   ],
   "source": [
    "plt.scatter(df_echantillon['Effets toxicologiques sur la santé humaine\\xa0: substances non-cancérogènes'], df_echantillon['Effets toxicologiques sur la santé humaine\\xa0: substances cancérogènes'])\n",
    "plt.title('Nuage de points')\n",
    "plt.show()"
   ]
  },
  {
   "cell_type": "code",
   "execution_count": 207,
   "metadata": {
    "colab": {
     "base_uri": "https://localhost:8080/",
     "height": 312
    },
    "id": "tpE5i04R2lgI",
    "outputId": "1f99b6c5-c4a1-46ea-dc86-9b455230f665"
   },
   "outputs": [
    {
     "name": "stdout",
     "output_type": "stream",
     "text": [
      "Distance mininimale trouvée entre [1,15]  = 0.0035516989927952534\n",
      "Distance mininimale trouvée entre [16,18]  = 0.0068796851933030315\n",
      "Distance mininimale trouvée entre [4,14]  = 0.008215106270542559\n",
      "Distance mininimale trouvée entre [9,13]  = 0.010896869426851086\n",
      "Distance mininimale trouvée entre [11,12]  = 0.012106076886826052\n",
      "Distance mininimale trouvée entre [17,20]  = 0.01315337268053289\n",
      "Distance mininimale trouvée entre [22,23]  = 0.01874722523941189\n",
      "Distance mininimale trouvée entre [6,8]  = 0.019803363398080896\n",
      "Distance mininimale trouvée entre [21,24]  = 0.024885519942642643\n",
      "Distance mininimale trouvée entre [2,3]  = 0.03404820717822967\n",
      "Distance mininimale trouvée entre [0,25]  = 0.03943703189848974\n",
      "Distance mininimale trouvée entre [19,26]  = 0.046855315517408944\n",
      "Distance mininimale trouvée entre [10,27]  = 0.056125046725239755\n",
      "Distance mininimale trouvée entre [28,29]  = 0.062198261827732894\n",
      "Distance mininimale trouvée entre [30,31]  = 0.1096637031981727\n",
      "Distance mininimale trouvée entre [7,32]  = 0.18744616621466342\n",
      "Distance mininimale trouvée entre [5,33]  = 0.4012693232934425\n"
     ]
    },
    {
     "data": {
      "image/png": "[encoded data removed]",
      "text/plain": [
       "<Figure size 2160x1080 with 1 Axes>"
      ]
     },
     "metadata": {
      "needs_background": "light"
     },
     "output_type": "display_data"
    },
    {
     "name": "stdout",
     "output_type": "stream",
     "text": [
      "Temps d'éxecution total est  2.2878246307373047\n"
     ]
    }
   ],
   "source": [
    "import time\n",
    "start1 = time.time()\n",
    "resultat = clust.CHA_centroid(df_echantillon,True,True)\n",
    "clustering = time.time() - start1  \n",
    "print(\"Temps d'éxecution total est \",clustering)"
   ]
  },
  {
   "cell_type": "code",
   "execution_count": 208,
   "metadata": {
    "id": "rtegUh-F7XDZ"
   },
   "outputs": [
    {
     "name": "stdout",
     "output_type": "stream",
     "text": [
      "Cluster 0:\n",
      "Bicarbonate de soude\n",
      "Fenugrec, graine\n",
      "\n",
      "Cluster 1:\n",
      "Fleur de sel, non iodée, non fluorée\n",
      "Fucus vésiculeux (Fucus serratus ou Fucus vesiculosus), séché ou déshydraté\n",
      "\n",
      "Cluster 2:\n",
      "Gélatine, sèche\n",
      "Gingembre, poudre\n",
      "\n",
      "Cluster 3:\n",
      "Base de pizza tomatée\n",
      "Gingembre, racine crue\n",
      "\n",
      "Cluster 4:\n",
      "Ascophylle noueux ou goémon noir (Ascophyllum nodosum), séché ou déshydraté\n",
      "Gracilaire ou ogonori (Gracilaria verrucosa), séchée ou déshydratée\n",
      "\n"
     ]
    }
   ],
   "source": [
    "# Affichage des 5 derniers clusters\n",
    "clust.clustering_info(resultat,data_synthese,5)"
   ]
  },
  {
   "cell_type": "code",
   "execution_count": 209,
   "metadata": {},
   "outputs": [
    {
     "name": "stdout",
     "output_type": "stream",
     "text": [
      "Le cluster le plus nocif est le cluster : \n",
      " 19    Court-bouillon pour poissons, déshydraté\n",
      "26                             Fenouil, graine\n",
      "Name: Nom du Produit en Français, dtype: object\n"
     ]
    }
   ],
   "source": [
    "clust_nocif = clust.cluster_nocif(resultat, data_synthese, 'Effets toxicologiques sur la santé humaine\\xa0: substances non-cancérogènes','Effets toxicologiques sur la santé humaine\\xa0: substances cancérogènes')\n",
    "print(\"Le cluster le plus nocif est le cluster : \\n\", clust_nocif)"
   ]
  },
  {
   "cell_type": "code",
   "execution_count": 210,
   "metadata": {},
   "outputs": [
    {
     "name": "stdout",
     "output_type": "stream",
     "text": [
      "Distance mininimale trouvée entre [1,15]  = 0.0035516989927952534\n",
      "Distance mininimale trouvée entre [16,18]  = 0.008076060567044267\n",
      "Distance mininimale trouvée entre [4,14]  = 0.008215106270542559\n",
      "Distance mininimale trouvée entre [9,13]  = 0.010896869426851086\n",
      "Distance mininimale trouvée entre [11,12]  = 0.012106076886826052\n",
      "Distance mininimale trouvée entre [17,20]  = 0.0170021902461848\n",
      "Distance mininimale trouvée entre [6,8]  = 0.019803363398080896\n",
      "Distance mininimale trouvée entre [22,23]  = 0.026914319562342075\n",
      "Distance mininimale trouvée entre [2,3]  = 0.03404820717822967\n",
      "Distance mininimale trouvée entre [21,25]  = 0.0385458654405221\n",
      "Distance mininimale trouvée entre [0,24]  = 0.04574359698155615\n",
      "Distance mininimale trouvée entre [10,26]  = 0.0602696369497899\n",
      "Distance mininimale trouvée entre [19,27]  = 0.06795055576643726\n",
      "Distance mininimale trouvée entre [28,30]  = 0.11498203486652592\n",
      "Distance mininimale trouvée entre [7,29]  = 0.15210663787803816\n",
      "Distance mininimale trouvée entre [31,32]  = 0.2406841900909231\n",
      "Distance mininimale trouvée entre [5,33]  = 0.47797291269406783\n"
     ]
    },
    {
     "data": {
      "image/png": "[encoded data removed]",
      "text/plain": [
       "<Figure size 2160x1080 with 1 Axes>"
      ]
     },
     "metadata": {
      "needs_background": "light"
     },
     "output_type": "display_data"
    },
    {
     "name": "stdout",
     "output_type": "stream",
     "text": [
      "0.7509465217590332\n"
     ]
    }
   ],
   "source": [
    "before_complete = time.time()\n",
    "complete = clust.CHA_complet(df_echantillon, True, True)\n",
    "after_complete = time.time()\n",
    "time_complete = after_complete - before_complete\n",
    "print(time_complete)"
   ]
  },
  {
   "cell_type": "code",
   "execution_count": 211,
   "metadata": {},
   "outputs": [
    {
     "name": "stdout",
     "output_type": "stream",
     "text": [
      "Cluster 0:\n",
      "Court-bouillon pour poissons, déshydraté\n",
      "Fenugrec, graine\n",
      "\n",
      "Cluster 1:\n",
      "Fleur de sel, non iodée, non fluorée\n",
      "Gélatine, sèche\n",
      "\n",
      "Cluster 2:\n",
      "Base de pizza tomatée\n",
      "Fucus vésiculeux (Fucus serratus ou Fucus vesiculosus), séché ou déshydraté\n",
      "\n",
      "Cluster 3:\n",
      "Gingembre, poudre\n",
      "Gingembre, racine crue\n",
      "\n",
      "Cluster 4:\n",
      "Ascophylle noueux ou goémon noir (Ascophyllum nodosum), séché ou déshydraté\n",
      "Gracilaire ou ogonori (Gracilaria verrucosa), séchée ou déshydratée\n",
      "\n",
      "Le cluster le plus nocif est le cluster : \n",
      " 19    Court-bouillon pour poissons, déshydraté\n",
      "26                             Fenouil, graine\n",
      "Name: Nom du Produit en Français, dtype: object\n"
     ]
    }
   ],
   "source": [
    "clust.clustering_info(complete,data_synthese,5)\n",
    "clust_nocif_complete = clust.cluster_nocif(complete, data_synthese, 'Effets toxicologiques sur la santé humaine\\xa0: substances non-cancérogènes','Effets toxicologiques sur la santé humaine\\xa0: substances cancérogènes')\n",
    "print(\"Le cluster le plus nocif est le cluster : \\n\", clust_nocif)"
   ]
  },
  {
   "cell_type": "code",
   "execution_count": 212,
   "metadata": {},
   "outputs": [
    {
     "name": "stdout",
     "output_type": "stream",
     "text": [
      "Distance mininimale trouvée entre [1,15]  = 0.0035516989927952534\n",
      "Distance mininimale trouvée entre [16,18]  = 0.005978684245137048\n",
      "Distance mininimale trouvée entre [4,14]  = 0.008215106270542559\n",
      "Distance mininimale trouvée entre [17,20]  = 0.009523231494438759\n",
      "Distance mininimale trouvée entre [9,13]  = 0.010896869426851086\n",
      "Distance mininimale trouvée entre [11,12]  = 0.012106076886826052\n",
      "Distance mininimale trouvée entre [22,23]  = 0.012786048708044435\n",
      "Distance mininimale trouvée entre [21,24]  = 0.016410016376734136\n",
      "Distance mininimale trouvée entre [6,8]  = 0.019803363398080896\n",
      "Distance mininimale trouvée entre [19,25]  = 0.022959537640511153\n",
      "Distance mininimale trouvée entre [26,27]  = 0.028312296256922408\n",
      "Distance mininimale trouvée entre [2,28]  = 0.028644444654404265\n",
      "Distance mininimale trouvée entre [0,29]  = 0.030214593319940402\n",
      "Distance mininimale trouvée entre [3,30]  = 0.03404820717822967\n",
      "Distance mininimale trouvée entre [10,31]  = 0.056984671691491184\n",
      "Distance mininimale trouvée entre [7,32]  = 0.11897056274713608\n",
      "Distance mininimale trouvée entre [5,33]  = 0.2644319400577612\n"
     ]
    },
    {
     "data": {
      "image/png": "[encoded data removed]",
      "text/plain": [
       "<Figure size 2160x1080 with 1 Axes>"
      ]
     },
     "metadata": {
      "needs_background": "light"
     },
     "output_type": "display_data"
    },
    {
     "name": "stdout",
     "output_type": "stream",
     "text": [
      "0.7307758331298828\n"
     ]
    }
   ],
   "source": [
    "before_simple = time.time()\n",
    "simple = clust.CHA_simple(df_echantillon, True, True)\n",
    "after_simple = time.time()\n",
    "time_simple = after_simple - before_simple\n",
    "print(time_simple)"
   ]
  },
  {
   "cell_type": "code",
   "execution_count": 213,
   "metadata": {},
   "outputs": [
    {
     "name": "stdout",
     "output_type": "stream",
     "text": [
      "Cluster 0:\n",
      "Agar (algue), cru\n",
      "Fucus vésiculeux (Fucus serratus ou Fucus vesiculosus), séché ou déshydraté\n",
      "\n",
      "Cluster 1:\n",
      "Aneth, frais\n",
      "Gélatine, sèche\n",
      "\n",
      "Cluster 2:\n",
      "Bicarbonate de soude\n",
      "Gingembre, poudre\n",
      "\n",
      "Cluster 3:\n",
      "Base de pizza tomatée\n",
      "Gingembre, racine crue\n",
      "\n",
      "Cluster 4:\n",
      "Ascophylle noueux ou goémon noir (Ascophyllum nodosum), séché ou déshydraté\n",
      "Gracilaire ou ogonori (Gracilaria verrucosa), séchée ou déshydratée\n",
      "\n",
      "19    Court-bouillon pour poissons, déshydraté\n",
      "25                             Estragon, frais\n",
      "Name: Nom du Produit en Français, dtype: object\n"
     ]
    }
   ],
   "source": [
    "clust.clustering_info(simple,data_synthese,5)\n",
    "clust_nocif_simple = clust.cluster_nocif(simple, data_synthese, 'Effets toxicologiques sur la santé humaine\\xa0: substances non-cancérogènes','Effets toxicologiques sur la santé humaine\\xa0: substances cancérogènes')\n",
    "print(clust_nocif_simple)"
   ]
  },
  {
   "cell_type": "code",
   "execution_count": 214,
   "metadata": {},
   "outputs": [
    {
     "name": "stdout",
     "output_type": "stream",
     "text": [
      "Distance mininimale trouvée entre [1,15]  = 0.0035516989927952534\n",
      "Distance mininimale trouvée entre [16,18]  = 0.007027372406090658\n",
      "Distance mininimale trouvée entre [4,14]  = 0.008215106270542559\n",
      "Distance mininimale trouvée entre [9,13]  = 0.010896869426851086\n",
      "Distance mininimale trouvée entre [11,12]  = 0.012106076886826052\n",
      "Distance mininimale trouvée entre [17,20]  = 0.013262710870311778\n",
      "Distance mininimale trouvée entre [6,8]  = 0.019803363398080896\n",
      "Distance mininimale trouvée entre [22,23]  = 0.020664991025445244\n",
      "Distance mininimale trouvée entre [25,21]  = 0.026851926970216617\n",
      "Distance mininimale trouvée entre [2,3]  = 0.03404820717822967\n",
      "Distance mininimale trouvée entre [0,24]  = 0.04029426176418021\n",
      "Distance mininimale trouvée entre [19,26]  = 0.04748191140250032\n",
      "Distance mininimale trouvée entre [10,27]  = 0.05862715432064054\n",
      "Distance mininimale trouvée entre [28,29]  = 0.06598913016246481\n",
      "Distance mininimale trouvée entre [30,31]  = 0.11249835209261498\n",
      "Distance mininimale trouvée entre [7,32]  = 0.1924880031753234\n",
      "Distance mininimale trouvée entre [5,33]  = 0.40276139073492007\n"
     ]
    },
    {
     "data": {
      "image/png": "[encoded data removed]",
      "text/plain": [
       "<Figure size 2160x1080 with 1 Axes>"
      ]
     },
     "metadata": {
      "needs_background": "light"
     },
     "output_type": "display_data"
    },
    {
     "name": "stdout",
     "output_type": "stream",
     "text": [
      "0.7097594738006592\n"
     ]
    }
   ],
   "source": [
    "before_average = time.time()\n",
    "average = clust.CHA_average(df_echantillon, True, True)\n",
    "after_average = time.time()\n",
    "time_average = after_average - before_average\n",
    "print(time_average)"
   ]
  },
  {
   "cell_type": "code",
   "execution_count": 215,
   "metadata": {},
   "outputs": [
    {
     "name": "stdout",
     "output_type": "stream",
     "text": [
      "Cluster 0:\n",
      "Bicarbonate de soude\n",
      "Fenugrec, graine\n",
      "\n",
      "Cluster 1:\n",
      "Fleur de sel, non iodée, non fluorée\n",
      "Fucus vésiculeux (Fucus serratus ou Fucus vesiculosus), séché ou déshydraté\n",
      "\n",
      "Cluster 2:\n",
      "Gélatine, sèche\n",
      "Gingembre, poudre\n",
      "\n",
      "Cluster 3:\n",
      "Base de pizza tomatée\n",
      "Gingembre, racine crue\n",
      "\n",
      "Cluster 4:\n",
      "Ascophylle noueux ou goémon noir (Ascophyllum nodosum), séché ou déshydraté\n",
      "Gracilaire ou ogonori (Gracilaria verrucosa), séchée ou déshydratée\n",
      "\n",
      "19    Court-bouillon pour poissons, déshydraté\n",
      "26                             Fenouil, graine\n",
      "Name: Nom du Produit en Français, dtype: object\n"
     ]
    }
   ],
   "source": [
    "clust.clustering_info(average,data_synthese,5)\n",
    "clust_nocif_average = clust.cluster_nocif(average, data_synthese, 'Effets toxicologiques sur la santé humaine\\xa0: substances non-cancérogènes','Effets toxicologiques sur la santé humaine\\xa0: substances cancérogènes')\n",
    "print(clust_nocif_average)"
   ]
  },
  {
   "attachments": {},
   "cell_type": "markdown",
   "metadata": {},
   "source": [
    "#### Algorithme K-means"
   ]
  },
  {
   "cell_type": "code",
   "execution_count": 216,
   "metadata": {},
   "outputs": [
    {
     "name": "stdout",
     "output_type": "stream",
     "text": [
      "Iteration :  1  Inertie :  55.049404439498225  Difference :  54.04440443949822\n",
      "Iteration :  2  Inertie :  42.00652702284046  Difference :  13.042877416657767\n",
      "Iteration :  3  Inertie :  29.847467567429486  Difference :  12.159059455410972\n",
      "Iteration :  4  Inertie :  23.21929789293069  Difference :  6.628169674498796\n",
      "Iteration :  5  Inertie :  20.31521805234523  Difference :  2.90407984058546\n",
      "Iteration :  6  Inertie :  19.412699442483436  Difference :  0.9025186098617937\n",
      "Iteration :  7  Inertie :  19.21007691567136  Difference :  0.2026225268120747\n",
      "Iteration :  8  Inertie :  19.190048541366124  Difference :  0.020028374305237406\n",
      "Iteration :  9  Inertie :  19.190048541366124  Difference :  0.0\n",
      "[[0.57994045 0.33886731]\n",
      " [0.06754168 0.06151282]]\n"
     ]
    },
    {
     "data": {
      "image/png": "[encoded data removed]",
      "text/plain": [
       "<Figure size 432x288 with 1 Axes>"
      ]
     },
     "metadata": {
      "needs_background": "light"
     },
     "output_type": "display_data"
    }
   ],
   "source": [
    "np.random.seed(42)\n",
    "les_centres, l_affectation = clust.kmoyennes(2,df_synthese_norm, 0.005, 1000)\n",
    "print(les_centres)\n",
    "clust.affiche_resultat(df_synthese_norm,les_centres,l_affectation)"
   ]
  },
  {
   "cell_type": "code",
   "execution_count": 217,
   "metadata": {},
   "outputs": [],
   "source": [
    "cluster_1 = l_affectation[0]  # le bleu\n",
    "cluster_2 = l_affectation[1]  # le vert\n",
    "\n",
    "\n",
    "data_etape_array = np.array(data_synthese[\"Nom du Produit en Français\"])\n",
    "data_clust_1 = data_etape_array[cluster_1]\n",
    "data_clust_2 = data_etape_array[cluster_2]\n",
    "key_1 = list(set(data_clust_1))\n",
    "key_2 = list(set(data_clust_2))\n",
    "dict_1 = dict()\n",
    "dict_2 = dict()\n",
    "for elt in key_1:\n",
    "    dict_1[elt] = 0\n",
    "\n",
    "for elt in data_clust_1:\n",
    "    dict_1[elt] +=1\n",
    "    \n",
    "for elt in key_2:\n",
    "    dict_2[elt] = 0\n",
    "    \n",
    "for elt in data_clust_2:\n",
    "    dict_2[elt] +=1"
   ]
  },
  {
   "cell_type": "code",
   "execution_count": 218,
   "metadata": {},
   "outputs": [
    {
     "data": {
      "text/html": [
       "<div>\n",
       "<style scoped>\n",
       "    .dataframe tbody tr th:only-of-type {\n",
       "        vertical-align: middle;\n",
       "    }\n",
       "\n",
       "    .dataframe tbody tr th {\n",
       "        vertical-align: top;\n",
       "    }\n",
       "\n",
       "    .dataframe thead th {\n",
       "        text-align: right;\n",
       "    }\n",
       "</style>\n",
       "<table border=\"1\" class=\"dataframe\">\n",
       "  <thead>\n",
       "    <tr style=\"text-align: right;\">\n",
       "      <th></th>\n",
       "      <th>Valeur</th>\n",
       "    </tr>\n",
       "  </thead>\n",
       "  <tbody>\n",
       "    <tr>\n",
       "      <th>Eau minérale Ventadour, embouteillée, gazeuse, faiblement minéralisée (Le Pestrin, 07)</th>\n",
       "      <td>1</td>\n",
       "    </tr>\n",
       "    <tr>\n",
       "      <th>Matière grasse végétale (type margarine) à 50-63% MG, allégée, doux, aux esters de stérol végétal</th>\n",
       "      <td>1</td>\n",
       "    </tr>\n",
       "    <tr>\n",
       "      <th>Muffin anglais, petit pain spécial, préemballé</th>\n",
       "      <td>1</td>\n",
       "    </tr>\n",
       "    <tr>\n",
       "      <th>Matière grasse végétale (type margarine) à 80% MG, salé</th>\n",
       "      <td>1</td>\n",
       "    </tr>\n",
       "    <tr>\n",
       "      <th>Pâte sablée, crue</th>\n",
       "      <td>1</td>\n",
       "    </tr>\n",
       "    <tr>\n",
       "      <th>...</th>\n",
       "      <td>...</td>\n",
       "    </tr>\n",
       "    <tr>\n",
       "      <th>Pâte feuilletée pur beurre, crue</th>\n",
       "      <td>1</td>\n",
       "    </tr>\n",
       "    <tr>\n",
       "      <th>Pâte feuilletée, matière grasse végétale, crue</th>\n",
       "      <td>1</td>\n",
       "    </tr>\n",
       "    <tr>\n",
       "      <th>Valençay (fromage de chèvre)</th>\n",
       "      <td>1</td>\n",
       "    </tr>\n",
       "    <tr>\n",
       "      <th>Beurre de cacao</th>\n",
       "      <td>1</td>\n",
       "    </tr>\n",
       "    <tr>\n",
       "      <th>Tome des Bauges</th>\n",
       "      <td>1</td>\n",
       "    </tr>\n",
       "  </tbody>\n",
       "</table>\n",
       "<p>156 rows × 1 columns</p>\n",
       "</div>"
      ],
      "text/plain": [
       "                                                    Valeur\n",
       "Eau minérale Ventadour, embouteillée, gazeuse, ...       1\n",
       "Matière grasse végétale (type margarine) à 50-6...       1\n",
       "Muffin anglais, petit pain spécial, préemballé           1\n",
       "Matière grasse végétale (type margarine) à 80% ...       1\n",
       "Pâte sablée, crue                                        1\n",
       "...                                                    ...\n",
       "Pâte feuilletée pur beurre, crue                         1\n",
       "Pâte feuilletée, matière grasse végétale, crue           1\n",
       "Valençay (fromage de chèvre)                             1\n",
       "Beurre de cacao                                          1\n",
       "Tome des Bauges                                          1\n",
       "\n",
       "[156 rows x 1 columns]"
      ]
     },
     "execution_count": 218,
     "metadata": {},
     "output_type": "execute_result"
    }
   ],
   "source": [
    "df1 = pd.DataFrame.from_dict(dict_1, orient='index', columns=['Valeur']) #bleu\n",
    "df1"
   ]
  },
  {
   "cell_type": "code",
   "execution_count": 219,
   "metadata": {},
   "outputs": [
    {
     "data": {
      "text/html": [
       "<div>\n",
       "<style scoped>\n",
       "    .dataframe tbody tr th:only-of-type {\n",
       "        vertical-align: middle;\n",
       "    }\n",
       "\n",
       "    .dataframe tbody tr th {\n",
       "        vertical-align: top;\n",
       "    }\n",
       "\n",
       "    .dataframe thead th {\n",
       "        text-align: right;\n",
       "    }\n",
       "</style>\n",
       "<table border=\"1\" class=\"dataframe\">\n",
       "  <thead>\n",
       "    <tr style=\"text-align: right;\">\n",
       "      <th></th>\n",
       "      <th>Valeur</th>\n",
       "    </tr>\n",
       "  </thead>\n",
       "  <tbody>\n",
       "    <tr>\n",
       "      <th>Macédoine ou cocktail ou salade de fruits, au sirop, appertisé, non égoutté</th>\n",
       "      <td>1</td>\n",
       "    </tr>\n",
       "    <tr>\n",
       "      <th>Chou à la crème (chantilly ou pâtissière)</th>\n",
       "      <td>1</td>\n",
       "    </tr>\n",
       "    <tr>\n",
       "      <th>Courge spaghetti, pulpe, crue</th>\n",
       "      <td>1</td>\n",
       "    </tr>\n",
       "    <tr>\n",
       "      <th>Cantal, Salers ou Laguiole</th>\n",
       "      <td>1</td>\n",
       "    </tr>\n",
       "    <tr>\n",
       "      <th>Sauce soja, préemballée</th>\n",
       "      <td>1</td>\n",
       "    </tr>\n",
       "    <tr>\n",
       "      <th>...</th>\n",
       "      <td>...</td>\n",
       "    </tr>\n",
       "    <tr>\n",
       "      <th>Chou chinois (pak-choi ou pé-tsai), cuit</th>\n",
       "      <td>1</td>\n",
       "    </tr>\n",
       "    <tr>\n",
       "      <th>Sauce végétale type bolognaise, préemballée</th>\n",
       "      <td>1</td>\n",
       "    </tr>\n",
       "    <tr>\n",
       "      <th>Bouillon de légumes, déshydraté reconstitué</th>\n",
       "      <td>1</td>\n",
       "    </tr>\n",
       "    <tr>\n",
       "      <th>Pois chiche, cuit</th>\n",
       "      <td>1</td>\n",
       "    </tr>\n",
       "    <tr>\n",
       "      <th>Kombu royal (Saccharina latissima), séchée ou déshydratée</th>\n",
       "      <td>1</td>\n",
       "    </tr>\n",
       "  </tbody>\n",
       "</table>\n",
       "<p>1609 rows × 1 columns</p>\n",
       "</div>"
      ],
      "text/plain": [
       "                                                    Valeur\n",
       "Macédoine ou cocktail ou salade de fruits, au s...       1\n",
       "Chou à la crème (chantilly ou pâtissière)                1\n",
       "Courge spaghetti, pulpe, crue                            1\n",
       "Cantal, Salers ou Laguiole                               1\n",
       "Sauce soja, préemballée                                  1\n",
       "...                                                    ...\n",
       "Chou chinois (pak-choi ou pé-tsai), cuit                 1\n",
       "Sauce végétale type bolognaise, préemballée              1\n",
       "Bouillon de légumes, déshydraté reconstitué              1\n",
       "Pois chiche, cuit                                        1\n",
       "Kombu royal (Saccharina latissima), séchée ou d...       1\n",
       "\n",
       "[1609 rows x 1 columns]"
      ]
     },
     "execution_count": 219,
     "metadata": {},
     "output_type": "execute_result"
    }
   ],
   "source": [
    "df2 = pd.DataFrame.from_dict(dict_2, orient='index', columns=['Valeur']) #vert\n",
    "df2"
   ]
  },
  {
   "cell_type": "code",
   "execution_count": 220,
   "metadata": {},
   "outputs": [
    {
     "data": {
      "text/plain": [
       "Valeur    1\n",
       "Name: Eau minérale Ventadour, embouteillée, gazeuse, faiblement minéralisée (Le Pestrin, 07), dtype: int64"
      ]
     },
     "execution_count": 220,
     "metadata": {},
     "output_type": "execute_result"
    }
   ],
   "source": [
    "# Aliment le plus nocif dans la df1\n",
    "\n",
    "most_nocif = np.argmax(np.asarray(df1))\n",
    "df1.iloc[most_nocif]"
   ]
  },
  {
   "attachments": {},
   "cell_type": "markdown",
   "metadata": {},
   "source": [
    "#### Synthèse"
   ]
  },
  {
   "attachments": {},
   "cell_type": "markdown",
   "metadata": {},
   "source": [
    "D'après une analyse visuelle des résultats obtenus, il a été observé que le cluster représenté par **le DataFrame 1 présente une mesure de nocivité plus élevée par rapport au cluster représenté par le DataFrame 2**. Cette conclusion est basée sur l'examen des graphiques et des visualisations générés par l'algorithme k-means. La comparaison visuelle permet d'identifier rapidement les tendances générales et de déterminer quel cluster peut être considéré comme le plus nocif en se basant sur les mesures de nocivité fournies par les deux DataFrames."
   ]
  },
  {
   "attachments": {},
   "cell_type": "markdown",
   "metadata": {},
   "source": [
    "### Perspective Spécifique (Base Ingredients)"
   ]
  },
  {
   "cell_type": "code",
   "execution_count": 221,
   "metadata": {
    "colab": {
     "base_uri": "https://localhost:8080/",
     "height": 461
    },
    "id": "nLE1BCqm447Q",
    "outputId": "bc8c4c5e-c37b-468d-a1ed-eef3678e8df6"
   },
   "outputs": [
    {
     "data": {
      "text/html": [
       "<div>\n",
       "<style scoped>\n",
       "    .dataframe tbody tr th:only-of-type {\n",
       "        vertical-align: middle;\n",
       "    }\n",
       "\n",
       "    .dataframe tbody tr th {\n",
       "        vertical-align: top;\n",
       "    }\n",
       "\n",
       "    .dataframe thead th {\n",
       "        text-align: right;\n",
       "    }\n",
       "</style>\n",
       "<table border=\"1\" class=\"dataframe\">\n",
       "  <thead>\n",
       "    <tr style=\"text-align: right;\">\n",
       "      <th></th>\n",
       "      <th>Effets toxicologiques sur la santé humaine : substances non-cancérogènes</th>\n",
       "      <th>Effets toxicologiques sur la santé humaine : substances cancérogènes</th>\n",
       "    </tr>\n",
       "  </thead>\n",
       "  <tbody>\n",
       "    <tr>\n",
       "      <th>0</th>\n",
       "      <td>4.580000e-08</td>\n",
       "      <td>0.21400</td>\n",
       "    </tr>\n",
       "    <tr>\n",
       "      <th>1</th>\n",
       "      <td>5.950000e-08</td>\n",
       "      <td>0.51600</td>\n",
       "    </tr>\n",
       "    <tr>\n",
       "      <th>2</th>\n",
       "      <td>1.050000e-07</td>\n",
       "      <td>0.73000</td>\n",
       "    </tr>\n",
       "    <tr>\n",
       "      <th>3</th>\n",
       "      <td>1.760000e-08</td>\n",
       "      <td>0.01140</td>\n",
       "    </tr>\n",
       "    <tr>\n",
       "      <th>4</th>\n",
       "      <td>1.410000e-09</td>\n",
       "      <td>0.00239</td>\n",
       "    </tr>\n",
       "  </tbody>\n",
       "</table>\n",
       "</div>"
      ],
      "text/plain": [
       "   Effets toxicologiques sur la santé humaine : substances non-cancérogènes  \\\n",
       "0                                       4.580000e-08                          \n",
       "1                                       5.950000e-08                          \n",
       "2                                       1.050000e-07                          \n",
       "3                                       1.760000e-08                          \n",
       "4                                       1.410000e-09                          \n",
       "\n",
       "   Effets toxicologiques sur la santé humaine : substances cancérogènes  \n",
       "0                                            0.21400                     \n",
       "1                                            0.51600                     \n",
       "2                                            0.73000                     \n",
       "3                                            0.01140                     \n",
       "4                                            0.00239                     "
      ]
     },
     "execution_count": 221,
     "metadata": {},
     "output_type": "execute_result"
    }
   ],
   "source": [
    "data_ingredients_analyse= data_ingredients[['Effets toxicologiques sur la santé humaine\\xa0: substances non-cancérogènes', 'Effets toxicologiques sur la santé humaine\\xa0: substances cancérogènes']]\n",
    "data_ingredients_analyse.head()"
   ]
  },
  {
   "cell_type": "code",
   "execution_count": 222,
   "metadata": {},
   "outputs": [
    {
     "data": {
      "image/png": "[encoded data removed]",
      "text/plain": [
       "<Figure size 432x288 with 1 Axes>"
      ]
     },
     "metadata": {
      "needs_background": "light"
     },
     "output_type": "display_data"
    }
   ],
   "source": [
    "plt.scatter(data_ingredients_analyse['Effets toxicologiques sur la santé humaine\\xa0: substances non-cancérogènes'], data_ingredients_analyse['Effets toxicologiques sur la santé humaine\\xa0: substances cancérogènes'])\n",
    "plt.title('Nuage de points')\n",
    "plt.show()"
   ]
  },
  {
   "cell_type": "code",
   "execution_count": 223,
   "metadata": {
    "colab": {
     "base_uri": "https://localhost:8080/",
     "height": 374
    },
    "id": "2j4gCkPc1h4y",
    "outputId": "b755eead-893a-4331-f408-eaecea027898"
   },
   "outputs": [
    {
     "data": {
      "text/html": [
       "<div>\n",
       "<style scoped>\n",
       "    .dataframe tbody tr th:only-of-type {\n",
       "        vertical-align: middle;\n",
       "    }\n",
       "\n",
       "    .dataframe tbody tr th {\n",
       "        vertical-align: top;\n",
       "    }\n",
       "\n",
       "    .dataframe thead th {\n",
       "        text-align: right;\n",
       "    }\n",
       "</style>\n",
       "<table border=\"1\" class=\"dataframe\">\n",
       "  <thead>\n",
       "    <tr style=\"text-align: right;\">\n",
       "      <th></th>\n",
       "      <th>Effets toxicologiques sur la santé humaine : substances non-cancérogènes</th>\n",
       "      <th>Effets toxicologiques sur la santé humaine : substances cancérogènes</th>\n",
       "    </tr>\n",
       "  </thead>\n",
       "  <tbody>\n",
       "    <tr>\n",
       "      <th>0</th>\n",
       "      <td>0.013839</td>\n",
       "      <td>0.007039</td>\n",
       "    </tr>\n",
       "    <tr>\n",
       "      <th>1</th>\n",
       "      <td>0.017979</td>\n",
       "      <td>0.016974</td>\n",
       "    </tr>\n",
       "    <tr>\n",
       "      <th>2</th>\n",
       "      <td>0.031727</td>\n",
       "      <td>0.024013</td>\n",
       "    </tr>\n",
       "    <tr>\n",
       "      <th>3</th>\n",
       "      <td>0.005318</td>\n",
       "      <td>0.000375</td>\n",
       "    </tr>\n",
       "    <tr>\n",
       "      <th>4</th>\n",
       "      <td>0.000426</td>\n",
       "      <td>0.000079</td>\n",
       "    </tr>\n",
       "  </tbody>\n",
       "</table>\n",
       "</div>"
      ],
      "text/plain": [
       "   Effets toxicologiques sur la santé humaine : substances non-cancérogènes  \\\n",
       "0                                           0.013839                          \n",
       "1                                           0.017979                          \n",
       "2                                           0.031727                          \n",
       "3                                           0.005318                          \n",
       "4                                           0.000426                          \n",
       "\n",
       "   Effets toxicologiques sur la santé humaine : substances cancérogènes  \n",
       "0                                           0.007039                     \n",
       "1                                           0.016974                     \n",
       "2                                           0.024013                     \n",
       "3                                           0.000375                     \n",
       "4                                           0.000079                     "
      ]
     },
     "execution_count": 223,
     "metadata": {},
     "output_type": "execute_result"
    }
   ],
   "source": [
    "df_ingredients_norm=clust.normalisation(data_ingredients_analyse)\n",
    "df_ingredients_norm.head()"
   ]
  },
  {
   "cell_type": "code",
   "execution_count": 224,
   "metadata": {},
   "outputs": [
    {
     "data": {
      "image/png": "[encoded data removed]",
      "text/plain": [
       "<Figure size 432x288 with 1 Axes>"
      ]
     },
     "metadata": {
      "needs_background": "light"
     },
     "output_type": "display_data"
    }
   ],
   "source": [
    "plt.scatter(df_ingredients_norm['Effets toxicologiques sur la santé humaine\\xa0: substances non-cancérogènes'], df_ingredients_norm['Effets toxicologiques sur la santé humaine\\xa0: substances cancérogènes'])\n",
    "plt.title('Nuage de points')\n",
    "plt.show()"
   ]
  },
  {
   "cell_type": "code",
   "execution_count": 237,
   "metadata": {},
   "outputs": [
    {
     "name": "stdout",
     "output_type": "stream",
     "text": [
      "Iteration :  1  Inertie :  30.279637476890752  Difference :  29.27863747689075\n",
      "Iteration :  2  Inertie :  24.52589164200276  Difference :  5.75374583488799\n",
      "Iteration :  3  Inertie :  18.657407393227793  Difference :  5.868484248774969\n",
      "Iteration :  4  Inertie :  14.55041141723773  Difference :  4.106995975990063\n",
      "Iteration :  5  Inertie :  13.251609341814545  Difference :  1.2988020754231844\n",
      "Iteration :  6  Inertie :  12.961243240867478  Difference :  0.2903661009470664\n",
      "Iteration :  7  Inertie :  12.924867581255159  Difference :  0.03637565961231992\n",
      "Iteration :  8  Inertie :  12.87077310244423  Difference :  0.05409447881092788\n",
      "Iteration :  9  Inertie :  12.853403872930041  Difference :  0.0173692295141894\n",
      "Iteration :  10  Inertie :  12.853078191064412  Difference :  0.0003256818656289795\n",
      "[[0.29612951 0.06103429]\n",
      " [0.01647355 0.00817931]]\n"
     ]
    },
    {
     "ename": "KeyboardInterrupt",
     "evalue": "",
     "output_type": "error",
     "traceback": [
      "\u001b[0;31m---------------------------------------------------------------------------\u001b[0m",
      "\u001b[0;31mKeyboardInterrupt\u001b[0m                         Traceback (most recent call last)",
      "\u001b[1;32m/mnt/c/Users/ndiay/Documents/School/3-2/S6/IADS/Tarek_Slim_Ball/projet/projet-2-SLIM_ATBI_BALL.ipynb Cell 143\u001b[0m in \u001b[0;36m<module>\u001b[0;34m\u001b[0m\n\u001b[1;32m      <a href='vscode-notebook-cell://wsl%2Bubuntu/mnt/c/Users/ndiay/Documents/School/3-2/S6/IADS/Tarek_Slim_Ball/projet/projet-2-SLIM_ATBI_BALL.ipynb#Y230sdnNjb2RlLXJlbW90ZQ%3D%3D?line=1'>2</a>\u001b[0m les_centres_ingredients, l_affectation_ingredients \u001b[39m=\u001b[39m clust\u001b[39m.\u001b[39mkmoyennes(\u001b[39m2\u001b[39m,df_ingredients_norm, \u001b[39m0.001\u001b[39m, \u001b[39m1000\u001b[39m)\n\u001b[1;32m      <a href='vscode-notebook-cell://wsl%2Bubuntu/mnt/c/Users/ndiay/Documents/School/3-2/S6/IADS/Tarek_Slim_Ball/projet/projet-2-SLIM_ATBI_BALL.ipynb#Y230sdnNjb2RlLXJlbW90ZQ%3D%3D?line=2'>3</a>\u001b[0m \u001b[39mprint\u001b[39m(les_centres_ingredients)\n\u001b[0;32m----> <a href='vscode-notebook-cell://wsl%2Bubuntu/mnt/c/Users/ndiay/Documents/School/3-2/S6/IADS/Tarek_Slim_Ball/projet/projet-2-SLIM_ATBI_BALL.ipynb#Y230sdnNjb2RlLXJlbW90ZQ%3D%3D?line=3'>4</a>\u001b[0m clust\u001b[39m.\u001b[39;49maffiche_resultat(df_ingredients_norm,les_centres_ingredients,l_affectation_ingredients)\n",
      "File \u001b[0;32m/mnt/c/Users/ndiay/Documents/School/3-2/S6/IADS/Tarek_Slim_Ball/projet/../iads/Clustering.py:256\u001b[0m, in \u001b[0;36maffiche_resultat\u001b[0;34m(Base, Centres, Affect)\u001b[0m\n\u001b[1;32m    254\u001b[0m c\u001b[39m=\u001b[39mnp\u001b[39m.\u001b[39mrandom\u001b[39m.\u001b[39mchoice(couleurs)\n\u001b[1;32m    255\u001b[0m \u001b[39mfor\u001b[39;00m i \u001b[39min\u001b[39;00m elem:\n\u001b[0;32m--> 256\u001b[0m     plt\u001b[39m.\u001b[39;49mscatter(Base\u001b[39m.\u001b[39;49miloc[i,\u001b[39m0\u001b[39;49m],Base\u001b[39m.\u001b[39;49miloc[i,\u001b[39m1\u001b[39;49m],color\u001b[39m=\u001b[39;49mc)\n",
      "File \u001b[0;32m~/.local/lib/python3.8/site-packages/matplotlib/pyplot.py:2807\u001b[0m, in \u001b[0;36mscatter\u001b[0;34m(x, y, s, c, marker, cmap, norm, vmin, vmax, alpha, linewidths, edgecolors, plotnonfinite, data, **kwargs)\u001b[0m\n\u001b[1;32m   2802\u001b[0m \u001b[39m@_copy_docstring_and_deprecators\u001b[39m(Axes\u001b[39m.\u001b[39mscatter)\n\u001b[1;32m   2803\u001b[0m \u001b[39mdef\u001b[39;00m \u001b[39mscatter\u001b[39m(\n\u001b[1;32m   2804\u001b[0m         x, y, s\u001b[39m=\u001b[39m\u001b[39mNone\u001b[39;00m, c\u001b[39m=\u001b[39m\u001b[39mNone\u001b[39;00m, marker\u001b[39m=\u001b[39m\u001b[39mNone\u001b[39;00m, cmap\u001b[39m=\u001b[39m\u001b[39mNone\u001b[39;00m, norm\u001b[39m=\u001b[39m\u001b[39mNone\u001b[39;00m,\n\u001b[1;32m   2805\u001b[0m         vmin\u001b[39m=\u001b[39m\u001b[39mNone\u001b[39;00m, vmax\u001b[39m=\u001b[39m\u001b[39mNone\u001b[39;00m, alpha\u001b[39m=\u001b[39m\u001b[39mNone\u001b[39;00m, linewidths\u001b[39m=\u001b[39m\u001b[39mNone\u001b[39;00m, \u001b[39m*\u001b[39m,\n\u001b[1;32m   2806\u001b[0m         edgecolors\u001b[39m=\u001b[39m\u001b[39mNone\u001b[39;00m, plotnonfinite\u001b[39m=\u001b[39m\u001b[39mFalse\u001b[39;00m, data\u001b[39m=\u001b[39m\u001b[39mNone\u001b[39;00m, \u001b[39m*\u001b[39m\u001b[39m*\u001b[39mkwargs):\n\u001b[0;32m-> 2807\u001b[0m     __ret \u001b[39m=\u001b[39m gca()\u001b[39m.\u001b[39;49mscatter(\n\u001b[1;32m   2808\u001b[0m         x, y, s\u001b[39m=\u001b[39;49ms, c\u001b[39m=\u001b[39;49mc, marker\u001b[39m=\u001b[39;49mmarker, cmap\u001b[39m=\u001b[39;49mcmap, norm\u001b[39m=\u001b[39;49mnorm,\n\u001b[1;32m   2809\u001b[0m         vmin\u001b[39m=\u001b[39;49mvmin, vmax\u001b[39m=\u001b[39;49mvmax, alpha\u001b[39m=\u001b[39;49malpha, linewidths\u001b[39m=\u001b[39;49mlinewidths,\n\u001b[1;32m   2810\u001b[0m         edgecolors\u001b[39m=\u001b[39;49medgecolors, plotnonfinite\u001b[39m=\u001b[39;49mplotnonfinite,\n\u001b[1;32m   2811\u001b[0m         \u001b[39m*\u001b[39;49m\u001b[39m*\u001b[39;49m({\u001b[39m\"\u001b[39;49m\u001b[39mdata\u001b[39;49m\u001b[39m\"\u001b[39;49m: data} \u001b[39mif\u001b[39;49;00m data \u001b[39mis\u001b[39;49;00m \u001b[39mnot\u001b[39;49;00m \u001b[39mNone\u001b[39;49;00m \u001b[39melse\u001b[39;49;00m {}), \u001b[39m*\u001b[39;49m\u001b[39m*\u001b[39;49mkwargs)\n\u001b[1;32m   2812\u001b[0m     sci(__ret)\n\u001b[1;32m   2813\u001b[0m     \u001b[39mreturn\u001b[39;00m __ret\n",
      "File \u001b[0;32m~/.local/lib/python3.8/site-packages/matplotlib/__init__.py:1412\u001b[0m, in \u001b[0;36m_preprocess_data.<locals>.inner\u001b[0;34m(ax, data, *args, **kwargs)\u001b[0m\n\u001b[1;32m   1409\u001b[0m \u001b[39m@functools\u001b[39m\u001b[39m.\u001b[39mwraps(func)\n\u001b[1;32m   1410\u001b[0m \u001b[39mdef\u001b[39;00m \u001b[39minner\u001b[39m(ax, \u001b[39m*\u001b[39margs, data\u001b[39m=\u001b[39m\u001b[39mNone\u001b[39;00m, \u001b[39m*\u001b[39m\u001b[39m*\u001b[39mkwargs):\n\u001b[1;32m   1411\u001b[0m     \u001b[39mif\u001b[39;00m data \u001b[39mis\u001b[39;00m \u001b[39mNone\u001b[39;00m:\n\u001b[0;32m-> 1412\u001b[0m         \u001b[39mreturn\u001b[39;00m func(ax, \u001b[39m*\u001b[39;49m\u001b[39mmap\u001b[39;49m(sanitize_sequence, args), \u001b[39m*\u001b[39;49m\u001b[39m*\u001b[39;49mkwargs)\n\u001b[1;32m   1414\u001b[0m     bound \u001b[39m=\u001b[39m new_sig\u001b[39m.\u001b[39mbind(ax, \u001b[39m*\u001b[39margs, \u001b[39m*\u001b[39m\u001b[39m*\u001b[39mkwargs)\n\u001b[1;32m   1415\u001b[0m     auto_label \u001b[39m=\u001b[39m (bound\u001b[39m.\u001b[39marguments\u001b[39m.\u001b[39mget(label_namer)\n\u001b[1;32m   1416\u001b[0m                   \u001b[39mor\u001b[39;00m bound\u001b[39m.\u001b[39mkwargs\u001b[39m.\u001b[39mget(label_namer))\n",
      "File \u001b[0;32m~/.local/lib/python3.8/site-packages/matplotlib/axes/_axes.py:4487\u001b[0m, in \u001b[0;36mAxes.scatter\u001b[0;34m(self, x, y, s, c, marker, cmap, norm, vmin, vmax, alpha, linewidths, edgecolors, plotnonfinite, **kwargs)\u001b[0m\n\u001b[1;32m   4484\u001b[0m     \u001b[39mif\u001b[39;00m \u001b[39mself\u001b[39m\u001b[39m.\u001b[39m_ymargin \u001b[39m<\u001b[39m \u001b[39m0.05\u001b[39m \u001b[39mand\u001b[39;00m x\u001b[39m.\u001b[39msize \u001b[39m>\u001b[39m \u001b[39m0\u001b[39m:\n\u001b[1;32m   4485\u001b[0m         \u001b[39mself\u001b[39m\u001b[39m.\u001b[39mset_ymargin(\u001b[39m0.05\u001b[39m)\n\u001b[0;32m-> 4487\u001b[0m \u001b[39mself\u001b[39;49m\u001b[39m.\u001b[39;49madd_collection(collection)\n\u001b[1;32m   4488\u001b[0m \u001b[39mself\u001b[39m\u001b[39m.\u001b[39m_request_autoscale_view()\n\u001b[1;32m   4490\u001b[0m \u001b[39mreturn\u001b[39;00m collection\n",
      "File \u001b[0;32m~/.local/lib/python3.8/site-packages/matplotlib/axes/_base.py:2242\u001b[0m, in \u001b[0;36m_AxesBase.add_collection\u001b[0;34m(self, collection, autolim)\u001b[0m\n\u001b[1;32m   2237\u001b[0m     collection\u001b[39m.\u001b[39mset_clip_path(\u001b[39mself\u001b[39m\u001b[39m.\u001b[39mpatch)\n\u001b[1;32m   2239\u001b[0m \u001b[39mif\u001b[39;00m autolim:\n\u001b[1;32m   2240\u001b[0m     \u001b[39m# Make sure viewLim is not stale (mostly to match\u001b[39;00m\n\u001b[1;32m   2241\u001b[0m     \u001b[39m# pre-lazy-autoscale behavior, which is not really better).\u001b[39;00m\n\u001b[0;32m-> 2242\u001b[0m     \u001b[39mself\u001b[39;49m\u001b[39m.\u001b[39;49m_unstale_viewLim()\n\u001b[1;32m   2243\u001b[0m     datalim \u001b[39m=\u001b[39m collection\u001b[39m.\u001b[39mget_datalim(\u001b[39mself\u001b[39m\u001b[39m.\u001b[39mtransData)\n\u001b[1;32m   2244\u001b[0m     points \u001b[39m=\u001b[39m datalim\u001b[39m.\u001b[39mget_points()\n",
      "File \u001b[0;32m~/.local/lib/python3.8/site-packages/matplotlib/axes/_base.py:776\u001b[0m, in \u001b[0;36m_AxesBase._unstale_viewLim\u001b[0;34m(self)\u001b[0m\n\u001b[1;32m    774\u001b[0m     \u001b[39mfor\u001b[39;00m ax \u001b[39min\u001b[39;00m \u001b[39mself\u001b[39m\u001b[39m.\u001b[39m_shared_axes[name]\u001b[39m.\u001b[39mget_siblings(\u001b[39mself\u001b[39m):\n\u001b[1;32m    775\u001b[0m         ax\u001b[39m.\u001b[39m_stale_viewlims[name] \u001b[39m=\u001b[39m \u001b[39mFalse\u001b[39;00m\n\u001b[0;32m--> 776\u001b[0m \u001b[39mself\u001b[39;49m\u001b[39m.\u001b[39;49mautoscale_view(\u001b[39m*\u001b[39;49m\u001b[39m*\u001b[39;49m{\u001b[39mf\u001b[39;49m\u001b[39m\"\u001b[39;49m\u001b[39mscale\u001b[39;49m\u001b[39m{\u001b[39;49;00mname\u001b[39m}\u001b[39;49;00m\u001b[39m\"\u001b[39;49m: scale\n\u001b[1;32m    777\u001b[0m                        \u001b[39mfor\u001b[39;49;00m name, scale \u001b[39min\u001b[39;49;00m need_scale\u001b[39m.\u001b[39;49mitems()})\n",
      "File \u001b[0;32m~/.local/lib/python3.8/site-packages/matplotlib/axes/_base.py:2851\u001b[0m, in \u001b[0;36m_AxesBase.autoscale_view\u001b[0;34m(self, tight, scalex, scaley)\u001b[0m\n\u001b[1;32m   2844\u001b[0m \u001b[39mif\u001b[39;00m \u001b[39mself\u001b[39m\u001b[39m.\u001b[39muse_sticky_edges:\n\u001b[1;32m   2845\u001b[0m     \u001b[39m# Only iterate over Axes and artists if needed.  The check for\u001b[39;00m\n\u001b[1;32m   2846\u001b[0m     \u001b[39m# ``hasattr(ax, \"_children\")`` is necessary because this can be\u001b[39;00m\n\u001b[1;32m   2847\u001b[0m     \u001b[39m# called very early in the Axes init process (e.g., for twin axes)\u001b[39;00m\n\u001b[1;32m   2848\u001b[0m     \u001b[39m# when these attributes don't even exist yet, in which case\u001b[39;00m\n\u001b[1;32m   2849\u001b[0m     \u001b[39m# `get_children` would raise an AttributeError.\u001b[39;00m\n\u001b[1;32m   2850\u001b[0m     \u001b[39mif\u001b[39;00m \u001b[39mself\u001b[39m\u001b[39m.\u001b[39m_xmargin \u001b[39mand\u001b[39;00m scalex \u001b[39mand\u001b[39;00m \u001b[39mself\u001b[39m\u001b[39m.\u001b[39m_autoscaleXon:\n\u001b[0;32m-> 2851\u001b[0m         x_stickies \u001b[39m=\u001b[39m np\u001b[39m.\u001b[39msort(np\u001b[39m.\u001b[39;49mconcatenate([\n\u001b[1;32m   2852\u001b[0m             artist\u001b[39m.\u001b[39;49msticky_edges\u001b[39m.\u001b[39;49mx\n\u001b[1;32m   2853\u001b[0m             \u001b[39mfor\u001b[39;49;00m ax \u001b[39min\u001b[39;49;00m \u001b[39mself\u001b[39;49m\u001b[39m.\u001b[39;49m_shared_axes[\u001b[39m\"\u001b[39;49m\u001b[39mx\u001b[39;49m\u001b[39m\"\u001b[39;49m]\u001b[39m.\u001b[39;49mget_siblings(\u001b[39mself\u001b[39;49m)\n\u001b[1;32m   2854\u001b[0m             \u001b[39mif\u001b[39;49;00m \u001b[39mhasattr\u001b[39;49m(ax, \u001b[39m\"\u001b[39;49m\u001b[39m_children\u001b[39;49m\u001b[39m\"\u001b[39;49m)\n\u001b[1;32m   2855\u001b[0m             \u001b[39mfor\u001b[39;49;00m artist \u001b[39min\u001b[39;49;00m ax\u001b[39m.\u001b[39;49mget_children()]))\n\u001b[1;32m   2856\u001b[0m     \u001b[39mif\u001b[39;00m \u001b[39mself\u001b[39m\u001b[39m.\u001b[39m_ymargin \u001b[39mand\u001b[39;00m scaley \u001b[39mand\u001b[39;00m \u001b[39mself\u001b[39m\u001b[39m.\u001b[39m_autoscaleYon:\n\u001b[1;32m   2857\u001b[0m         y_stickies \u001b[39m=\u001b[39m np\u001b[39m.\u001b[39msort(np\u001b[39m.\u001b[39mconcatenate([\n\u001b[1;32m   2858\u001b[0m             artist\u001b[39m.\u001b[39msticky_edges\u001b[39m.\u001b[39my\n\u001b[1;32m   2859\u001b[0m             \u001b[39mfor\u001b[39;00m ax \u001b[39min\u001b[39;00m \u001b[39mself\u001b[39m\u001b[39m.\u001b[39m_shared_axes[\u001b[39m\"\u001b[39m\u001b[39my\u001b[39m\u001b[39m\"\u001b[39m]\u001b[39m.\u001b[39mget_siblings(\u001b[39mself\u001b[39m)\n\u001b[1;32m   2860\u001b[0m             \u001b[39mif\u001b[39;00m \u001b[39mhasattr\u001b[39m(ax, \u001b[39m\"\u001b[39m\u001b[39m_children\u001b[39m\u001b[39m\"\u001b[39m)\n\u001b[1;32m   2861\u001b[0m             \u001b[39mfor\u001b[39;00m artist \u001b[39min\u001b[39;00m ax\u001b[39m.\u001b[39mget_children()]))\n",
      "File \u001b[0;32m<__array_function__ internals>:180\u001b[0m, in \u001b[0;36mconcatenate\u001b[0;34m(*args, **kwargs)\u001b[0m\n",
      "\u001b[0;31mKeyboardInterrupt\u001b[0m: "
     ]
    },
    {
     "data": {
      "image/png": "[encoded data removed]",
      "text/plain": [
       "<Figure size 432x288 with 1 Axes>"
      ]
     },
     "metadata": {
      "needs_background": "light"
     },
     "output_type": "display_data"
    }
   ],
   "source": [
    "np.random.seed(52)\n",
    "les_centres_ingredients, l_affectation_ingredients = clust.kmoyennes(2,df_ingredients_norm, 0.001, 1000)\n",
    "print(les_centres_ingredients)\n",
    "clust.affiche_resultat(df_ingredients_norm,les_centres_ingredients,l_affectation_ingredients)"
   ]
  },
  {
   "cell_type": "code",
   "execution_count": null,
   "metadata": {},
   "outputs": [],
   "source": [
    "cluster_1 = l_affectation[0]  # le bleu\n",
    "cluster_2 = l_affectation[1]  # le vert\n",
    "\n",
    "data_ingredients_array = np.array(data_ingredients[\"Ingredients\"])\n",
    "data_clust_1 = data_ingredients_array[cluster_1]\n",
    "data_clust_2 = data_ingredients_array[cluster_2]\n",
    "key_1 = list(set(data_clust_1))\n",
    "key_2 = list(set(data_clust_2))\n",
    "dict_1 = dict()\n",
    "dict_2 = dict()\n",
    "for elt in key_1:\n",
    "    dict_1[elt] = 0\n",
    "\n",
    "for elt in data_clust_1:\n",
    "    dict_1[elt] +=1\n",
    "    \n",
    "for elt in key_2:\n",
    "    dict_2[elt] = 0\n",
    "    \n",
    "for elt in data_clust_2:\n",
    "    dict_2[elt] +=1"
   ]
  },
  {
   "cell_type": "code",
   "execution_count": null,
   "metadata": {},
   "outputs": [
    {
     "data": {
      "text/html": [
       "<div>\n",
       "<style scoped>\n",
       "    .dataframe tbody tr th:only-of-type {\n",
       "        vertical-align: middle;\n",
       "    }\n",
       "\n",
       "    .dataframe tbody tr th {\n",
       "        vertical-align: top;\n",
       "    }\n",
       "\n",
       "    .dataframe thead th {\n",
       "        text-align: right;\n",
       "    }\n",
       "</style>\n",
       "<table border=\"1\" class=\"dataframe\">\n",
       "  <thead>\n",
       "    <tr style=\"text-align: right;\">\n",
       "      <th></th>\n",
       "      <th>Valeur</th>\n",
       "    </tr>\n",
       "  </thead>\n",
       "  <tbody>\n",
       "    <tr>\n",
       "      <th>Crevette</th>\n",
       "      <td>1</td>\n",
       "    </tr>\n",
       "    <tr>\n",
       "      <th>Pâtes</th>\n",
       "      <td>2</td>\n",
       "    </tr>\n",
       "    <tr>\n",
       "      <th>Viande d'agneau sans os</th>\n",
       "      <td>1</td>\n",
       "    </tr>\n",
       "    <tr>\n",
       "      <th>Total</th>\n",
       "      <td>22</td>\n",
       "    </tr>\n",
       "    <tr>\n",
       "      <th>Mélange de chicorée et de café</th>\n",
       "      <td>1</td>\n",
       "    </tr>\n",
       "    <tr>\n",
       "      <th>Carotte</th>\n",
       "      <td>3</td>\n",
       "    </tr>\n",
       "    <tr>\n",
       "      <th>Blé dur</th>\n",
       "      <td>1</td>\n",
       "    </tr>\n",
       "    <tr>\n",
       "      <th>Vin rouge</th>\n",
       "      <td>1</td>\n",
       "    </tr>\n",
       "    <tr>\n",
       "      <th>Pomme de table</th>\n",
       "      <td>1</td>\n",
       "    </tr>\n",
       "    <tr>\n",
       "      <th>Autres étapes</th>\n",
       "      <td>19</td>\n",
       "    </tr>\n",
       "    <tr>\n",
       "      <th>Epinard</th>\n",
       "      <td>2</td>\n",
       "    </tr>\n",
       "    <tr>\n",
       "      <th>Graine de soja</th>\n",
       "      <td>1</td>\n",
       "    </tr>\n",
       "    <tr>\n",
       "      <th>Fromage à pâte dure</th>\n",
       "      <td>2</td>\n",
       "    </tr>\n",
       "    <tr>\n",
       "      <th>Navet</th>\n",
       "      <td>1</td>\n",
       "    </tr>\n",
       "    <tr>\n",
       "      <th>Blanc d'oeuf</th>\n",
       "      <td>3</td>\n",
       "    </tr>\n",
       "    <tr>\n",
       "      <th>Abats de porc</th>\n",
       "      <td>1</td>\n",
       "    </tr>\n",
       "    <tr>\n",
       "      <th>Tomate</th>\n",
       "      <td>2</td>\n",
       "    </tr>\n",
       "    <tr>\n",
       "      <th>Bœuf haché</th>\n",
       "      <td>2</td>\n",
       "    </tr>\n",
       "    <tr>\n",
       "      <th>Moule</th>\n",
       "      <td>2</td>\n",
       "    </tr>\n",
       "    <tr>\n",
       "      <th>Sauce au curry</th>\n",
       "      <td>1</td>\n",
       "    </tr>\n",
       "    <tr>\n",
       "      <th>Miel</th>\n",
       "      <td>1</td>\n",
       "    </tr>\n",
       "    <tr>\n",
       "      <th>Viande de porc maigre</th>\n",
       "      <td>1</td>\n",
       "    </tr>\n",
       "    <tr>\n",
       "      <th>Huile d'olive</th>\n",
       "      <td>2</td>\n",
       "    </tr>\n",
       "    <tr>\n",
       "      <th>Sel</th>\n",
       "      <td>2</td>\n",
       "    </tr>\n",
       "    <tr>\n",
       "      <th>Vin blanc</th>\n",
       "      <td>2</td>\n",
       "    </tr>\n",
       "    <tr>\n",
       "      <th>Viande de veau sans os</th>\n",
       "      <td>1</td>\n",
       "    </tr>\n",
       "    <tr>\n",
       "      <th>Gluten de blé</th>\n",
       "      <td>2</td>\n",
       "    </tr>\n",
       "    <tr>\n",
       "      <th>Huile combinée (mélange d'huile d'olive et d'huile de graines)</th>\n",
       "      <td>3</td>\n",
       "    </tr>\n",
       "    <tr>\n",
       "      <th>Morue</th>\n",
       "      <td>1</td>\n",
       "    </tr>\n",
       "    <tr>\n",
       "      <th>Persil</th>\n",
       "      <td>2</td>\n",
       "    </tr>\n",
       "    <tr>\n",
       "      <th>Huile de tournesol</th>\n",
       "      <td>3</td>\n",
       "    </tr>\n",
       "    <tr>\n",
       "      <th>Fructose</th>\n",
       "      <td>1</td>\n",
       "    </tr>\n",
       "    <tr>\n",
       "      <th>Lieu ou colin d'Alaska</th>\n",
       "      <td>1</td>\n",
       "    </tr>\n",
       "    <tr>\n",
       "      <th>Petits pois</th>\n",
       "      <td>1</td>\n",
       "    </tr>\n",
       "    <tr>\n",
       "      <th>Ail</th>\n",
       "      <td>2</td>\n",
       "    </tr>\n",
       "    <tr>\n",
       "      <th>Jambon cuit</th>\n",
       "      <td>3</td>\n",
       "    </tr>\n",
       "    <tr>\n",
       "      <th>Courgette</th>\n",
       "      <td>2</td>\n",
       "    </tr>\n",
       "    <tr>\n",
       "      <th>Protéine de soja</th>\n",
       "      <td>3</td>\n",
       "    </tr>\n",
       "    <tr>\n",
       "      <th>Jaune d'œuf</th>\n",
       "      <td>3</td>\n",
       "    </tr>\n",
       "    <tr>\n",
       "      <th>Fromage fondu</th>\n",
       "      <td>1</td>\n",
       "    </tr>\n",
       "    <tr>\n",
       "      <th>Gruyère</th>\n",
       "      <td>1</td>\n",
       "    </tr>\n",
       "    <tr>\n",
       "      <th>Saumon</th>\n",
       "      <td>1</td>\n",
       "    </tr>\n",
       "    <tr>\n",
       "      <th>Viande</th>\n",
       "      <td>1</td>\n",
       "    </tr>\n",
       "    <tr>\n",
       "      <th>Oignons</th>\n",
       "      <td>5</td>\n",
       "    </tr>\n",
       "    <tr>\n",
       "      <th>Fromage frais crémeux</th>\n",
       "      <td>4</td>\n",
       "    </tr>\n",
       "    <tr>\n",
       "      <th>Céleri</th>\n",
       "      <td>1</td>\n",
       "    </tr>\n",
       "    <tr>\n",
       "      <th>Poivre</th>\n",
       "      <td>1</td>\n",
       "    </tr>\n",
       "    <tr>\n",
       "      <th>Parmesan</th>\n",
       "      <td>1</td>\n",
       "    </tr>\n",
       "    <tr>\n",
       "      <th>Coriandre</th>\n",
       "      <td>1</td>\n",
       "    </tr>\n",
       "    <tr>\n",
       "      <th>Fèves</th>\n",
       "      <td>1</td>\n",
       "    </tr>\n",
       "    <tr>\n",
       "      <th>Farine de blé</th>\n",
       "      <td>10</td>\n",
       "    </tr>\n",
       "    <tr>\n",
       "      <th>Emmental</th>\n",
       "      <td>3</td>\n",
       "    </tr>\n",
       "    <tr>\n",
       "      <th>Pois chiches</th>\n",
       "      <td>1</td>\n",
       "    </tr>\n",
       "    <tr>\n",
       "      <th>Échalote</th>\n",
       "      <td>1</td>\n",
       "    </tr>\n",
       "    <tr>\n",
       "      <th>Lait demi-écremé</th>\n",
       "      <td>2</td>\n",
       "    </tr>\n",
       "    <tr>\n",
       "      <th>Champignon</th>\n",
       "      <td>2</td>\n",
       "    </tr>\n",
       "    <tr>\n",
       "      <th>Beurre</th>\n",
       "      <td>9</td>\n",
       "    </tr>\n",
       "    <tr>\n",
       "      <th>Farine de soja</th>\n",
       "      <td>3</td>\n",
       "    </tr>\n",
       "    <tr>\n",
       "      <th>Tomme</th>\n",
       "      <td>1</td>\n",
       "    </tr>\n",
       "    <tr>\n",
       "      <th>Chicorée</th>\n",
       "      <td>1</td>\n",
       "    </tr>\n",
       "  </tbody>\n",
       "</table>\n",
       "</div>"
      ],
      "text/plain": [
       "                                                    Valeur\n",
       "Crevette                                                 1\n",
       "Pâtes                                                    2\n",
       "Viande d'agneau sans os                                  1\n",
       "Total                                                   22\n",
       "Mélange de chicorée et de café                           1\n",
       "Carotte                                                  3\n",
       "Blé dur                                                  1\n",
       "Vin rouge                                                1\n",
       "Pomme de table                                           1\n",
       "Autres étapes                                           19\n",
       "Epinard                                                  2\n",
       "Graine de soja                                           1\n",
       "Fromage à pâte dure                                      2\n",
       "Navet                                                    1\n",
       "Blanc d'oeuf                                             3\n",
       "Abats de porc                                            1\n",
       "Tomate                                                   2\n",
       "Bœuf haché                                               2\n",
       "Moule                                                    2\n",
       "Sauce au curry                                           1\n",
       "Miel                                                     1\n",
       "Viande de porc maigre                                    1\n",
       "Huile d'olive                                            2\n",
       "Sel                                                      2\n",
       "Vin blanc                                                2\n",
       "Viande de veau sans os                                   1\n",
       "Gluten de blé                                            2\n",
       "Huile combinée (mélange d'huile d'olive et d'hu...       3\n",
       "Morue                                                    1\n",
       "Persil                                                   2\n",
       "Huile de tournesol                                       3\n",
       "Fructose                                                 1\n",
       "Lieu ou colin d'Alaska                                   1\n",
       "Petits pois                                              1\n",
       "Ail                                                      2\n",
       "Jambon cuit                                              3\n",
       "Courgette                                                2\n",
       "Protéine de soja                                         3\n",
       "Jaune d'œuf                                              3\n",
       "Fromage fondu                                            1\n",
       "Gruyère                                                  1\n",
       "Saumon                                                   1\n",
       "Viande                                                   1\n",
       "Oignons                                                  5\n",
       "Fromage frais crémeux                                    4\n",
       "Céleri                                                   1\n",
       "Poivre                                                   1\n",
       "Parmesan                                                 1\n",
       "Coriandre                                                1\n",
       "Fèves                                                    1\n",
       "Farine de blé                                           10\n",
       "Emmental                                                 3\n",
       "Pois chiches                                             1\n",
       "Échalote                                                 1\n",
       "Lait demi-écremé                                         2\n",
       "Champignon                                               2\n",
       "Beurre                                                   9\n",
       "Farine de soja                                           3\n",
       "Tomme                                                    1\n",
       "Chicorée                                                 1"
      ]
     },
     "execution_count": 227,
     "metadata": {},
     "output_type": "execute_result"
    }
   ],
   "source": [
    "df1 = pd.DataFrame.from_dict(dict_1, orient='index', columns=['Valeur']) #bleu\n",
    "df1"
   ]
  },
  {
   "cell_type": "code",
   "execution_count": null,
   "metadata": {},
   "outputs": [
    {
     "data": {
      "text/html": [
       "<div>\n",
       "<style scoped>\n",
       "    .dataframe tbody tr th:only-of-type {\n",
       "        vertical-align: middle;\n",
       "    }\n",
       "\n",
       "    .dataframe tbody tr th {\n",
       "        vertical-align: top;\n",
       "    }\n",
       "\n",
       "    .dataframe thead th {\n",
       "        text-align: right;\n",
       "    }\n",
       "</style>\n",
       "<table border=\"1\" class=\"dataframe\">\n",
       "  <thead>\n",
       "    <tr style=\"text-align: right;\">\n",
       "      <th></th>\n",
       "      <th>Valeur</th>\n",
       "    </tr>\n",
       "  </thead>\n",
       "  <tbody>\n",
       "    <tr>\n",
       "      <th>Haricot vert</th>\n",
       "      <td>9</td>\n",
       "    </tr>\n",
       "    <tr>\n",
       "      <th>Total</th>\n",
       "      <td>249</td>\n",
       "    </tr>\n",
       "    <tr>\n",
       "      <th>Mélange de chicorée et de café</th>\n",
       "      <td>1</td>\n",
       "    </tr>\n",
       "    <tr>\n",
       "      <th>Romarin</th>\n",
       "      <td>1</td>\n",
       "    </tr>\n",
       "    <tr>\n",
       "      <th>Piment</th>\n",
       "      <td>2</td>\n",
       "    </tr>\n",
       "    <tr>\n",
       "      <th>...</th>\n",
       "      <td>...</td>\n",
       "    </tr>\n",
       "    <tr>\n",
       "      <th>Emmental</th>\n",
       "      <td>30</td>\n",
       "    </tr>\n",
       "    <tr>\n",
       "      <th>Lait demi-écremé</th>\n",
       "      <td>45</td>\n",
       "    </tr>\n",
       "    <tr>\n",
       "      <th>Beurre</th>\n",
       "      <td>38</td>\n",
       "    </tr>\n",
       "    <tr>\n",
       "      <th>Tomme</th>\n",
       "      <td>1</td>\n",
       "    </tr>\n",
       "    <tr>\n",
       "      <th>Chicorée</th>\n",
       "      <td>5</td>\n",
       "    </tr>\n",
       "  </tbody>\n",
       "</table>\n",
       "<p>156 rows × 1 columns</p>\n",
       "</div>"
      ],
      "text/plain": [
       "                                Valeur\n",
       "Haricot vert                         9\n",
       "Total                              249\n",
       "Mélange de chicorée et de café       1\n",
       "Romarin                              1\n",
       "Piment                               2\n",
       "...                                ...\n",
       "Emmental                            30\n",
       "Lait demi-écremé                    45\n",
       "Beurre                              38\n",
       "Tomme                                1\n",
       "Chicorée                             5\n",
       "\n",
       "[156 rows x 1 columns]"
      ]
     },
     "execution_count": 228,
     "metadata": {},
     "output_type": "execute_result"
    }
   ],
   "source": [
    "df2 = pd.DataFrame.from_dict(dict_2, orient='index', columns=['Valeur']) #vert\n",
    "df2"
   ]
  },
  {
   "cell_type": "code",
   "execution_count": null,
   "metadata": {},
   "outputs": [],
   "source": [
    "# Ici j'enleve total et autres etapes qui ne sont pas vraiment des ingrédients\n",
    "\n",
    "df1 = df1.drop(index='Total')\n",
    "df1 = df1.drop(index='Autres étapes')"
   ]
  },
  {
   "cell_type": "code",
   "execution_count": null,
   "metadata": {},
   "outputs": [
    {
     "data": {
      "text/plain": [
       "Valeur    10\n",
       "Name: Farine de blé, dtype: int64"
      ]
     },
     "execution_count": 230,
     "metadata": {},
     "output_type": "execute_result"
    }
   ],
   "source": [
    "# Ingrédient le plus nocif\n",
    "most_nocif2 = np.argmax(np.asarray(df1))\n",
    "df1.iloc[most_nocif2]"
   ]
  },
  {
   "attachments": {},
   "cell_type": "markdown",
   "metadata": {},
   "source": [
    "\n",
    "## Probleme 3: Peut on predire la classe des Ingredients?"
   ]
  },
  {
   "attachments": {},
   "cell_type": "markdown",
   "metadata": {},
   "source": [
    "##### Pour repondre a cette problématique on va d'abord utiliser l'algorithme de knn et puis Kmeans"
   ]
  },
  {
   "cell_type": "code",
   "execution_count": null,
   "metadata": {},
   "outputs": [
    {
     "name": "stdout",
     "output_type": "stream",
     "text": [
      "['aides culinaires et ingrédients divers' 'aliments infantiles' 'boissons'\n",
      " 'entrées et plats composés' 'fruits, légumes, légumineuses et oléagineux'\n",
      " 'glaces et sorbets' 'lait et produits laitiers' 'matières grasses'\n",
      " 'produits céréaliers' 'produits sucrés' 'viandes, œufs, poissons']\n",
      "Nombre de classes : 11\n"
     ]
    }
   ],
   "source": [
    "target = data_ingredients['Groupe d\\'aliment'].unique()\n",
    "print(target)\n",
    "print('Nombre de classes :', target.size)"
   ]
  },
  {
   "cell_type": "code",
   "execution_count": null,
   "metadata": {},
   "outputs": [
    {
     "data": {
      "text/html": [
       "<div>\n",
       "<style scoped>\n",
       "    .dataframe tbody tr th:only-of-type {\n",
       "        vertical-align: middle;\n",
       "    }\n",
       "\n",
       "    .dataframe tbody tr th {\n",
       "        vertical-align: top;\n",
       "    }\n",
       "\n",
       "    .dataframe thead th {\n",
       "        text-align: right;\n",
       "    }\n",
       "</style>\n",
       "<table border=\"1\" class=\"dataframe\">\n",
       "  <thead>\n",
       "    <tr style=\"text-align: right;\">\n",
       "      <th></th>\n",
       "      <th>Formation photochimique d'ozone</th>\n",
       "      <th>Particules fines</th>\n",
       "      <th>Effets toxicologiques sur la santé humaine : substances non-cancérogènes</th>\n",
       "      <th>Effets toxicologiques sur la santé humaine : substances cancérogènes</th>\n",
       "      <th>Acidification terrestre et eaux douces</th>\n",
       "      <th>Eutrophisation eaux douces</th>\n",
       "      <th>Eutrophisation marine</th>\n",
       "      <th>Eutrophisation terrestre</th>\n",
       "      <th>Écotoxicité pour écosystèmes aquatiques d'eau douce</th>\n",
       "      <th>Utilisation du sol</th>\n",
       "      <th>Épuisement des ressources eau</th>\n",
       "      <th>Épuisement des ressources énergétiques</th>\n",
       "      <th>Épuisement des ressources minéraux</th>\n",
       "      <th>Pt/kg de produit</th>\n",
       "      <th>m3 depriv./kg de produit</th>\n",
       "      <th>MJ/kg de produit</th>\n",
       "      <th>kg Sb eq/kg de produit</th>\n",
       "    </tr>\n",
       "  </thead>\n",
       "  <tbody>\n",
       "    <tr>\n",
       "      <th>0</th>\n",
       "      <td>0.17</td>\n",
       "      <td>1.58000</td>\n",
       "      <td>4.580000e-08</td>\n",
       "      <td>0.21400</td>\n",
       "      <td>0.002670</td>\n",
       "      <td>1.160000e-07</td>\n",
       "      <td>4.070000e-08</td>\n",
       "      <td>1.240000e-09</td>\n",
       "      <td>0.017200</td>\n",
       "      <td>0.000222</td>\n",
       "      <td>0.005420</td>\n",
       "      <td>0.072300</td>\n",
       "      <td>17.500</td>\n",
       "      <td>90.100</td>\n",
       "      <td>0.310</td>\n",
       "      <td>8.090</td>\n",
       "      <td>1.480000e-05</td>\n",
       "    </tr>\n",
       "    <tr>\n",
       "      <th>1</th>\n",
       "      <td>0.06</td>\n",
       "      <td>0.39900</td>\n",
       "      <td>5.950000e-08</td>\n",
       "      <td>0.51600</td>\n",
       "      <td>0.001090</td>\n",
       "      <td>2.810000e-08</td>\n",
       "      <td>7.160000e-09</td>\n",
       "      <td>2.340000e-10</td>\n",
       "      <td>0.002160</td>\n",
       "      <td>0.000090</td>\n",
       "      <td>0.001300</td>\n",
       "      <td>0.006980</td>\n",
       "      <td>2.310</td>\n",
       "      <td>9.060</td>\n",
       "      <td>0.144</td>\n",
       "      <td>15.300</td>\n",
       "      <td>2.320000e-06</td>\n",
       "    </tr>\n",
       "    <tr>\n",
       "      <th>2</th>\n",
       "      <td>0.22</td>\n",
       "      <td>1.98000</td>\n",
       "      <td>1.050000e-07</td>\n",
       "      <td>0.73000</td>\n",
       "      <td>0.003770</td>\n",
       "      <td>1.440000e-07</td>\n",
       "      <td>4.780000e-08</td>\n",
       "      <td>1.470000e-09</td>\n",
       "      <td>0.019300</td>\n",
       "      <td>0.000312</td>\n",
       "      <td>0.006730</td>\n",
       "      <td>0.079300</td>\n",
       "      <td>19.900</td>\n",
       "      <td>99.200</td>\n",
       "      <td>0.455</td>\n",
       "      <td>23.400</td>\n",
       "      <td>1.710000e-05</td>\n",
       "    </tr>\n",
       "    <tr>\n",
       "      <th>3</th>\n",
       "      <td>0.05</td>\n",
       "      <td>0.06210</td>\n",
       "      <td>1.760000e-08</td>\n",
       "      <td>0.01140</td>\n",
       "      <td>0.000890</td>\n",
       "      <td>2.640000e-08</td>\n",
       "      <td>2.050000e-08</td>\n",
       "      <td>4.180000e-10</td>\n",
       "      <td>0.003770</td>\n",
       "      <td>0.000052</td>\n",
       "      <td>0.001740</td>\n",
       "      <td>0.015800</td>\n",
       "      <td>5.580</td>\n",
       "      <td>54.300</td>\n",
       "      <td>1.950</td>\n",
       "      <td>1.720</td>\n",
       "      <td>1.890000e-06</td>\n",
       "    </tr>\n",
       "    <tr>\n",
       "      <th>4</th>\n",
       "      <td>0.00</td>\n",
       "      <td>0.00985</td>\n",
       "      <td>1.410000e-09</td>\n",
       "      <td>0.00239</td>\n",
       "      <td>0.000045</td>\n",
       "      <td>8.710000e-10</td>\n",
       "      <td>3.390000e-10</td>\n",
       "      <td>1.370000e-11</td>\n",
       "      <td>0.000111</td>\n",
       "      <td>0.000003</td>\n",
       "      <td>0.000125</td>\n",
       "      <td>0.000408</td>\n",
       "      <td>0.231</td>\n",
       "      <td>0.998</td>\n",
       "      <td>0.165</td>\n",
       "      <td>0.138</td>\n",
       "      <td>1.520000e-07</td>\n",
       "    </tr>\n",
       "  </tbody>\n",
       "</table>\n",
       "</div>"
      ],
      "text/plain": [
       "   Formation photochimique d'ozone  Particules fines  \\\n",
       "0                             0.17           1.58000   \n",
       "1                             0.06           0.39900   \n",
       "2                             0.22           1.98000   \n",
       "3                             0.05           0.06210   \n",
       "4                             0.00           0.00985   \n",
       "\n",
       "   Effets toxicologiques sur la santé humaine : substances non-cancérogènes  \\\n",
       "0                                       4.580000e-08                          \n",
       "1                                       5.950000e-08                          \n",
       "2                                       1.050000e-07                          \n",
       "3                                       1.760000e-08                          \n",
       "4                                       1.410000e-09                          \n",
       "\n",
       "   Effets toxicologiques sur la santé humaine : substances cancérogènes  \\\n",
       "0                                            0.21400                      \n",
       "1                                            0.51600                      \n",
       "2                                            0.73000                      \n",
       "3                                            0.01140                      \n",
       "4                                            0.00239                      \n",
       "\n",
       "   Acidification terrestre et eaux douces  Eutrophisation eaux douces  \\\n",
       "0                                0.002670                1.160000e-07   \n",
       "1                                0.001090                2.810000e-08   \n",
       "2                                0.003770                1.440000e-07   \n",
       "3                                0.000890                2.640000e-08   \n",
       "4                                0.000045                8.710000e-10   \n",
       "\n",
       "   Eutrophisation marine  Eutrophisation terrestre  \\\n",
       "0           4.070000e-08              1.240000e-09   \n",
       "1           7.160000e-09              2.340000e-10   \n",
       "2           4.780000e-08              1.470000e-09   \n",
       "3           2.050000e-08              4.180000e-10   \n",
       "4           3.390000e-10              1.370000e-11   \n",
       "\n",
       "   Écotoxicité pour écosystèmes aquatiques d'eau douce  Utilisation du sol  \\\n",
       "0                                           0.017200              0.000222   \n",
       "1                                           0.002160              0.000090   \n",
       "2                                           0.019300              0.000312   \n",
       "3                                           0.003770              0.000052   \n",
       "4                                           0.000111              0.000003   \n",
       "\n",
       "   Épuisement des ressources eau  Épuisement des ressources énergétiques  \\\n",
       "0                       0.005420                                0.072300   \n",
       "1                       0.001300                                0.006980   \n",
       "2                       0.006730                                0.079300   \n",
       "3                       0.001740                                0.015800   \n",
       "4                       0.000125                                0.000408   \n",
       "\n",
       "   Épuisement des ressources minéraux  Pt/kg de produit  \\\n",
       "0                              17.500            90.100   \n",
       "1                               2.310             9.060   \n",
       "2                              19.900            99.200   \n",
       "3                               5.580            54.300   \n",
       "4                               0.231             0.998   \n",
       "\n",
       "   m3 depriv./kg de produit  MJ/kg de produit  kg Sb eq/kg de produit  \n",
       "0                     0.310             8.090            1.480000e-05  \n",
       "1                     0.144            15.300            2.320000e-06  \n",
       "2                     0.455            23.400            1.710000e-05  \n",
       "3                     1.950             1.720            1.890000e-06  \n",
       "4                     0.165             0.138            1.520000e-07  "
      ]
     },
     "execution_count": 232,
     "metadata": {},
     "output_type": "execute_result"
    }
   ],
   "source": [
    "data_ingredients_num=data_ingredients.copy()\n",
    "columns_to_delete = ['Ciqual AGB', 'Ciqual code', 'Groupe d\\'aliment', 'Sous-groupe d\\'aliment','Sous-groupe','Nom Français', 'LCI Name','Code et Nom','Ingredients','Groupe']\n",
    "for column in columns_to_delete:\n",
    "    del data_ingredients_num[column]\n",
    "data_ingredients_num.head()"
   ]
  },
  {
   "cell_type": "code",
   "execution_count": null,
   "metadata": {},
   "outputs": [
    {
     "data": {
      "text/plain": [
       "array([[0.01524262, 0.0143953 , 0.01383906, ..., 0.19157954, 0.01137834,\n",
       "        0.07664894],\n",
       "       [0.00538625, 0.00363527, 0.01797869, ..., 0.18803108, 0.02151899,\n",
       "        0.01201524],\n",
       "       [0.01972279, 0.01803967, 0.03172709, ..., 0.1946791 , 0.03291139,\n",
       "        0.0885606 ],\n",
       "       ...,\n",
       "       [0.00267477, 0.00192017, 0.00407305, ..., 0.18699445, 0.00210407,\n",
       "        0.00515217],\n",
       "       [0.00950514, 0.0067775 , 0.02361994, ..., 0.19106258, 0.04616268,\n",
       "        0.03302887],\n",
       "       [0.07717028, 0.05500524, 0.22218148, ..., 0.27108246, 0.13559003,\n",
       "        0.13131328]])"
      ]
     },
     "execution_count": 233,
     "metadata": {},
     "output_type": "execute_result"
    }
   ],
   "source": [
    "data_ingredients_num_normal=clust.normalisation(data_ingredients_num)\n",
    "data_ingredients_num_normal = np.array(data_ingredients_num_normal)\n",
    "data_ingredients_num_normal"
   ]
  },
  {
   "cell_type": "code",
   "execution_count": null,
   "metadata": {},
   "outputs": [],
   "source": [
    "# Copie les étiquettes de la colonne 'Groupe d\\'aliment'\n",
    "food_group_labels = data_ingredients['Groupe d\\'aliment']\n",
    "# Initialise un tableau numpy de zéros de la même taille que 'food_group_labels'\n",
    "target_labels = np.zeros_like(food_group_labels)\n",
    "\n",
    "# Boucle qui attribue à chaque élément de 'target_labels' la valeur correspondante de 'target'\n",
    "for index, label in enumerate(target): \n",
    "    target_labels[np.where(food_group_labels == label)[0]] = index\n",
    "    "
   ]
  },
  {
   "attachments": {},
   "cell_type": "markdown",
   "metadata": {},
   "source": [
    "### KNN"
   ]
  },
  {
   "cell_type": "code",
   "execution_count": null,
   "metadata": {},
   "outputs": [],
   "source": [
    "# Création d'une permutation aléatoire des indices de 'target_labels'\n",
    "random_permutation = np.random.permutation(np.arange(target_labels.size))\n",
    "# Application de cette permutation à 'data_ingredients_num_normal' et 'target_labels'\n",
    "perm_feat = data_ingredients_num_normal[random_permutation]\n",
    "perm_label = target_labels[random_permutation]"
   ]
  },
  {
   "cell_type": "code",
   "execution_count": null,
   "metadata": {},
   "outputs": [
    {
     "name": "stdout",
     "output_type": "stream",
     "text": [
      "0\n",
      "0.9013157894736842\n",
      "1\n",
      "0.9002778183945022\n",
      "2\n",
      "0.9004094764551038\n",
      "3\n"
     ]
    },
    {
     "ename": "KeyboardInterrupt",
     "evalue": "",
     "output_type": "error",
     "traceback": [
      "\u001b[0;31m---------------------------------------------------------------------------\u001b[0m",
      "\u001b[0;31mKeyboardInterrupt\u001b[0m                         Traceback (most recent call last)",
      "\u001b[1;32m/mnt/c/Users/ndiay/Documents/School/3-2/S6/IADS/Tarek_Slim_Ball/projet/projet-2-SLIM_ATBI_BALL.ipynb Cell 157\u001b[0m in \u001b[0;36m<module>\u001b[0;34m\u001b[0m\n\u001b[1;32m     <a href='vscode-notebook-cell://wsl%2Bubuntu/mnt/c/Users/ndiay/Documents/School/3-2/S6/IADS/Tarek_Slim_Ball/projet/projet-2-SLIM_ATBI_BALL.ipynb#Y245sdnNjb2RlLXJlbW90ZQ%3D%3D?line=19'>20</a>\u001b[0m \u001b[39m# Entraînement du classificateur sur l'ensemble d'apprentissage\u001b[39;00m\n\u001b[1;32m     <a href='vscode-notebook-cell://wsl%2Bubuntu/mnt/c/Users/ndiay/Documents/School/3-2/S6/IADS/Tarek_Slim_Ball/projet/projet-2-SLIM_ATBI_BALL.ipynb#Y245sdnNjb2RlLXJlbW90ZQ%3D%3D?line=20'>21</a>\u001b[0m trained_classifier\u001b[39m.\u001b[39mtrain(X_train, y_train)\n\u001b[0;32m---> <a href='vscode-notebook-cell://wsl%2Bubuntu/mnt/c/Users/ndiay/Documents/School/3-2/S6/IADS/Tarek_Slim_Ball/projet/projet-2-SLIM_ATBI_BALL.ipynb#Y245sdnNjb2RlLXJlbW90ZQ%3D%3D?line=22'>23</a>\u001b[0m a\u001b[39m=\u001b[39mtrained_classifier\u001b[39m.\u001b[39;49maccuracy(X_train, y_train)\n\u001b[1;32m     <a href='vscode-notebook-cell://wsl%2Bubuntu/mnt/c/Users/ndiay/Documents/School/3-2/S6/IADS/Tarek_Slim_Ball/projet/projet-2-SLIM_ATBI_BALL.ipynb#Y245sdnNjb2RlLXJlbW90ZQ%3D%3D?line=23'>24</a>\u001b[0m \u001b[39mprint\u001b[39m(a)\n\u001b[1;32m     <a href='vscode-notebook-cell://wsl%2Bubuntu/mnt/c/Users/ndiay/Documents/School/3-2/S6/IADS/Tarek_Slim_Ball/projet/projet-2-SLIM_ATBI_BALL.ipynb#Y245sdnNjb2RlLXJlbW90ZQ%3D%3D?line=24'>25</a>\u001b[0m \u001b[39m# Calcul de la précision de la prédiction sur l'ensemble d'apprentissage et ajout à la liste 'training_accuracy'\u001b[39;00m\n",
      "File \u001b[0;32m/mnt/c/Users/ndiay/Documents/School/3-2/S6/IADS/Tarek_Slim_Ball/projet/../iads/Classifiers.py:69\u001b[0m, in \u001b[0;36mClassifier.accuracy\u001b[0;34m(self, desc_set, label_set)\u001b[0m\n\u001b[1;32m     67\u001b[0m acc\u001b[39m=\u001b[39m\u001b[39m0\u001b[39m\n\u001b[1;32m     68\u001b[0m \u001b[39mfor\u001b[39;00m i \u001b[39min\u001b[39;00m \u001b[39mrange\u001b[39m(\u001b[39m0\u001b[39m,\u001b[39mlen\u001b[39m(desc_set)):\n\u001b[0;32m---> 69\u001b[0m     pred\u001b[39m=\u001b[39m\u001b[39mself\u001b[39;49m\u001b[39m.\u001b[39;49mpredict(desc_set[i])\n\u001b[1;32m     70\u001b[0m     \u001b[39m#print(pred == label_set[i])\u001b[39;00m\n\u001b[1;32m     71\u001b[0m     \u001b[39mif\u001b[39;00m(pred \u001b[39m==\u001b[39m label_set[i]):\n",
      "File \u001b[0;32m/mnt/c/Users/ndiay/Documents/School/3-2/S6/IADS/Tarek_Slim_Ball/projet/../iads/Classifiers.py:149\u001b[0m, in \u001b[0;36mClassifierKNN_MC.predict\u001b[0;34m(self, x)\u001b[0m\n\u001b[1;32m    148\u001b[0m \u001b[39mdef\u001b[39;00m \u001b[39mpredict\u001b[39m(\u001b[39mself\u001b[39m, x):\n\u001b[0;32m--> 149\u001b[0m     \u001b[39mreturn\u001b[39;00m \u001b[39mself\u001b[39;49m\u001b[39m.\u001b[39;49mscore(x)\u001b[39m*\u001b[39m\u001b[39mself\u001b[39m\u001b[39m.\u001b[39mnb_class\n",
      "File \u001b[0;32m/mnt/c/Users/ndiay/Documents/School/3-2/S6/IADS/Tarek_Slim_Ball/projet/../iads/Classifiers.py:142\u001b[0m, in \u001b[0;36mClassifierKNN_MC.score\u001b[0;34m(self, x)\u001b[0m\n\u001b[1;32m    141\u001b[0m \u001b[39mdef\u001b[39;00m \u001b[39mscore\u001b[39m(\u001b[39mself\u001b[39m, x):\n\u001b[0;32m--> 142\u001b[0m     dist \u001b[39m=\u001b[39m np\u001b[39m.\u001b[39mlinalg\u001b[39m.\u001b[39mnorm(\u001b[39mself\u001b[39;49m\u001b[39m.\u001b[39;49mdata_set\u001b[39m-\u001b[39;49mx, axis\u001b[39m=\u001b[39m\u001b[39m1\u001b[39m)\n\u001b[1;32m    143\u001b[0m     argsort \u001b[39m=\u001b[39m np\u001b[39m.\u001b[39margsort(dist)\n\u001b[1;32m    144\u001b[0m     classes \u001b[39m=\u001b[39m \u001b[39mself\u001b[39m\u001b[39m.\u001b[39mlabel_set[argsort[:\u001b[39mself\u001b[39m\u001b[39m.\u001b[39mk]]\n",
      "\u001b[0;31mKeyboardInterrupt\u001b[0m: "
     ]
    }
   ],
   "source": [
    "# Définition du nombre de subdivisions pour la validation croisée\n",
    "num_folds = 10\n",
    "\n",
    "# Initialisation du classificateur k-NN avec k = 2, la dimension de l'espace des attributs = 17 et la taille du voisinage pour le calcul des poids = 11\n",
    "knn_classifier = cl.ClassifierKNN_MC(17, 2, 11)\n",
    "\n",
    "# Création de listes vides pour stocker les précisions des prédictions pour l'ensemble d'apprentissage et de test\n",
    "training_accuracy = []\n",
    "test_accuracy = []\n",
    "\n",
    "# Boucle sur chaque subdivision de la validation croisée\n",
    "for i in range(num_folds+1):\n",
    "    print(i)\n",
    "    # Division des données en ensembles d'apprentissage et de test\n",
    "    X_train, y_train, X_test, y_test = ut.crossval_strat(perm_feat, perm_label, num_folds, i)\n",
    "    \n",
    "    # Copie du classificateur k-NN\n",
    "    trained_classifier = copy.deepcopy(knn_classifier)\n",
    "    \n",
    "    # Entraînement du classificateur sur l'ensemble d'apprentissage\n",
    "    trained_classifier.train(X_train, y_train)\n",
    "    \n",
    "    a=trained_classifier.accuracy(X_train, y_train)\n",
    "    print(a)\n",
    "    # Calcul de la précision de la prédiction sur l'ensemble d'apprentissage et ajout à la liste 'training_accuracy'\n",
    "    training_accuracy.append(a)\n",
    "    \n",
    "    # Calcul de la précision de la prédiction sur l'ensemble de test et ajout à la liste 'test_accuracy'\n",
    "    test_accuracy.append(trained_classifier.accuracy(X_test, y_test))"
   ]
  },
  {
   "cell_type": "code",
   "execution_count": null,
   "metadata": {},
   "outputs": [],
   "source": [
    "print(training_accuracy)\n",
    "print (\"moyenne: \" ,np.mean(training_accuracy))\n",
    "print (\"variance: \", np.var(training_accuracy))"
   ]
  },
  {
   "cell_type": "code",
   "execution_count": null,
   "metadata": {},
   "outputs": [],
   "source": [
    "print(test_accuracy)\n",
    "print (\"moyenne: \" ,np.mean(test_accuracy))\n",
    "print (\"variance: \", np.var(test_accuracy))\n",
    "print(len(training_accuracy))"
   ]
  },
  {
   "attachments": {},
   "cell_type": "markdown",
   "metadata": {},
   "source": [
    "#### Resulat "
   ]
  },
  {
   "cell_type": "code",
   "execution_count": null,
   "metadata": {},
   "outputs": [],
   "source": [
    "x_values = range(len(test_accuracy))\n",
    "\n",
    "plt.figure(figsize=(10, 6))\n",
    "\n",
    "# Plot training accuracy\n",
    "plt.plot(x_values, training_accuracy, label='Training Accuracy', marker='o')\n",
    "\n",
    "# Plot test accuracy\n",
    "plt.plot(x_values, test_accuracy, label='Test Accuracy', marker='o')\n",
    "\n",
    "plt.title('Performances KNN - Groupe d\\'aliments')\n",
    "plt.xlabel('Cross-Validation iteration')\n",
    "plt.ylabel('Accuracy')\n",
    "plt.legend()\n",
    "plt.show()"
   ]
  },
  {
   "attachments": {},
   "cell_type": "markdown",
   "metadata": {},
   "source": [
    "##### On constate une  instabilité/variance dans les accuracy du test\n"
   ]
  },
  {
   "attachments": {},
   "cell_type": "markdown",
   "metadata": {},
   "source": [
    "#### Recherche k optimal"
   ]
  },
  {
   "cell_type": "code",
   "execution_count": null,
   "metadata": {},
   "outputs": [],
   "source": [
    "def k_opt(desc_set, label_set, dimension, num_classes, retour=True, graphe=True):\n",
    "    \"\"\"\n",
    "    Fonction qui permet de déterminer le nombre optimal de voisins K pour un classificateur KNN multiclasse.\n",
    "    :param desc_set: un numpy array représentant les données d'entrée\n",
    "    :param label_set: un numpy array représentant les étiquettes de classe correspondantes pour chaque donnée\n",
    "    :param dimension: la dimension de l'espace d'entrée\n",
    "    :param num_classes: le nombre de classes distinctes\n",
    "    \"\"\"\n",
    "    max_k = int(np.sqrt(len(desc_set)))\n",
    "    KNN_test_acc=[]\n",
    "    List_k=[]\n",
    "    for k in range(1, max_k, 2):\n",
    "        # appel à la fonction crossval_strat() pour obtenir les données de train et de test\n",
    "        desc_train, label_train, desc_test, label_test = ut.crossval_strat(desc_set, label_set, 10, 2)\n",
    "        \n",
    "        # initialisation d'un classificateur KNN multiclasse\n",
    "        classifeurKNN_MC = cl.ClassifierKNN_MC(dimension, k, num_classes)\n",
    "        List_k.append(k)\n",
    "        \n",
    "        # entrainement du modèle sur les données de train\n",
    "        classifeurKNN_MC.train(desc_train, label_train)\n",
    "        accKNN = classifeurKNN_MC.accuracy(desc_test, label_test)\n",
    "        KNN_test_acc.append(accKNN)\n",
    "    \n",
    "    # l'indice du maximum de la liste d'accuracy\n",
    "    index = np.argmax(KNN_test_acc)\n",
    "    \n",
    "    if graphe:\n",
    "        plt.plot(List_k, KNN_test_acc)\n",
    "        plt.title(\"Le variation de taux accuracy en fonction de k\")\n",
    "        plt.ylabel(\"Le taux de Accuracy\")\n",
    "        plt.xlabel(\"Le valeur de K\")\n",
    "        plt.show()\n",
    "\n",
    "    if retour:\n",
    "        return 2*index + 1"
   ]
  },
  {
   "attachments": {},
   "cell_type": "markdown",
   "metadata": {},
   "source": [
    "#### KNN optimal K\n"
   ]
  },
  {
   "cell_type": "code",
   "execution_count": null,
   "metadata": {},
   "outputs": [],
   "source": [
    "k_optimal=k_opt(perm_feat,perm_label,17,11)\n",
    "k_optimal"
   ]
  },
  {
   "cell_type": "code",
   "execution_count": null,
   "metadata": {},
   "outputs": [],
   "source": [
    "\n",
    "knn_classifier = cl.ClassifierKNN_MC(17, k_optimal, 11)\n",
    "X_train, y_train, X_test, y_test = ut.crossval_strat(perm_feat, perm_label, 11, 2)\n",
    "knn_classifier.train(X_train,y_train)\n",
    "knn_classifier.accuracy(X_test,y_test)"
   ]
  },
  {
   "cell_type": "code",
   "execution_count": null,
   "metadata": {},
   "outputs": [],
   "source": []
  },
  {
   "attachments": {},
   "cell_type": "markdown",
   "metadata": {},
   "source": [
    "### non supervisé : k means\n"
   ]
  },
  {
   "cell_type": "code",
   "execution_count": null,
   "metadata": {},
   "outputs": [
    {
     "data": {
      "text/html": [
       "<div>\n",
       "<style scoped>\n",
       "    .dataframe tbody tr th:only-of-type {\n",
       "        vertical-align: middle;\n",
       "    }\n",
       "\n",
       "    .dataframe tbody tr th {\n",
       "        vertical-align: top;\n",
       "    }\n",
       "\n",
       "    .dataframe thead th {\n",
       "        text-align: right;\n",
       "    }\n",
       "</style>\n",
       "<table border=\"1\" class=\"dataframe\">\n",
       "  <thead>\n",
       "    <tr style=\"text-align: right;\">\n",
       "      <th></th>\n",
       "      <th>Agriculture</th>\n",
       "      <th>Transformation</th>\n",
       "      <th>Emballage</th>\n",
       "      <th>Transport</th>\n",
       "      <th>Supermarché et distribution</th>\n",
       "      <th>Consommation</th>\n",
       "      <th>Total</th>\n",
       "      <th>Agriculture.1</th>\n",
       "      <th>Transformation.1</th>\n",
       "      <th>Emballage.1</th>\n",
       "      <th>...</th>\n",
       "      <th>Emballage.16</th>\n",
       "      <th>Transport.16</th>\n",
       "      <th>Supermarché et distribution.16</th>\n",
       "      <th>Consommation.16</th>\n",
       "      <th>Total.16</th>\n",
       "      <th>DQR Overall</th>\n",
       "      <th>P</th>\n",
       "      <th>TiR</th>\n",
       "      <th>GR</th>\n",
       "      <th>TeR</th>\n",
       "    </tr>\n",
       "  </thead>\n",
       "  <tbody>\n",
       "    <tr>\n",
       "      <th>0</th>\n",
       "      <td>0.654812</td>\n",
       "      <td>0.500987</td>\n",
       "      <td>0.024443</td>\n",
       "      <td>0.046250</td>\n",
       "      <td>0.004981</td>\n",
       "      <td>0.000407</td>\n",
       "      <td>1.231879</td>\n",
       "      <td>4.569259</td>\n",
       "      <td>1.492415</td>\n",
       "      <td>0.290252</td>\n",
       "      <td>...</td>\n",
       "      <td>0.001043</td>\n",
       "      <td>0.000899</td>\n",
       "      <td>0.000460</td>\n",
       "      <td>0.000002</td>\n",
       "      <td>0.087558</td>\n",
       "      <td>2.99</td>\n",
       "      <td>3.51</td>\n",
       "      <td>1.32</td>\n",
       "      <td>4.33</td>\n",
       "      <td>2.79</td>\n",
       "    </tr>\n",
       "    <tr>\n",
       "      <th>1</th>\n",
       "      <td>0.032661</td>\n",
       "      <td>0.000000</td>\n",
       "      <td>0.050709</td>\n",
       "      <td>0.015277</td>\n",
       "      <td>0.004503</td>\n",
       "      <td>0.000000</td>\n",
       "      <td>0.103150</td>\n",
       "      <td>0.066043</td>\n",
       "      <td>0.000000</td>\n",
       "      <td>0.478390</td>\n",
       "      <td>...</td>\n",
       "      <td>0.003464</td>\n",
       "      <td>0.000671</td>\n",
       "      <td>0.000440</td>\n",
       "      <td>0.000000</td>\n",
       "      <td>0.006605</td>\n",
       "      <td>4.11</td>\n",
       "      <td>4.27</td>\n",
       "      <td>4.39</td>\n",
       "      <td>2.79</td>\n",
       "      <td>5.00</td>\n",
       "    </tr>\n",
       "    <tr>\n",
       "      <th>2</th>\n",
       "      <td>0.040826</td>\n",
       "      <td>0.000000</td>\n",
       "      <td>0.000000</td>\n",
       "      <td>0.014071</td>\n",
       "      <td>0.005629</td>\n",
       "      <td>0.003288</td>\n",
       "      <td>0.063814</td>\n",
       "      <td>0.082554</td>\n",
       "      <td>0.000000</td>\n",
       "      <td>0.000000</td>\n",
       "      <td>...</td>\n",
       "      <td>0.000000</td>\n",
       "      <td>0.000614</td>\n",
       "      <td>0.000550</td>\n",
       "      <td>0.000016</td>\n",
       "      <td>0.003717</td>\n",
       "      <td>3.54</td>\n",
       "      <td>2.74</td>\n",
       "      <td>4.28</td>\n",
       "      <td>2.80</td>\n",
       "      <td>4.34</td>\n",
       "    </tr>\n",
       "    <tr>\n",
       "      <th>3</th>\n",
       "      <td>0.082933</td>\n",
       "      <td>0.000000</td>\n",
       "      <td>0.027221</td>\n",
       "      <td>0.013011</td>\n",
       "      <td>0.005629</td>\n",
       "      <td>0.003288</td>\n",
       "      <td>0.132081</td>\n",
       "      <td>0.222514</td>\n",
       "      <td>0.000000</td>\n",
       "      <td>0.329456</td>\n",
       "      <td>...</td>\n",
       "      <td>0.001150</td>\n",
       "      <td>0.000583</td>\n",
       "      <td>0.000550</td>\n",
       "      <td>0.000016</td>\n",
       "      <td>0.004779</td>\n",
       "      <td>3.75</td>\n",
       "      <td>2.74</td>\n",
       "      <td>3.62</td>\n",
       "      <td>4.33</td>\n",
       "      <td>4.33</td>\n",
       "    </tr>\n",
       "    <tr>\n",
       "      <th>4</th>\n",
       "      <td>0.654812</td>\n",
       "      <td>0.500987</td>\n",
       "      <td>0.024443</td>\n",
       "      <td>0.046250</td>\n",
       "      <td>0.004981</td>\n",
       "      <td>0.000407</td>\n",
       "      <td>1.231879</td>\n",
       "      <td>4.569259</td>\n",
       "      <td>1.492415</td>\n",
       "      <td>0.290252</td>\n",
       "      <td>...</td>\n",
       "      <td>0.001043</td>\n",
       "      <td>0.000899</td>\n",
       "      <td>0.000460</td>\n",
       "      <td>0.000002</td>\n",
       "      <td>0.087558</td>\n",
       "      <td>2.99</td>\n",
       "      <td>3.51</td>\n",
       "      <td>1.32</td>\n",
       "      <td>4.33</td>\n",
       "      <td>2.79</td>\n",
       "    </tr>\n",
       "    <tr>\n",
       "      <th>...</th>\n",
       "      <td>...</td>\n",
       "      <td>...</td>\n",
       "      <td>...</td>\n",
       "      <td>...</td>\n",
       "      <td>...</td>\n",
       "      <td>...</td>\n",
       "      <td>...</td>\n",
       "      <td>...</td>\n",
       "      <td>...</td>\n",
       "      <td>...</td>\n",
       "      <td>...</td>\n",
       "      <td>...</td>\n",
       "      <td>...</td>\n",
       "      <td>...</td>\n",
       "      <td>...</td>\n",
       "      <td>...</td>\n",
       "      <td>...</td>\n",
       "      <td>...</td>\n",
       "      <td>...</td>\n",
       "      <td>...</td>\n",
       "      <td>...</td>\n",
       "    </tr>\n",
       "    <tr>\n",
       "      <th>2512</th>\n",
       "      <td>2.085451</td>\n",
       "      <td>0.045533</td>\n",
       "      <td>0.017899</td>\n",
       "      <td>0.016104</td>\n",
       "      <td>0.009053</td>\n",
       "      <td>0.002455</td>\n",
       "      <td>2.176494</td>\n",
       "      <td>21.683172</td>\n",
       "      <td>0.241985</td>\n",
       "      <td>0.275642</td>\n",
       "      <td>...</td>\n",
       "      <td>0.000034</td>\n",
       "      <td>0.000926</td>\n",
       "      <td>0.000914</td>\n",
       "      <td>0.000263</td>\n",
       "      <td>0.038303</td>\n",
       "      <td>2.47</td>\n",
       "      <td>3.77</td>\n",
       "      <td>2.02</td>\n",
       "      <td>2.01</td>\n",
       "      <td>2.08</td>\n",
       "    </tr>\n",
       "    <tr>\n",
       "      <th>2513</th>\n",
       "      <td>2.147376</td>\n",
       "      <td>0.010702</td>\n",
       "      <td>0.028263</td>\n",
       "      <td>0.024679</td>\n",
       "      <td>0.014295</td>\n",
       "      <td>0.033860</td>\n",
       "      <td>2.259175</td>\n",
       "      <td>22.327031</td>\n",
       "      <td>0.074157</td>\n",
       "      <td>0.435259</td>\n",
       "      <td>...</td>\n",
       "      <td>0.000053</td>\n",
       "      <td>0.001432</td>\n",
       "      <td>0.001443</td>\n",
       "      <td>0.002279</td>\n",
       "      <td>0.041251</td>\n",
       "      <td>2.45</td>\n",
       "      <td>3.66</td>\n",
       "      <td>1.28</td>\n",
       "      <td>2.04</td>\n",
       "      <td>2.82</td>\n",
       "    </tr>\n",
       "    <tr>\n",
       "      <th>2514</th>\n",
       "      <td>0.719615</td>\n",
       "      <td>0.000000</td>\n",
       "      <td>0.017899</td>\n",
       "      <td>0.067222</td>\n",
       "      <td>0.009053</td>\n",
       "      <td>0.002455</td>\n",
       "      <td>0.816244</td>\n",
       "      <td>3.143568</td>\n",
       "      <td>0.000000</td>\n",
       "      <td>0.275642</td>\n",
       "      <td>...</td>\n",
       "      <td>0.000034</td>\n",
       "      <td>0.003652</td>\n",
       "      <td>0.000914</td>\n",
       "      <td>0.000263</td>\n",
       "      <td>0.163057</td>\n",
       "      <td>3.68</td>\n",
       "      <td>4.60</td>\n",
       "      <td>2.54</td>\n",
       "      <td>2.59</td>\n",
       "      <td>5.00</td>\n",
       "    </tr>\n",
       "    <tr>\n",
       "      <th>2515</th>\n",
       "      <td>0.878692</td>\n",
       "      <td>0.000000</td>\n",
       "      <td>0.018973</td>\n",
       "      <td>0.082082</td>\n",
       "      <td>0.011054</td>\n",
       "      <td>0.034592</td>\n",
       "      <td>1.025393</td>\n",
       "      <td>3.838479</td>\n",
       "      <td>0.000000</td>\n",
       "      <td>0.225346</td>\n",
       "      <td>...</td>\n",
       "      <td>0.000939</td>\n",
       "      <td>0.004459</td>\n",
       "      <td>0.001116</td>\n",
       "      <td>0.003711</td>\n",
       "      <td>0.203390</td>\n",
       "      <td>3.56</td>\n",
       "      <td>4.30</td>\n",
       "      <td>2.62</td>\n",
       "      <td>2.34</td>\n",
       "      <td>5.00</td>\n",
       "    </tr>\n",
       "    <tr>\n",
       "      <th>2516</th>\n",
       "      <td>0.633044</td>\n",
       "      <td>0.129015</td>\n",
       "      <td>0.039739</td>\n",
       "      <td>0.016279</td>\n",
       "      <td>0.009087</td>\n",
       "      <td>0.034049</td>\n",
       "      <td>0.861212</td>\n",
       "      <td>4.633708</td>\n",
       "      <td>0.589396</td>\n",
       "      <td>0.476451</td>\n",
       "      <td>...</td>\n",
       "      <td>0.001633</td>\n",
       "      <td>0.000944</td>\n",
       "      <td>0.000915</td>\n",
       "      <td>0.003653</td>\n",
       "      <td>0.025358</td>\n",
       "      <td>2.79</td>\n",
       "      <td>3.77</td>\n",
       "      <td>2.32</td>\n",
       "      <td>1.63</td>\n",
       "      <td>3.42</td>\n",
       "    </tr>\n",
       "  </tbody>\n",
       "</table>\n",
       "<p>2517 rows × 124 columns</p>\n",
       "</div>"
      ],
      "text/plain": [
       "      Agriculture  Transformation  Emballage  Transport  \\\n",
       "0        0.654812        0.500987   0.024443   0.046250   \n",
       "1        0.032661        0.000000   0.050709   0.015277   \n",
       "2        0.040826        0.000000   0.000000   0.014071   \n",
       "3        0.082933        0.000000   0.027221   0.013011   \n",
       "4        0.654812        0.500987   0.024443   0.046250   \n",
       "...           ...             ...        ...        ...   \n",
       "2512     2.085451        0.045533   0.017899   0.016104   \n",
       "2513     2.147376        0.010702   0.028263   0.024679   \n",
       "2514     0.719615        0.000000   0.017899   0.067222   \n",
       "2515     0.878692        0.000000   0.018973   0.082082   \n",
       "2516     0.633044        0.129015   0.039739   0.016279   \n",
       "\n",
       "      Supermarché et distribution  Consommation     Total  Agriculture.1  \\\n",
       "0                        0.004981      0.000407  1.231879       4.569259   \n",
       "1                        0.004503      0.000000  0.103150       0.066043   \n",
       "2                        0.005629      0.003288  0.063814       0.082554   \n",
       "3                        0.005629      0.003288  0.132081       0.222514   \n",
       "4                        0.004981      0.000407  1.231879       4.569259   \n",
       "...                           ...           ...       ...            ...   \n",
       "2512                     0.009053      0.002455  2.176494      21.683172   \n",
       "2513                     0.014295      0.033860  2.259175      22.327031   \n",
       "2514                     0.009053      0.002455  0.816244       3.143568   \n",
       "2515                     0.011054      0.034592  1.025393       3.838479   \n",
       "2516                     0.009087      0.034049  0.861212       4.633708   \n",
       "\n",
       "      Transformation.1  Emballage.1  ...  Emballage.16  Transport.16  \\\n",
       "0             1.492415     0.290252  ...      0.001043      0.000899   \n",
       "1             0.000000     0.478390  ...      0.003464      0.000671   \n",
       "2             0.000000     0.000000  ...      0.000000      0.000614   \n",
       "3             0.000000     0.329456  ...      0.001150      0.000583   \n",
       "4             1.492415     0.290252  ...      0.001043      0.000899   \n",
       "...                ...          ...  ...           ...           ...   \n",
       "2512          0.241985     0.275642  ...      0.000034      0.000926   \n",
       "2513          0.074157     0.435259  ...      0.000053      0.001432   \n",
       "2514          0.000000     0.275642  ...      0.000034      0.003652   \n",
       "2515          0.000000     0.225346  ...      0.000939      0.004459   \n",
       "2516          0.589396     0.476451  ...      0.001633      0.000944   \n",
       "\n",
       "      Supermarché et distribution.16  Consommation.16  Total.16  DQR Overall  \\\n",
       "0                           0.000460         0.000002  0.087558         2.99   \n",
       "1                           0.000440         0.000000  0.006605         4.11   \n",
       "2                           0.000550         0.000016  0.003717         3.54   \n",
       "3                           0.000550         0.000016  0.004779         3.75   \n",
       "4                           0.000460         0.000002  0.087558         2.99   \n",
       "...                              ...              ...       ...          ...   \n",
       "2512                        0.000914         0.000263  0.038303         2.47   \n",
       "2513                        0.001443         0.002279  0.041251         2.45   \n",
       "2514                        0.000914         0.000263  0.163057         3.68   \n",
       "2515                        0.001116         0.003711  0.203390         3.56   \n",
       "2516                        0.000915         0.003653  0.025358         2.79   \n",
       "\n",
       "         P   TiR    GR   TeR  \n",
       "0     3.51  1.32  4.33  2.79  \n",
       "1     4.27  4.39  2.79  5.00  \n",
       "2     2.74  4.28  2.80  4.34  \n",
       "3     2.74  3.62  4.33  4.33  \n",
       "4     3.51  1.32  4.33  2.79  \n",
       "...    ...   ...   ...   ...  \n",
       "2512  3.77  2.02  2.01  2.08  \n",
       "2513  3.66  1.28  2.04  2.82  \n",
       "2514  4.60  2.54  2.59  5.00  \n",
       "2515  4.30  2.62  2.34  5.00  \n",
       "2516  3.77  2.32  1.63  3.42  \n",
       "\n",
       "[2517 rows x 124 columns]"
      ]
     },
     "execution_count": 38,
     "metadata": {},
     "output_type": "execute_result"
    }
   ],
   "source": [
    "data_et=data_etapes.copy()\n",
    "sup = ['Code AGB', 'Code CIQUAL', 'Groupe d aliment', 'Sous-groupe d aliment','Nom du Produit en Français', 'LCI Name', 'Nom et code','DQR']\n",
    "for column in sup:\n",
    "    del data_et[column]\n",
    "data_et"
   ]
  },
  {
   "cell_type": "code",
   "execution_count": null,
   "metadata": {},
   "outputs": [],
   "source": [
    "list_k=[i+2 for i in range(11)]\n",
    "list_Centres_et_U=[]\n",
    "for k in list_k:\n",
    "    #print(k)\n",
    "    Centres,U=clust.kmoyennes(k,data_et,0.05,100,False)\n",
    "    list_Centres_et_U.append((Centres,U))\n",
    "    \n",
    "list_Index_Dunn=[]\n",
    "for k in list_k:\n",
    "    #print(k)\n",
    "    index_Dunn_k=clust.index_Dunn(data_et,list_Centres_et_U[k-2][0],list_Centres_et_U[k-2][1])\n",
    "    list_Index_Dunn.append(index_Dunn_k)\n",
    "\n",
    "plt.figure(figsize=(8, 6))\n",
    "plt.title('Index de Dunn - K-Moyennes')\n",
    "plt.plot(list_k,list_Index_Dunn)\n",
    "plt.xlabel('K')\n",
    "plt.ylabel('Index')\n",
    "plt.show()"
   ]
  },
  {
   "cell_type": "code",
   "execution_count": null,
   "metadata": {},
   "outputs": [],
   "source": [
    "data_etape_norml=clust.normalisation(data_et)"
   ]
  },
  {
   "cell_type": "code",
   "execution_count": null,
   "metadata": {},
   "outputs": [],
   "source": [
    "np.random.seed(42)\n",
    "les_centres, l_affectation = clust.kmoyennes(11,data_etape_norml, 0.05, 100)\n",
    "print(les_centres)\n",
    "clust.affiche_resultat(data_etape_norml,les_centres,l_affectation)"
   ]
  },
  {
   "cell_type": "code",
   "execution_count": null,
   "metadata": {},
   "outputs": [],
   "source": [
    "print(len(les_centres))"
   ]
  },
  {
   "cell_type": "code",
   "execution_count": null,
   "metadata": {},
   "outputs": [],
   "source": [
    "nb=0\n",
    "for group in l_affectation:\n",
    "    nb=nb+len(l_affectation[group])\n",
    "    print(\"Le groupe \",group,\" contient \",len(l_affectation[group]),\"elements\")\n",
    "    \n",
    "print(\"nb :\",nb)"
   ]
  }
 ],
 "metadata": {
  "colab": {
   "provenance": []
  },
  "kernelspec": {
   "display_name": "Python 3 (ipykernel)",
   "language": "python",
   "name": "python3"
  },
  "language_info": {
   "codemirror_mode": {
    "name": "ipython",
    "version": 3
   },
   "file_extension": ".py",
   "mimetype": "text/x-python",
   "name": "python",
   "nbconvert_exporter": "python",
   "pygments_lexer": "ipython3",
   "version": "3.8.10"
  }
 },
 "nbformat": 4,
 "nbformat_minor": 1
}
